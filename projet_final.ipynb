{
 "cells": [
  {
   "cell_type": "code",
   "execution_count": 279,
   "id": "bb99f0a1",
   "metadata": {},
   "outputs": [
    {
     "ename": "ModuleNotFoundError",
     "evalue": "No module named 'lat_lon_parser'",
     "output_type": "error",
     "traceback": [
      "\u001b[0;31m---------------------------------------------------------------------------\u001b[0m",
      "\u001b[0;31mModuleNotFoundError\u001b[0m                       Traceback (most recent call last)",
      "\u001b[0;32m<ipython-input-279-20322c0ee02b>\u001b[0m in \u001b[0;36m<module>\u001b[0;34m\u001b[0m\n\u001b[1;32m     16\u001b[0m \u001b[0;32mimport\u001b[0m \u001b[0mseaborn\u001b[0m \u001b[0;32mas\u001b[0m \u001b[0msns\u001b[0m \u001b[0;31m#Visualiser avec seaborn\u001b[0m\u001b[0;34m\u001b[0m\u001b[0;34m\u001b[0m\u001b[0m\n\u001b[1;32m     17\u001b[0m \u001b[0;34m\u001b[0m\u001b[0m\n\u001b[0;32m---> 18\u001b[0;31m \u001b[0;32mimport\u001b[0m \u001b[0mlat_lon_parser\u001b[0m \u001b[0;31m#Convertir coordonnées\u001b[0m\u001b[0;34m\u001b[0m\u001b[0;34m\u001b[0m\u001b[0m\n\u001b[0m",
      "\u001b[0;31mModuleNotFoundError\u001b[0m: No module named 'lat_lon_parser'"
     ]
    }
   ],
   "source": [
    "import os\n",
    "import numpy as np\n",
    "import glob\n",
    "import re\n",
    "import locale \n",
    "import pandas as pd \n",
    "import requests\n",
    "import wget\n",
    "import csv\n",
    "import time\n",
    "import datetime\n",
    "import xlwings as xw\n",
    "import openpyxl\n",
    "from collections import defaultdict\n",
    "import matplotlib.pyplot as plt \n",
    "import seaborn as sns #Visualiser avec seaborn\n",
    "\n",
    "import lat_lon_parser #Convertir coordonnées\n"
   ]
  },
  {
   "cell_type": "markdown",
   "id": "25fd64aa",
   "metadata": {},
   "source": [
    "liens et répertoires"
   ]
  },
  {
   "cell_type": "code",
   "execution_count": 4,
   "id": "5cb372f9",
   "metadata": {},
   "outputs": [],
   "source": [
    "RankURL = \"https://www.vendeeglobe.org/fr/classement\"\n",
    "DLRankURL = \"https://www.vendeeglobe.org/download-race-data/vendeeglobe_\"\n",
    "SkippersURL = \"https://www.vendeeglobe.org/fr/glossaire\"\n"
   ]
  },
  {
   "cell_type": "markdown",
   "id": "649da439",
   "metadata": {},
   "source": [
    "Web scrapping boats data "
   ]
  },
  {
   "cell_type": "code",
   "execution_count": 136,
   "id": "e90ca01d",
   "metadata": {},
   "outputs": [],
   "source": [
    "def load_data():\n",
    "    df=(is_downloadable('http:vendeeglobe.org/fr/classement/20201108_120200'))\n",
    "    #df = pd.read_csv('vendeeglobe.org/fr/classement/20201108_120200')\n",
    "    return df"
   ]
  },
  {
   "cell_type": "code",
   "execution_count": 137,
   "id": "5822ce41",
   "metadata": {},
   "outputs": [],
   "source": [
    "#on check si le lien contient un paquet à télecharger\n",
    "def is_downloadable(url):\n",
    "    \"\"\"\n",
    "    Does the url contain a downloadable resource\n",
    "    \"\"\"\n",
    "    h = requests.head(url, allow_redirects=True)\n",
    "    header = h.headers\n",
    "    content_type = header.get('content-type')\n",
    "    if 'text' in content_type.lower():\n",
    "        return False\n",
    "    if 'html' in content_type.lower():\n",
    "        return False\n",
    "    return True"
   ]
  },
  {
   "cell_type": "markdown",
   "id": "90b75028",
   "metadata": {},
   "source": [
    "Changement du format des data "
   ]
  },
  {
   "cell_type": "markdown",
   "id": "d58b362d",
   "metadata": {},
   "source": [
    "import xlwings\n",
    "import glob\n",
    "\n",
    "def Conv_format (file_name):\n",
    "    excel_app=xlwings.App(visible=False)\n",
    "    excel_book=excel_app.books.open(file)\n",
    "    excel_book.save()\n",
    "    excel_book.close()\n",
    "    excel_app.quit()\n",
    "    return True\n",
    "    \n",
    "for f in glob.glob(\"/Users/mec/Ludo-MEKONTCHOU/Projet final/data/*\"):\n",
    "    Conv_format(f)\n",
    "\n",
    "\n",
    "\n",
    "\n",
    "\n",
    "\n"
   ]
  },
  {
   "cell_type": "markdown",
   "id": "2c29a298",
   "metadata": {},
   "source": [
    "contatenation des données "
   ]
  },
  {
   "cell_type": "code",
   "execution_count": null,
   "id": "2140a01d",
   "metadata": {},
   "outputs": [],
   "source": [
    "#Rajoutons la date et l'heure de la capture de d'information\n",
    "files = glob.glob('/Users/mec/Ludo-MEKONTCHOU/Projet final/excels/*.xlsx')\n",
    "concat=[]\n",
    "for excel in files:\n",
    "    temp=pd.read_excel(excel,header=3,nrows=33)\n",
    "    temp[\"date_export\"]=excel[-20:-5]\n",
    "    temp.to_excel('excel')\n",
    "   # concat.append(temp)"
   ]
  },
  {
   "cell_type": "code",
   "execution_count": 187,
   "id": "f145e353",
   "metadata": {},
   "outputs": [
    {
     "data": {
      "text/plain": [
       "'20201127_140000'"
      ]
     },
     "execution_count": 187,
     "metadata": {},
     "output_type": "execute_result"
    }
   ],
   "source": [
    "test[-20:-5]"
   ]
  },
  {
   "cell_type": "code",
   "execution_count": 189,
   "id": "e9c95714",
   "metadata": {},
   "outputs": [],
   "source": [
    "test='/Users/mec/Ludo-MEKONTCHOU/Projet final/excels/20201127_140000.xlsx'\n",
    "temp=pd.read_excel(test,header=3,nrows=33)\n",
    "temp[\"date_export\"]=test[-20:-5]\n",
    "temp\n",
    "temp.to_excel('/Users/mec/Ludo-MEKONTCHOU/Projet final/excels/test.xlsx')"
   ]
  },
  {
   "cell_type": "code",
   "execution_count": 5,
   "id": "8cdc74f3",
   "metadata": {
    "scrolled": false
   },
   "outputs": [],
   "source": [
    "files = glob.glob('/Users/mec/Ludo-MEKONTCHOU/Projet final/excels/*.xlsx')\n",
    "df=pd.concat(pd.read_excel(excel,header=3,nrows=33) for excel in files)\n",
    "#usecols=(\"B:U\")"
   ]
  },
  {
   "cell_type": "code",
   "execution_count": 8,
   "id": "f6e1566d",
   "metadata": {},
   "outputs": [],
   "source": [
    "#enregistrement de la concatenation pour le plus exécuter \n",
    "df.to_csv('/Users/mec/Ludo-MEKONTCHOU/Projet final/dataconcat/rawexport.csv')"
   ]
  },
  {
   "cell_type": "markdown",
   "id": "3bfe344a",
   "metadata": {},
   "source": [
    "#df2=pd.concat(pd.read_excel(excel, header=[0,1], skiprows=3, nrows=33) for excel in files)\n",
    "\n",
    "#files = glob.glob('/Users/mec/Ludo-MEKONTCHOU/Projet final/excels/*.xlsx')\n",
    "#df2=pd.concat(pd.read_excel(excel,header=[0,1],nrows=33, skiprows=3 for excel in files))"
   ]
  },
  {
   "cell_type": "markdown",
   "id": "c12d5da3",
   "metadata": {},
   "source": [
    "#data preparocessing "
   ]
  },
  {
   "cell_type": "code",
   "execution_count": 11,
   "id": "538e27ec",
   "metadata": {},
   "outputs": [],
   "source": [
    "\n",
    "df=df.dropna(axis=1,how=\"all\")\n",
    "#df.columns=[re.sub(r'\\W+','',\\\n",
    "#            ' '.join([x.split(\"\\n\")[0] if x.split(\"\\n\")[0] and \"Unnamed\" not in x else \"\" if \"Unnamed\" in x else x for x in y])\n",
    "#]\n",
    "#df[\"natvoile\"]=df[\"Unnamed: 2\"]\n",
    "#df[[\"nat\",\"voile\"]]=df[\"natvoile\"].str.split(\" \", expand=True)\n",
    "\n",
    "df[\"nat\"]=df[\"Unnamed: 2\"].str.split(\" \", expand=True)[0]\n",
    "df[\"voile\"]=df[\"Unnamed: 2\"].str.split(\" \", expand=True)[1]\n",
    "df[\"skipper\"]=df[\"Unnamed: 3\"].str.split(\"\\n\").apply(lambda x: x[0] if isinstance(x,list) else x)\n",
    "df[\"bateau\"]=df[\"Unnamed: 3\"].str.split(\"\\n\", expand=True)[1]\n",
    "df[\"bateau\"]=df[\"bateau\"].str.lower()\n",
    "df[\"heure\"]=df[\"Heure FR\\nHour FR\"].str.split(\"\\n\", expand=True)[0]\n",
    "df[\"heure\"]=df[\"Heure FR\\nHour FR\"].str.split(\" \").apply(lambda x: x[0] if isinstance(x,list) else x)\n",
    "\n",
    "for col in df.columns :\n",
    "    df[col]=df[col].str.strip()\n"
   ]
  },
  {
   "cell_type": "code",
   "execution_count": 12,
   "id": "5e1c0503",
   "metadata": {},
   "outputs": [],
   "source": [
    "#Suppression des valeurs nulles \n",
    "df=df.dropna(axis=1,how=\"all\")"
   ]
  },
  {
   "cell_type": "code",
   "execution_count": 13,
   "id": "2a8fe201",
   "metadata": {},
   "outputs": [],
   "source": [
    "#remplacement des caracteres \n",
    "df.replace(r'\\n', '', regex=True, inplace=True)"
   ]
  },
  {
   "cell_type": "code",
   "execution_count": 14,
   "id": "219c6131",
   "metadata": {},
   "outputs": [],
   "source": [
    "df.rename({'Unnamed: 1': 'Rank', 'nat': 'Country'}, axis=1, inplace=True)"
   ]
  },
  {
   "cell_type": "code",
   "execution_count": 52,
   "id": "d6b604c2",
   "metadata": {},
   "outputs": [
    {
     "name": "stderr",
     "output_type": "stream",
     "text": [
      "<ipython-input-52-1002f9bbd552>:1: FutureWarning: The default value of regex will change from True to False in a future version.\n",
      "  df['bateau'] = df['bateau'].str.replace(' ', '').str.replace('[^a-zA-Z]', '').str.upper()\n"
     ]
    }
   ],
   "source": [
    "df['bateau'] = df['bateau'].str.replace(' ', '').str.replace('[^a-zA-Z]', '').str.upper()"
   ]
  },
  {
   "cell_type": "code",
   "execution_count": 55,
   "id": "d27b3455",
   "metadata": {},
   "outputs": [],
   "source": [
    "df = df.rename(columns={'Heure FR\\nHour FR': 'Heure FR'})"
   ]
  },
  {
   "cell_type": "code",
   "execution_count": 63,
   "id": "93728955",
   "metadata": {},
   "outputs": [],
   "source": [
    "df.rename(columns=lambda x: x.split(\"\\n\")[0], inplace=True)\n"
   ]
  },
  {
   "cell_type": "code",
   "execution_count": null,
   "id": "cabf692b",
   "metadata": {},
   "outputs": [],
   "source": [
    "df = df[df[\"Rank\"].str.isnumeric()] \n",
    "\n",
    "#élimination des skippers éliminés ou ayant abandonné\n",
    "#df[\"Rank\"] = df[\"Rank\"].astype(int) #pour visualisations"
   ]
  },
  {
   "cell_type": "code",
   "execution_count": 217,
   "id": "bbd1faf8",
   "metadata": {},
   "outputs": [
    {
     "data": {
      "text/plain": [
       "str"
      ]
     },
     "execution_count": 217,
     "metadata": {},
     "output_type": "execute_result"
    }
   ],
   "source": [
    "type(df[\"Rank\"][0])"
   ]
  },
  {
   "cell_type": "code",
   "execution_count": 64,
   "id": "56930019",
   "metadata": {},
   "outputs": [
    {
     "data": {
      "text/plain": [
       "Index(['Rank', 'Unnamed: 2', 'Unnamed: 3', 'Heure FR', 'Latitude', 'Longitude',\n",
       "       'Cap', 'Vitesse', 'VMG', 'Distance', 'Cap', 'Vitesse', 'VMG',\n",
       "       'Distance', 'Cap', 'Vitesse', 'VMG', 'Distance', 'Unnamed: 19',\n",
       "       'Unnamed: 20', 'Unnamed: 4', 'Unnamed: 5', 'Unnamed: 6', 'Unnamed: 7',\n",
       "       'Unnamed: 8', 'Unnamed: 9', 'Unnamed: 10', 'Unnamed: 11', 'Au premier',\n",
       "       'Unnamed: 13', 'Au précédent', 'Unnamed: 15', 'Unnamed: 18', 'Country',\n",
       "       'voile', 'skipper', 'bateau', 'heure'],\n",
       "      dtype='object')"
      ]
     },
     "execution_count": 64,
     "metadata": {},
     "output_type": "execute_result"
    }
   ],
   "source": [
    "df.columns"
   ]
  },
  {
   "cell_type": "code",
   "execution_count": 97,
   "id": "50b3be6f",
   "metadata": {
    "scrolled": false
   },
   "outputs": [
    {
     "data": {
      "text/plain": [
       "Rank                              RET\n",
       "Unnamed: 2                     GBR 99\n",
       "Unnamed: 3      Alex ThomsonHUGO BOSS\n",
       "Heure FR                          NaN\n",
       "Latitude                          NaN\n",
       "Longitude                         NaN\n",
       "Cap                               NaN\n",
       "Vitesse                           NaN\n",
       "VMG                               NaN\n",
       "Distance                          NaN\n",
       "Cap                               NaN\n",
       "Vitesse                           NaN\n",
       "VMG                               NaN\n",
       "Distance                          NaN\n",
       "Cap                               NaN\n",
       "Vitesse                           NaN\n",
       "VMG                               NaN\n",
       "Distance                          NaN\n",
       "Unnamed: 19                       NaN\n",
       "Unnamed: 20                       NaN\n",
       "Unnamed: 4                        NaN\n",
       "Unnamed: 5                        NaN\n",
       "Unnamed: 6                        NaN\n",
       "arrivé                            NaN\n",
       "duree course                      NaN\n",
       "Unnamed: 9                        NaN\n",
       "Unnamed: 10                       NaN\n",
       "Unnamed: 11                       NaN\n",
       "Au premier                        NaN\n",
       "Au précédent                      NaN\n",
       "Au précédent                      NaN\n",
       "Unnamed: 15                       NaN\n",
       "Unnamed: 18                       NaN\n",
       "Country                           GBR\n",
       "voile                              99\n",
       "skipper                  Alex Thomson\n",
       "bateau                       HUGOBOSS\n",
       "heure                             NaN\n",
       "Name: 30, dtype: object"
      ]
     },
     "execution_count": 97,
     "metadata": {},
     "output_type": "execute_result"
    }
   ],
   "source": [
    "df.iloc[13890,:].T"
   ]
  },
  {
   "cell_type": "code",
   "execution_count": 121,
   "id": "50b16b69",
   "metadata": {},
   "outputs": [],
   "source": [
    "#fonction de conversion \n",
    "def dms2dec(deg, mn, sec):\n",
    "    return deg + mn / 60 + sec / 3600"
   ]
  },
  {
   "cell_type": "code",
   "execution_count": 71,
   "id": "e5f33bc8",
   "metadata": {},
   "outputs": [],
   "source": [
    "df.rename({'Unnamed: 7': 'arrivé', \n",
    "           'Unnamed: 8': 'duree course','Unnamed: 13': 'Au premier','Unnamed: 13':\n",
    "           'Au précédent'}, axis=1, inplace=True)"
   ]
  },
  {
   "cell_type": "code",
   "execution_count": null,
   "id": "113bc622",
   "metadata": {},
   "outputs": [],
   "source": [
    "df.rename({'Unnamed: 18': 'orientation', \n",
    "           'Unnamed: 8': 'duree course','Unnamed: 13': 'Au premier','Unnamed: 13':\n",
    "           'Au précédent'}, axis=1, inplace=True)"
   ]
  },
  {
   "cell_type": "code",
   "execution_count": 124,
   "id": "54e7201b",
   "metadata": {},
   "outputs": [],
   "source": [
    "#on save le fichier en local \n",
    "\n",
    "df.to_csv('/Users/mec/Ludo-MEKONTCHOU/Projet final/dataconcat/dataclean.csv')"
   ]
  },
  {
   "cell_type": "code",
   "execution_count": null,
   "id": "d3516ee2",
   "metadata": {},
   "outputs": [],
   "source": [
    "#recuperation des spec bateau\n",
    "\n",
    "soup = BeautifulSoup(requests.get(\"https://www.vendeeglobe.org/fr/glossaire\").content.decode(\"utf-8\"))\n",
    "\n",
    "dat=list()\n",
    "for boat in soup.find_all(\"div\", {\"class\":\"boats-list__popup-infos\"}):\n",
    "    dict_ = {\"nom bateau \":boat.find(\"h3\").text}\n",
    "    for li in boat.find_all(\"li\")[:-1]:\n",
    "        dict_[li.text.split(\":\")[0].strip()] = li.text.split(\":\")[1].strip()\n",
    "    dat.append(dict_)\n",
    "\n",
    "df_spec = pd.DataFrame(dat)\n",
    "for col in df_spec.columns:\n",
    "    df_spec[col] = df_spec[col].str.lower()\n",
    "    \n"
   ]
  },
  {
   "cell_type": "code",
   "execution_count": 36,
   "id": "8988fa03",
   "metadata": {
    "scrolled": true
   },
   "outputs": [
    {
     "name": "stdout",
     "output_type": "stream",
     "text": [
      "<class 'pandas.core.frame.DataFrame'>\n",
      "RangeIndex: 33 entries, 0 to 32\n",
      "Data columns (total 14 columns):\n",
      " #   Column                     Non-Null Count  Dtype \n",
      "---  ------                     --------------  ----- \n",
      " 0   nom bateau                 33 non-null     object\n",
      " 1   Numéro de voile            32 non-null     object\n",
      " 2   Anciens noms du bateau     33 non-null     object\n",
      " 3   Architecte                 33 non-null     object\n",
      " 4   Chantier                   33 non-null     object\n",
      " 5   Date de lancement          33 non-null     object\n",
      " 6   Longueur                   33 non-null     object\n",
      " 7   Largeur                    33 non-null     object\n",
      " 8   Tirant d'eau               33 non-null     object\n",
      " 9   Déplacement (poids)        33 non-null     object\n",
      " 10  Nombre de dérives          33 non-null     object\n",
      " 11  Hauteur mât                33 non-null     object\n",
      " 12  Voile quille               32 non-null     object\n",
      " 13  Surface de voiles au près  33 non-null     object\n",
      "dtypes: object(14)\n",
      "memory usage: 3.7+ KB\n"
     ]
    }
   ],
   "source": [
    "df_spec.info()"
   ]
  },
  {
   "cell_type": "code",
   "execution_count": 27,
   "id": "df205287",
   "metadata": {},
   "outputs": [],
   "source": [
    "#Copie locale du fichier des spec \n",
    "df_spec.to_csv('/Users/mec/Ludo-MEKONTCHOU/Projet final/dataconcat/boatrawexport.csv')"
   ]
  },
  {
   "cell_type": "code",
   "execution_count": 35,
   "id": "c0c38189",
   "metadata": {},
   "outputs": [
    {
     "data": {
      "text/plain": [
       "list"
      ]
     },
     "execution_count": 35,
     "metadata": {},
     "output_type": "execute_result"
    }
   ],
   "source": [
    "type(df_spec['Anciens noms du bateau'][0])"
   ]
  },
  {
   "cell_type": "code",
   "execution_count": 41,
   "id": "d027f3cd",
   "metadata": {},
   "outputs": [],
   "source": [
    "#data preprocessing \n",
    "\n",
    "\n",
    "\n",
    "#conversion des données en int/float\n",
    "num_cols = ['Longueur', 'Largeur',\"Tirant d'eau\" ,'Déplacement (poids)','Hauteur mât','Surface de voiles au près']\n",
    "df_spec[num_cols] = df_spec[num_cols].apply(lambda x: x.str.replace(re.compile('m2|m²|m|t[a-z]*|nc|NC'), '').str.replace(',', '.')).apply(pd.to_numeric)\n"
   ]
  },
  {
   "cell_type": "code",
   "execution_count": 42,
   "id": "b2230adc",
   "metadata": {},
   "outputs": [],
   "source": [
    "df_spec.rename(columns=lambda x: x.strip(), inplace=True)"
   ]
  },
  {
   "cell_type": "code",
   "execution_count": 43,
   "id": "75879901",
   "metadata": {},
   "outputs": [],
   "source": [
    "df_boats[\"Numéro de voile\"] = df_boats[\"Numéro de voile\"].fillna(59)"
   ]
  },
  {
   "cell_type": "code",
   "execution_count": 46,
   "id": "717d3aa1",
   "metadata": {},
   "outputs": [],
   "source": [
    "df_spec[[\"Anciens noms du bateau\", \"Voile quille\"]] = df_spec[[\"Anciens noms du bateau\", \"Voile quille\"]].replace(np.nan,'')\n"
   ]
  },
  {
   "cell_type": "code",
   "execution_count": 48,
   "id": "9b699f8e",
   "metadata": {},
   "outputs": [],
   "source": [
    "df_spec[[\"Nombre de dérives\"]] = df_spec[[\"Nombre de dérives\"]].replace([\"foiler\", \"2 asymétriques\"],['foils', \"2\"])"
   ]
  },
  {
   "cell_type": "code",
   "execution_count": 47,
   "id": "641c032f",
   "metadata": {},
   "outputs": [
    {
     "name": "stderr",
     "output_type": "stream",
     "text": [
      "<ipython-input-47-99acc60d7348>:1: FutureWarning: The default value of regex will change from True to False in a future version.\n",
      "  df_spec['nom bateau'] = df_spec['nom bateau'].str.replace(' ', '').str.replace('[^a-zA-Z]', '').str.upper()\n"
     ]
    }
   ],
   "source": [
    "df_spec['nom bateau'] = df_spec['nom bateau'].str.replace(' ', '').str.replace('[^a-zA-Z]', '').str.upper()"
   ]
  },
  {
   "cell_type": "code",
   "execution_count": null,
   "id": "ef868ed4",
   "metadata": {},
   "outputs": [],
   "source": [
    "df_spec[\"Annee\"] = pd.to_datetime(df_spec[\"Date de lancement\"].apply(lambda x: x[-4:]), format=\"%Y\").dt.year\n"
   ]
  },
  {
   "cell_type": "code",
   "execution_count": 113,
   "id": "c11de860",
   "metadata": {},
   "outputs": [],
   "source": [
    "df_spec.rename({\"Annee\": 'annee_bateau'\n",
    "           }, axis=1, inplace=True)"
   ]
  },
  {
   "cell_type": "code",
   "execution_count": 102,
   "id": "f97039d7",
   "metadata": {},
   "outputs": [],
   "source": [
    "df_spec = df_spec.drop(\"Date de lancement\",1)"
   ]
  },
  {
   "cell_type": "code",
   "execution_count": 104,
   "id": "5a174b51",
   "metadata": {},
   "outputs": [],
   "source": [
    "dict_ = {\"foiler\":\"foils\",\"2\":\"no foils\",\"2 asymétriques\":\"no foils\",\"foils\":\"foils\"}\n",
    "df_spec[\"Foils\"] = df_spec[\"Nombre de dérives\"].map(dict_)\n",
    "df_spec = df_spec.drop(\"Nombre de dérives\",1)"
   ]
  },
  {
   "cell_type": "code",
   "execution_count": 114,
   "id": "68a3bafc",
   "metadata": {},
   "outputs": [
    {
     "data": {
      "text/html": [
       "<div>\n",
       "<style scoped>\n",
       "    .dataframe tbody tr th:only-of-type {\n",
       "        vertical-align: middle;\n",
       "    }\n",
       "\n",
       "    .dataframe tbody tr th {\n",
       "        vertical-align: top;\n",
       "    }\n",
       "\n",
       "    .dataframe thead th {\n",
       "        text-align: right;\n",
       "    }\n",
       "</style>\n",
       "<table border=\"1\" class=\"dataframe\">\n",
       "  <thead>\n",
       "    <tr style=\"text-align: right;\">\n",
       "      <th></th>\n",
       "      <th>nom bateau</th>\n",
       "      <th>Numéro de voile</th>\n",
       "      <th>Anciens noms du bateau</th>\n",
       "      <th>Architecte</th>\n",
       "      <th>Chantier</th>\n",
       "      <th>Longueur</th>\n",
       "      <th>Largeur</th>\n",
       "      <th>Tirant d'eau</th>\n",
       "      <th>Déplacement (poids)</th>\n",
       "      <th>Hauteur mât</th>\n",
       "      <th>Voile quille</th>\n",
       "      <th>Surface de voiles au près</th>\n",
       "      <th>annee_bateau</th>\n",
       "      <th>Foils</th>\n",
       "    </tr>\n",
       "  </thead>\n",
       "  <tbody>\n",
       "    <tr>\n",
       "      <th>0</th>\n",
       "      <td>NEWRESTARTFENTRES</td>\n",
       "      <td>fra 56</td>\n",
       "      <td>[no way back,  vento di sardegna]</td>\n",
       "      <td>vplp/verdier</td>\n",
       "      <td>persico marine</td>\n",
       "      <td>18.28</td>\n",
       "      <td>5.85</td>\n",
       "      <td>4.5</td>\n",
       "      <td>7.0</td>\n",
       "      <td>29.0</td>\n",
       "      <td>monotype</td>\n",
       "      <td>320</td>\n",
       "      <td>2015</td>\n",
       "      <td>foils</td>\n",
       "    </tr>\n",
       "    <tr>\n",
       "      <th>1</th>\n",
       "      <td>PUREBESTWESTERN</td>\n",
       "      <td>fra 49</td>\n",
       "      <td>[gitana eighty,  synerciel,  newrest-matmut]</td>\n",
       "      <td>bruce farr design</td>\n",
       "      <td>southern ocean marine (nouvelle zélande)</td>\n",
       "      <td>18.28</td>\n",
       "      <td>5.80</td>\n",
       "      <td>4.5</td>\n",
       "      <td>9.0</td>\n",
       "      <td>28.0</td>\n",
       "      <td>acier forgé</td>\n",
       "      <td>280</td>\n",
       "      <td>2007</td>\n",
       "      <td>no foils</td>\n",
       "    </tr>\n",
       "    <tr>\n",
       "      <th>2</th>\n",
       "      <td>TSEMYPLANET</td>\n",
       "      <td>fra72</td>\n",
       "      <td>[famille mary-etamine du lys,  initiatives coe...</td>\n",
       "      <td>marc lombard</td>\n",
       "      <td>mag france</td>\n",
       "      <td>18.28</td>\n",
       "      <td>5.54</td>\n",
       "      <td>4.5</td>\n",
       "      <td>9.0</td>\n",
       "      <td>29.0</td>\n",
       "      <td>acier</td>\n",
       "      <td>260</td>\n",
       "      <td>1998</td>\n",
       "      <td>no foils</td>\n",
       "    </tr>\n",
       "    <tr>\n",
       "      <th>3</th>\n",
       "      <td>MATRECOQIV</td>\n",
       "      <td>17</td>\n",
       "      <td>[safran 2 - des voiles et vous]</td>\n",
       "      <td>verdier - vplp</td>\n",
       "      <td>cdk technologies</td>\n",
       "      <td>18.28</td>\n",
       "      <td>5.80</td>\n",
       "      <td>4.5</td>\n",
       "      <td>8.0</td>\n",
       "      <td>29.0</td>\n",
       "      <td>acier mécano soudé</td>\n",
       "      <td>310</td>\n",
       "      <td>2015</td>\n",
       "      <td>foils</td>\n",
       "    </tr>\n",
       "    <tr>\n",
       "      <th>4</th>\n",
       "      <td>CHARAL</td>\n",
       "      <td>08</td>\n",
       "      <td>[]</td>\n",
       "      <td>vplp</td>\n",
       "      <td>cdk technologies</td>\n",
       "      <td>18.28</td>\n",
       "      <td>5.85</td>\n",
       "      <td>4.5</td>\n",
       "      <td>8.0</td>\n",
       "      <td>29.0</td>\n",
       "      <td>acier</td>\n",
       "      <td>320</td>\n",
       "      <td>2018</td>\n",
       "      <td>foils</td>\n",
       "    </tr>\n",
       "  </tbody>\n",
       "</table>\n",
       "</div>"
      ],
      "text/plain": [
       "          nom bateau Numéro de voile  \\\n",
       "0  NEWRESTARTFENTRES          fra 56   \n",
       "1    PUREBESTWESTERN          fra 49   \n",
       "2        TSEMYPLANET           fra72   \n",
       "3         MATRECOQIV              17   \n",
       "4             CHARAL              08   \n",
       "\n",
       "                              Anciens noms du bateau         Architecte  \\\n",
       "0                  [no way back,  vento di sardegna]       vplp/verdier   \n",
       "1       [gitana eighty,  synerciel,  newrest-matmut]  bruce farr design   \n",
       "2  [famille mary-etamine du lys,  initiatives coe...       marc lombard   \n",
       "3                    [safran 2 - des voiles et vous]     verdier - vplp   \n",
       "4                                                 []               vplp   \n",
       "\n",
       "                                   Chantier  Longueur  Largeur  Tirant d'eau  \\\n",
       "0                            persico marine     18.28     5.85           4.5   \n",
       "1  southern ocean marine (nouvelle zélande)     18.28     5.80           4.5   \n",
       "2                                mag france     18.28     5.54           4.5   \n",
       "3                          cdk technologies     18.28     5.80           4.5   \n",
       "4                          cdk technologies     18.28     5.85           4.5   \n",
       "\n",
       "   Déplacement (poids)  Hauteur mât        Voile quille  \\\n",
       "0                  7.0         29.0            monotype   \n",
       "1                  9.0         28.0         acier forgé   \n",
       "2                  9.0         29.0               acier   \n",
       "3                  8.0         29.0  acier mécano soudé   \n",
       "4                  8.0         29.0               acier   \n",
       "\n",
       "   Surface de voiles au près  annee_bateau     Foils  \n",
       "0                        320          2015     foils  \n",
       "1                        280          2007  no foils  \n",
       "2                        260          1998  no foils  \n",
       "3                        310          2015     foils  \n",
       "4                        320          2018     foils  "
      ]
     },
     "execution_count": 114,
     "metadata": {},
     "output_type": "execute_result"
    }
   ],
   "source": [
    " df_spec.head()"
   ]
  },
  {
   "cell_type": "code",
   "execution_count": 115,
   "id": "83788ec3",
   "metadata": {},
   "outputs": [],
   "source": [
    "#Copie locale du fichier des spec \n",
    "df_spec.to_csv('/Users/mec/Ludo-MEKONTCHOU/Projet final/dataconcat/boatclean.csv')"
   ]
  },
  {
   "cell_type": "code",
   "execution_count": 134,
   "id": "41c052a6",
   "metadata": {},
   "outputs": [],
   "source": [
    "df_recup=pd.read_csv('/Users/mec/Ludo-MEKONTCHOU/Projet final/dataconcat/dataclean.csv')\n",
    "df=df_recup\n"
   ]
  },
  {
   "cell_type": "code",
   "execution_count": 308,
   "id": "ba2f5277",
   "metadata": {},
   "outputs": [],
   "source": [
    "#merge des deux bases\n",
    "df_merged = pd.merge(df_recup,\n",
    "              df_spec,\n",
    "              left_on='bateau',\n",
    "              right_on='nom bateau',\n",
    "              how='left')\n",
    "df_merged.to_csv('/Users/mec/Ludo-MEKONTCHOU/Projet final/dataconcat/data_merged.csv')"
   ]
  },
  {
   "cell_type": "code",
   "execution_count": 309,
   "id": "505d5fd3",
   "metadata": {},
   "outputs": [
    {
     "data": {
      "text/html": [
       "<div>\n",
       "<style scoped>\n",
       "    .dataframe tbody tr th:only-of-type {\n",
       "        vertical-align: middle;\n",
       "    }\n",
       "\n",
       "    .dataframe tbody tr th {\n",
       "        vertical-align: top;\n",
       "    }\n",
       "\n",
       "    .dataframe thead th {\n",
       "        text-align: right;\n",
       "    }\n",
       "</style>\n",
       "<table border=\"1\" class=\"dataframe\">\n",
       "  <thead>\n",
       "    <tr style=\"text-align: right;\">\n",
       "      <th></th>\n",
       "      <th>Unnamed: 0</th>\n",
       "      <th>Rank</th>\n",
       "      <th>Unnamed: 2</th>\n",
       "      <th>Unnamed: 3</th>\n",
       "      <th>Heure FR</th>\n",
       "      <th>Latitude</th>\n",
       "      <th>Longitude</th>\n",
       "      <th>Cap</th>\n",
       "      <th>Vitesse</th>\n",
       "      <th>VMG</th>\n",
       "      <th>...</th>\n",
       "      <th>Chantier</th>\n",
       "      <th>Longueur</th>\n",
       "      <th>Largeur</th>\n",
       "      <th>Tirant d'eau</th>\n",
       "      <th>Déplacement (poids)</th>\n",
       "      <th>Hauteur mât</th>\n",
       "      <th>Voile quille</th>\n",
       "      <th>Surface de voiles au près</th>\n",
       "      <th>annee_bateau</th>\n",
       "      <th>Foils</th>\n",
       "    </tr>\n",
       "  </thead>\n",
       "  <tbody>\n",
       "    <tr>\n",
       "      <th>0</th>\n",
       "      <td>0</td>\n",
       "      <td>1</td>\n",
       "      <td>FRA 79</td>\n",
       "      <td>Charlie DalinAPIVIA</td>\n",
       "      <td>14:30 FR</td>\n",
       "      <td>41°31.42'S</td>\n",
       "      <td>09°11.14'W</td>\n",
       "      <td>68°</td>\n",
       "      <td>19.5 kts</td>\n",
       "      <td>14.6 kts</td>\n",
       "      <td>...</td>\n",
       "      <td>cdk technologies - merconcept</td>\n",
       "      <td>18.28</td>\n",
       "      <td>5.85</td>\n",
       "      <td>4.5</td>\n",
       "      <td>8.0</td>\n",
       "      <td>29.0</td>\n",
       "      <td>acier</td>\n",
       "      <td>350.0</td>\n",
       "      <td>2019.0</td>\n",
       "      <td>foils</td>\n",
       "    </tr>\n",
       "    <tr>\n",
       "      <th>1</th>\n",
       "      <td>1</td>\n",
       "      <td>2</td>\n",
       "      <td>FRA 59</td>\n",
       "      <td>Thomas RuyantLinkedOut</td>\n",
       "      <td>14:30 FR</td>\n",
       "      <td>38°58.44'S</td>\n",
       "      <td>14°54.88'W</td>\n",
       "      <td>181°</td>\n",
       "      <td>13.5 kts</td>\n",
       "      <td>5.5 kts</td>\n",
       "      <td>...</td>\n",
       "      <td>persico</td>\n",
       "      <td>18.28</td>\n",
       "      <td>5.85</td>\n",
       "      <td>4.5</td>\n",
       "      <td>8.0</td>\n",
       "      <td>29.0</td>\n",
       "      <td>acier forgé</td>\n",
       "      <td>350.0</td>\n",
       "      <td>2019.0</td>\n",
       "      <td>foils</td>\n",
       "    </tr>\n",
       "    <tr>\n",
       "      <th>2</th>\n",
       "      <td>2</td>\n",
       "      <td>3</td>\n",
       "      <td>FRA 01</td>\n",
       "      <td>Jean Le CamYes we Cam !</td>\n",
       "      <td>14:30 FR</td>\n",
       "      <td>36°17.48'S</td>\n",
       "      <td>14°48.81'W</td>\n",
       "      <td>110°</td>\n",
       "      <td>17.1 kts</td>\n",
       "      <td>16.9 kts</td>\n",
       "      <td>...</td>\n",
       "      <td>cdk technologies</td>\n",
       "      <td>18.28</td>\n",
       "      <td>5.90</td>\n",
       "      <td>4.5</td>\n",
       "      <td>8.0</td>\n",
       "      <td>28.0</td>\n",
       "      <td>acier forgé</td>\n",
       "      <td>300.0</td>\n",
       "      <td>2007.0</td>\n",
       "      <td>no foils</td>\n",
       "    </tr>\n",
       "    <tr>\n",
       "      <th>3</th>\n",
       "      <td>3</td>\n",
       "      <td>4</td>\n",
       "      <td>FRA 17</td>\n",
       "      <td>Yannick BestavenMaître Coq IV</td>\n",
       "      <td>14:30 FR</td>\n",
       "      <td>38°01.60'S</td>\n",
       "      <td>18°23.24'W</td>\n",
       "      <td>105°</td>\n",
       "      <td>16.1 kts</td>\n",
       "      <td>15.8 kts</td>\n",
       "      <td>...</td>\n",
       "      <td>cdk technologies</td>\n",
       "      <td>18.28</td>\n",
       "      <td>5.80</td>\n",
       "      <td>4.5</td>\n",
       "      <td>8.0</td>\n",
       "      <td>29.0</td>\n",
       "      <td>acier mécano soudé</td>\n",
       "      <td>310.0</td>\n",
       "      <td>2015.0</td>\n",
       "      <td>foils</td>\n",
       "    </tr>\n",
       "    <tr>\n",
       "      <th>4</th>\n",
       "      <td>4</td>\n",
       "      <td>5</td>\n",
       "      <td>FRA 85</td>\n",
       "      <td>Kevin EscoffierPRB</td>\n",
       "      <td>14:30 FR</td>\n",
       "      <td>37°55.75'S</td>\n",
       "      <td>18°38.56'W</td>\n",
       "      <td>107°</td>\n",
       "      <td>17.1 kts</td>\n",
       "      <td>16.9 kts</td>\n",
       "      <td>...</td>\n",
       "      <td>cdk technologies</td>\n",
       "      <td>18.28</td>\n",
       "      <td>5.50</td>\n",
       "      <td>4.5</td>\n",
       "      <td>NaN</td>\n",
       "      <td>27.4</td>\n",
       "      <td>acier mécano soudé</td>\n",
       "      <td>300.0</td>\n",
       "      <td>2010.0</td>\n",
       "      <td>foils</td>\n",
       "    </tr>\n",
       "  </tbody>\n",
       "</table>\n",
       "<p>5 rows × 53 columns</p>\n",
       "</div>"
      ],
      "text/plain": [
       "   Unnamed: 0 Rank Unnamed: 2                     Unnamed: 3  Heure FR  \\\n",
       "0           0    1     FRA 79            Charlie DalinAPIVIA  14:30 FR   \n",
       "1           1    2     FRA 59         Thomas RuyantLinkedOut  14:30 FR   \n",
       "2           2    3     FRA 01        Jean Le CamYes we Cam !  14:30 FR   \n",
       "3           3    4     FRA 17  Yannick BestavenMaître Coq IV  14:30 FR   \n",
       "4           4    5     FRA 85             Kevin EscoffierPRB  14:30 FR   \n",
       "\n",
       "     Latitude   Longitude   Cap   Vitesse       VMG  ...  \\\n",
       "0  41°31.42'S  09°11.14'W   68°  19.5 kts  14.6 kts  ...   \n",
       "1  38°58.44'S  14°54.88'W  181°  13.5 kts   5.5 kts  ...   \n",
       "2  36°17.48'S  14°48.81'W  110°  17.1 kts  16.9 kts  ...   \n",
       "3  38°01.60'S  18°23.24'W  105°  16.1 kts  15.8 kts  ...   \n",
       "4  37°55.75'S  18°38.56'W  107°  17.1 kts  16.9 kts  ...   \n",
       "\n",
       "                        Chantier Longueur Largeur Tirant d'eau  \\\n",
       "0  cdk technologies - merconcept    18.28    5.85          4.5   \n",
       "1                        persico    18.28    5.85          4.5   \n",
       "2               cdk technologies    18.28    5.90          4.5   \n",
       "3               cdk technologies    18.28    5.80          4.5   \n",
       "4               cdk technologies    18.28    5.50          4.5   \n",
       "\n",
       "  Déplacement (poids) Hauteur mât        Voile quille  \\\n",
       "0                 8.0        29.0               acier   \n",
       "1                 8.0        29.0         acier forgé   \n",
       "2                 8.0        28.0         acier forgé   \n",
       "3                 8.0        29.0  acier mécano soudé   \n",
       "4                 NaN        27.4  acier mécano soudé   \n",
       "\n",
       "  Surface de voiles au près annee_bateau     Foils  \n",
       "0                     350.0       2019.0     foils  \n",
       "1                     350.0       2019.0     foils  \n",
       "2                     300.0       2007.0  no foils  \n",
       "3                     310.0       2015.0     foils  \n",
       "4                     300.0       2010.0     foils  \n",
       "\n",
       "[5 rows x 53 columns]"
      ]
     },
     "execution_count": 309,
     "metadata": {},
     "output_type": "execute_result"
    }
   ],
   "source": [
    "df_merged.head()"
   ]
  },
  {
   "cell_type": "markdown",
   "id": "57c9ed80",
   "metadata": {},
   "source": [
    "le plus proche du premier "
   ]
  },
  {
   "cell_type": "markdown",
   "id": "76c9a587",
   "metadata": {},
   "source": [
    "prevision des positions en multivariés"
   ]
  },
  {
   "cell_type": "markdown",
   "id": "41ed6a70",
   "metadata": {},
   "source": [
    "Exploitation des données "
   ]
  },
  {
   "cell_type": "markdown",
   "id": "c22a1af6",
   "metadata": {},
   "source": [
    "Durée du trajet sur le rang "
   ]
  },
  {
   "cell_type": "code",
   "execution_count": 320,
   "id": "d2ac592e",
   "metadata": {
    "scrolled": true
   },
   "outputs": [
    {
     "data": {
      "text/html": [
       "<div>\n",
       "<style scoped>\n",
       "    .dataframe tbody tr th:only-of-type {\n",
       "        vertical-align: middle;\n",
       "    }\n",
       "\n",
       "    .dataframe tbody tr th {\n",
       "        vertical-align: top;\n",
       "    }\n",
       "\n",
       "    .dataframe thead th {\n",
       "        text-align: right;\n",
       "    }\n",
       "</style>\n",
       "<table border=\"1\" class=\"dataframe\">\n",
       "  <thead>\n",
       "    <tr style=\"text-align: right;\">\n",
       "      <th></th>\n",
       "      <th>0</th>\n",
       "      <th>1</th>\n",
       "      <th>2</th>\n",
       "      <th>3</th>\n",
       "      <th>4</th>\n",
       "    </tr>\n",
       "  </thead>\n",
       "  <tbody>\n",
       "    <tr>\n",
       "      <th>Rank</th>\n",
       "      <td>1</td>\n",
       "      <td>2</td>\n",
       "      <td>3</td>\n",
       "      <td>4</td>\n",
       "      <td>5</td>\n",
       "    </tr>\n",
       "    <tr>\n",
       "      <th>Heure FR</th>\n",
       "      <td>14:30 FR</td>\n",
       "      <td>14:30 FR</td>\n",
       "      <td>14:30 FR</td>\n",
       "      <td>14:30 FR</td>\n",
       "      <td>14:30 FR</td>\n",
       "    </tr>\n",
       "    <tr>\n",
       "      <th>Latitude</th>\n",
       "      <td>41°31.42'S</td>\n",
       "      <td>38°58.44'S</td>\n",
       "      <td>36°17.48'S</td>\n",
       "      <td>38°01.60'S</td>\n",
       "      <td>37°55.75'S</td>\n",
       "    </tr>\n",
       "    <tr>\n",
       "      <th>Longitude</th>\n",
       "      <td>09°11.14'W</td>\n",
       "      <td>14°54.88'W</td>\n",
       "      <td>14°48.81'W</td>\n",
       "      <td>18°23.24'W</td>\n",
       "      <td>18°38.56'W</td>\n",
       "    </tr>\n",
       "    <tr>\n",
       "      <th>Cap_30min</th>\n",
       "      <td>68°</td>\n",
       "      <td>181°</td>\n",
       "      <td>110°</td>\n",
       "      <td>105°</td>\n",
       "      <td>107°</td>\n",
       "    </tr>\n",
       "    <tr>\n",
       "      <th>Vitesse_30min</th>\n",
       "      <td>19.5 kts</td>\n",
       "      <td>13.5 kts</td>\n",
       "      <td>17.1 kts</td>\n",
       "      <td>16.1 kts</td>\n",
       "      <td>17.1 kts</td>\n",
       "    </tr>\n",
       "    <tr>\n",
       "      <th>VMG</th>\n",
       "      <td>14.6 kts</td>\n",
       "      <td>5.5 kts</td>\n",
       "      <td>16.9 kts</td>\n",
       "      <td>15.8 kts</td>\n",
       "      <td>16.9 kts</td>\n",
       "    </tr>\n",
       "    <tr>\n",
       "      <th>Distance_30min</th>\n",
       "      <td>9.7 nm</td>\n",
       "      <td>6.8 nm</td>\n",
       "      <td>8.5 nm</td>\n",
       "      <td>8.1 nm</td>\n",
       "      <td>8.6 nm</td>\n",
       "    </tr>\n",
       "    <tr>\n",
       "      <th>Cap_lastcla</th>\n",
       "      <td>76°</td>\n",
       "      <td>182°</td>\n",
       "      <td>119°</td>\n",
       "      <td>112°</td>\n",
       "      <td>114°</td>\n",
       "    </tr>\n",
       "    <tr>\n",
       "      <th>Vitesse_lastclass</th>\n",
       "      <td>21.3 kts</td>\n",
       "      <td>12.8 kts</td>\n",
       "      <td>16.5 kts</td>\n",
       "      <td>17.5 kts</td>\n",
       "      <td>17.2 kts</td>\n",
       "    </tr>\n",
       "    <tr>\n",
       "      <th>VMG.1</th>\n",
       "      <td>17.9 kts</td>\n",
       "      <td>5.2 kts</td>\n",
       "      <td>16.5 kts</td>\n",
       "      <td>17.4 kts</td>\n",
       "      <td>17.2 kts</td>\n",
       "    </tr>\n",
       "    <tr>\n",
       "      <th>Distance_lastclass</th>\n",
       "      <td>63.9 nm</td>\n",
       "      <td>38.3 nm</td>\n",
       "      <td>49.4 nm</td>\n",
       "      <td>52.5 nm</td>\n",
       "      <td>51.7 nm</td>\n",
       "    </tr>\n",
       "    <tr>\n",
       "      <th>Cap_24H</th>\n",
       "      <td>131°</td>\n",
       "      <td>176°</td>\n",
       "      <td>150°</td>\n",
       "      <td>131°</td>\n",
       "      <td>127°</td>\n",
       "    </tr>\n",
       "    <tr>\n",
       "      <th>Vitesse_24H</th>\n",
       "      <td>11.2 kts</td>\n",
       "      <td>5.9 kts</td>\n",
       "      <td>11.2 kts</td>\n",
       "      <td>13.5 kts</td>\n",
       "      <td>12.6 kts</td>\n",
       "    </tr>\n",
       "    <tr>\n",
       "      <th>VMG.2</th>\n",
       "      <td>10.9 kts</td>\n",
       "      <td>3.2 kts</td>\n",
       "      <td>10.1 kts</td>\n",
       "      <td>13.3 kts</td>\n",
       "      <td>12.6 kts</td>\n",
       "    </tr>\n",
       "    <tr>\n",
       "      <th>Distance_24H</th>\n",
       "      <td>269.9 nm</td>\n",
       "      <td>142.6 nm</td>\n",
       "      <td>269.8 nm</td>\n",
       "      <td>323.0 nm</td>\n",
       "      <td>303.4 nm</td>\n",
       "    </tr>\n",
       "    <tr>\n",
       "      <th>DTF</th>\n",
       "      <td>18580.0 nm</td>\n",
       "      <td>18880.8 nm</td>\n",
       "      <td>18950.1 nm</td>\n",
       "      <td>19052.5 nm</td>\n",
       "      <td>19065.9 nm</td>\n",
       "    </tr>\n",
       "    <tr>\n",
       "      <th>DTL</th>\n",
       "      <td>0.0 nm</td>\n",
       "      <td>300.9 nm</td>\n",
       "      <td>370.2 nm</td>\n",
       "      <td>472.5 nm</td>\n",
       "      <td>486.0 nm</td>\n",
       "    </tr>\n",
       "    <tr>\n",
       "      <th>Unnamed: 4</th>\n",
       "      <td>NaN</td>\n",
       "      <td>NaN</td>\n",
       "      <td>NaN</td>\n",
       "      <td>NaN</td>\n",
       "      <td>NaN</td>\n",
       "    </tr>\n",
       "    <tr>\n",
       "      <th>Unnamed: 5</th>\n",
       "      <td>NaN</td>\n",
       "      <td>NaN</td>\n",
       "      <td>NaN</td>\n",
       "      <td>NaN</td>\n",
       "      <td>NaN</td>\n",
       "    </tr>\n",
       "    <tr>\n",
       "      <th>Unnamed: 6</th>\n",
       "      <td>NaN</td>\n",
       "      <td>NaN</td>\n",
       "      <td>NaN</td>\n",
       "      <td>NaN</td>\n",
       "      <td>NaN</td>\n",
       "    </tr>\n",
       "    <tr>\n",
       "      <th>arrivé</th>\n",
       "      <td>NaN</td>\n",
       "      <td>NaN</td>\n",
       "      <td>NaN</td>\n",
       "      <td>NaN</td>\n",
       "      <td>NaN</td>\n",
       "    </tr>\n",
       "    <tr>\n",
       "      <th>duree course</th>\n",
       "      <td>NaN</td>\n",
       "      <td>NaN</td>\n",
       "      <td>NaN</td>\n",
       "      <td>NaN</td>\n",
       "      <td>NaN</td>\n",
       "    </tr>\n",
       "    <tr>\n",
       "      <th>Unnamed: 9</th>\n",
       "      <td>NaN</td>\n",
       "      <td>NaN</td>\n",
       "      <td>NaN</td>\n",
       "      <td>NaN</td>\n",
       "      <td>NaN</td>\n",
       "    </tr>\n",
       "    <tr>\n",
       "      <th>Unnamed: 10</th>\n",
       "      <td>NaN</td>\n",
       "      <td>NaN</td>\n",
       "      <td>NaN</td>\n",
       "      <td>NaN</td>\n",
       "      <td>NaN</td>\n",
       "    </tr>\n",
       "    <tr>\n",
       "      <th>Unnamed: 11</th>\n",
       "      <td>NaN</td>\n",
       "      <td>NaN</td>\n",
       "      <td>NaN</td>\n",
       "      <td>NaN</td>\n",
       "      <td>NaN</td>\n",
       "    </tr>\n",
       "    <tr>\n",
       "      <th>Au premier</th>\n",
       "      <td>NaN</td>\n",
       "      <td>NaN</td>\n",
       "      <td>NaN</td>\n",
       "      <td>NaN</td>\n",
       "      <td>NaN</td>\n",
       "    </tr>\n",
       "    <tr>\n",
       "      <th>Au précédent</th>\n",
       "      <td>NaN</td>\n",
       "      <td>NaN</td>\n",
       "      <td>NaN</td>\n",
       "      <td>NaN</td>\n",
       "      <td>NaN</td>\n",
       "    </tr>\n",
       "    <tr>\n",
       "      <th>Au précédent.1</th>\n",
       "      <td>NaN</td>\n",
       "      <td>NaN</td>\n",
       "      <td>NaN</td>\n",
       "      <td>NaN</td>\n",
       "      <td>NaN</td>\n",
       "    </tr>\n",
       "    <tr>\n",
       "      <th>Unnamed: 15</th>\n",
       "      <td>NaN</td>\n",
       "      <td>NaN</td>\n",
       "      <td>NaN</td>\n",
       "      <td>NaN</td>\n",
       "      <td>NaN</td>\n",
       "    </tr>\n",
       "    <tr>\n",
       "      <th>Unnamed: 18</th>\n",
       "      <td>NaN</td>\n",
       "      <td>NaN</td>\n",
       "      <td>NaN</td>\n",
       "      <td>NaN</td>\n",
       "      <td>NaN</td>\n",
       "    </tr>\n",
       "    <tr>\n",
       "      <th>Country</th>\n",
       "      <td>FRA</td>\n",
       "      <td>FRA</td>\n",
       "      <td>FRA</td>\n",
       "      <td>FRA</td>\n",
       "      <td>FRA</td>\n",
       "    </tr>\n",
       "    <tr>\n",
       "      <th>voile</th>\n",
       "      <td>79</td>\n",
       "      <td>59</td>\n",
       "      <td>01</td>\n",
       "      <td>17</td>\n",
       "      <td>85</td>\n",
       "    </tr>\n",
       "    <tr>\n",
       "      <th>skipper</th>\n",
       "      <td>Charlie Dalin</td>\n",
       "      <td>Thomas Ruyant</td>\n",
       "      <td>Jean Le Cam</td>\n",
       "      <td>Yannick Bestaven</td>\n",
       "      <td>Kevin Escoffier</td>\n",
       "    </tr>\n",
       "    <tr>\n",
       "      <th>bateau</th>\n",
       "      <td>APIVIA</td>\n",
       "      <td>LINKEDOUT</td>\n",
       "      <td>YESWECAM</td>\n",
       "      <td>MATRECOQIV</td>\n",
       "      <td>PRB</td>\n",
       "    </tr>\n",
       "    <tr>\n",
       "      <th>heure</th>\n",
       "      <td>14:30</td>\n",
       "      <td>14:30</td>\n",
       "      <td>14:30</td>\n",
       "      <td>14:30</td>\n",
       "      <td>14:30</td>\n",
       "    </tr>\n",
       "    <tr>\n",
       "      <th>nom bateau</th>\n",
       "      <td>APIVIA</td>\n",
       "      <td>LINKEDOUT</td>\n",
       "      <td>YESWECAM</td>\n",
       "      <td>MATRECOQIV</td>\n",
       "      <td>PRB</td>\n",
       "    </tr>\n",
       "    <tr>\n",
       "      <th>Numéro de voile</th>\n",
       "      <td>fra 79</td>\n",
       "      <td>NaN</td>\n",
       "      <td>001</td>\n",
       "      <td>17</td>\n",
       "      <td>fra 85</td>\n",
       "    </tr>\n",
       "    <tr>\n",
       "      <th>Anciens noms du bateau</th>\n",
       "      <td>[]</td>\n",
       "      <td>[]</td>\n",
       "      <td>[cheminées poujoulat,  mare,  maître coq,  map...</td>\n",
       "      <td>[safran 2 - des voiles et vous]</td>\n",
       "      <td>[]</td>\n",
       "    </tr>\n",
       "    <tr>\n",
       "      <th>Architecte</th>\n",
       "      <td>verdier</td>\n",
       "      <td>verdier</td>\n",
       "      <td>bruce farr design</td>\n",
       "      <td>verdier - vplp</td>\n",
       "      <td>verdier - vplp</td>\n",
       "    </tr>\n",
       "    <tr>\n",
       "      <th>Chantier</th>\n",
       "      <td>cdk technologies - merconcept</td>\n",
       "      <td>persico</td>\n",
       "      <td>cdk technologies</td>\n",
       "      <td>cdk technologies</td>\n",
       "      <td>cdk technologies</td>\n",
       "    </tr>\n",
       "    <tr>\n",
       "      <th>Longueur</th>\n",
       "      <td>18.28</td>\n",
       "      <td>18.28</td>\n",
       "      <td>18.28</td>\n",
       "      <td>18.28</td>\n",
       "      <td>18.28</td>\n",
       "    </tr>\n",
       "    <tr>\n",
       "      <th>Largeur</th>\n",
       "      <td>5.85</td>\n",
       "      <td>5.85</td>\n",
       "      <td>5.9</td>\n",
       "      <td>5.8</td>\n",
       "      <td>5.5</td>\n",
       "    </tr>\n",
       "    <tr>\n",
       "      <th>Tirant d'eau</th>\n",
       "      <td>4.5</td>\n",
       "      <td>4.5</td>\n",
       "      <td>4.5</td>\n",
       "      <td>4.5</td>\n",
       "      <td>4.5</td>\n",
       "    </tr>\n",
       "    <tr>\n",
       "      <th>Déplacement (poids)</th>\n",
       "      <td>8.0</td>\n",
       "      <td>8.0</td>\n",
       "      <td>8.0</td>\n",
       "      <td>8.0</td>\n",
       "      <td>NaN</td>\n",
       "    </tr>\n",
       "    <tr>\n",
       "      <th>Hauteur mât</th>\n",
       "      <td>29.0</td>\n",
       "      <td>29.0</td>\n",
       "      <td>28.0</td>\n",
       "      <td>29.0</td>\n",
       "      <td>27.4</td>\n",
       "    </tr>\n",
       "    <tr>\n",
       "      <th>Voile quille</th>\n",
       "      <td>acier</td>\n",
       "      <td>acier forgé</td>\n",
       "      <td>acier forgé</td>\n",
       "      <td>acier mécano soudé</td>\n",
       "      <td>acier mécano soudé</td>\n",
       "    </tr>\n",
       "    <tr>\n",
       "      <th>Surface de voiles au près</th>\n",
       "      <td>350.0</td>\n",
       "      <td>350.0</td>\n",
       "      <td>300.0</td>\n",
       "      <td>310.0</td>\n",
       "      <td>300.0</td>\n",
       "    </tr>\n",
       "    <tr>\n",
       "      <th>annee_bateau</th>\n",
       "      <td>2019.0</td>\n",
       "      <td>2019.0</td>\n",
       "      <td>2007.0</td>\n",
       "      <td>2015.0</td>\n",
       "      <td>2010.0</td>\n",
       "    </tr>\n",
       "    <tr>\n",
       "      <th>Foils</th>\n",
       "      <td>foils</td>\n",
       "      <td>foils</td>\n",
       "      <td>no foils</td>\n",
       "      <td>foils</td>\n",
       "      <td>foils</td>\n",
       "    </tr>\n",
       "  </tbody>\n",
       "</table>\n",
       "</div>"
      ],
      "text/plain": [
       "                                                       0              1  \\\n",
       "Rank                                                   1              2   \n",
       "Heure FR                                        14:30 FR       14:30 FR   \n",
       "Latitude                                      41°31.42'S     38°58.44'S   \n",
       "Longitude                                     09°11.14'W     14°54.88'W   \n",
       "Cap_30min                                            68°           181°   \n",
       "Vitesse_30min                                   19.5 kts       13.5 kts   \n",
       "VMG                                             14.6 kts        5.5 kts   \n",
       "Distance_30min                                    9.7 nm         6.8 nm   \n",
       "Cap_lastcla                                          76°           182°   \n",
       "Vitesse_lastclass                               21.3 kts       12.8 kts   \n",
       "VMG.1                                           17.9 kts        5.2 kts   \n",
       "Distance_lastclass                               63.9 nm        38.3 nm   \n",
       "Cap_24H                                             131°           176°   \n",
       "Vitesse_24H                                     11.2 kts        5.9 kts   \n",
       "VMG.2                                           10.9 kts        3.2 kts   \n",
       "Distance_24H                                    269.9 nm       142.6 nm   \n",
       "DTF                                           18580.0 nm     18880.8 nm   \n",
       "DTL                                               0.0 nm       300.9 nm   \n",
       "Unnamed: 4                                           NaN            NaN   \n",
       "Unnamed: 5                                           NaN            NaN   \n",
       "Unnamed: 6                                           NaN            NaN   \n",
       "arrivé                                               NaN            NaN   \n",
       "duree course                                         NaN            NaN   \n",
       "Unnamed: 9                                           NaN            NaN   \n",
       "Unnamed: 10                                          NaN            NaN   \n",
       "Unnamed: 11                                          NaN            NaN   \n",
       "Au premier                                           NaN            NaN   \n",
       "Au précédent                                         NaN            NaN   \n",
       "Au précédent.1                                       NaN            NaN   \n",
       "Unnamed: 15                                          NaN            NaN   \n",
       "Unnamed: 18                                          NaN            NaN   \n",
       "Country                                              FRA            FRA   \n",
       "voile                                                 79             59   \n",
       "skipper                                    Charlie Dalin  Thomas Ruyant   \n",
       "bateau                                            APIVIA      LINKEDOUT   \n",
       "heure                                              14:30          14:30   \n",
       "nom bateau                                        APIVIA      LINKEDOUT   \n",
       "Numéro de voile                                   fra 79            NaN   \n",
       "Anciens noms du bateau                                []             []   \n",
       "Architecte                                       verdier        verdier   \n",
       "Chantier                   cdk technologies - merconcept        persico   \n",
       "Longueur                                           18.28          18.28   \n",
       "Largeur                                             5.85           5.85   \n",
       "Tirant d'eau                                         4.5            4.5   \n",
       "Déplacement (poids)                                  8.0            8.0   \n",
       "Hauteur mât                                         29.0           29.0   \n",
       "Voile quille                                       acier    acier forgé   \n",
       "Surface de voiles au près                          350.0          350.0   \n",
       "annee_bateau                                      2019.0         2019.0   \n",
       "Foils                                              foils          foils   \n",
       "\n",
       "                                                                           2  \\\n",
       "Rank                                                                       3   \n",
       "Heure FR                                                            14:30 FR   \n",
       "Latitude                                                          36°17.48'S   \n",
       "Longitude                                                         14°48.81'W   \n",
       "Cap_30min                                                               110°   \n",
       "Vitesse_30min                                                       17.1 kts   \n",
       "VMG                                                                 16.9 kts   \n",
       "Distance_30min                                                        8.5 nm   \n",
       "Cap_lastcla                                                             119°   \n",
       "Vitesse_lastclass                                                   16.5 kts   \n",
       "VMG.1                                                               16.5 kts   \n",
       "Distance_lastclass                                                   49.4 nm   \n",
       "Cap_24H                                                                 150°   \n",
       "Vitesse_24H                                                         11.2 kts   \n",
       "VMG.2                                                               10.1 kts   \n",
       "Distance_24H                                                        269.8 nm   \n",
       "DTF                                                               18950.1 nm   \n",
       "DTL                                                                 370.2 nm   \n",
       "Unnamed: 4                                                               NaN   \n",
       "Unnamed: 5                                                               NaN   \n",
       "Unnamed: 6                                                               NaN   \n",
       "arrivé                                                                   NaN   \n",
       "duree course                                                             NaN   \n",
       "Unnamed: 9                                                               NaN   \n",
       "Unnamed: 10                                                              NaN   \n",
       "Unnamed: 11                                                              NaN   \n",
       "Au premier                                                               NaN   \n",
       "Au précédent                                                             NaN   \n",
       "Au précédent.1                                                           NaN   \n",
       "Unnamed: 15                                                              NaN   \n",
       "Unnamed: 18                                                              NaN   \n",
       "Country                                                                  FRA   \n",
       "voile                                                                     01   \n",
       "skipper                                                          Jean Le Cam   \n",
       "bateau                                                              YESWECAM   \n",
       "heure                                                                  14:30   \n",
       "nom bateau                                                          YESWECAM   \n",
       "Numéro de voile                                                          001   \n",
       "Anciens noms du bateau     [cheminées poujoulat,  mare,  maître coq,  map...   \n",
       "Architecte                                                 bruce farr design   \n",
       "Chantier                                                    cdk technologies   \n",
       "Longueur                                                               18.28   \n",
       "Largeur                                                                  5.9   \n",
       "Tirant d'eau                                                             4.5   \n",
       "Déplacement (poids)                                                      8.0   \n",
       "Hauteur mât                                                             28.0   \n",
       "Voile quille                                                     acier forgé   \n",
       "Surface de voiles au près                                              300.0   \n",
       "annee_bateau                                                          2007.0   \n",
       "Foils                                                               no foils   \n",
       "\n",
       "                                                         3                   4  \n",
       "Rank                                                     4                   5  \n",
       "Heure FR                                          14:30 FR            14:30 FR  \n",
       "Latitude                                        38°01.60'S          37°55.75'S  \n",
       "Longitude                                       18°23.24'W          18°38.56'W  \n",
       "Cap_30min                                             105°                107°  \n",
       "Vitesse_30min                                     16.1 kts            17.1 kts  \n",
       "VMG                                               15.8 kts            16.9 kts  \n",
       "Distance_30min                                      8.1 nm              8.6 nm  \n",
       "Cap_lastcla                                           112°                114°  \n",
       "Vitesse_lastclass                                 17.5 kts            17.2 kts  \n",
       "VMG.1                                             17.4 kts            17.2 kts  \n",
       "Distance_lastclass                                 52.5 nm             51.7 nm  \n",
       "Cap_24H                                               131°                127°  \n",
       "Vitesse_24H                                       13.5 kts            12.6 kts  \n",
       "VMG.2                                             13.3 kts            12.6 kts  \n",
       "Distance_24H                                      323.0 nm            303.4 nm  \n",
       "DTF                                             19052.5 nm          19065.9 nm  \n",
       "DTL                                               472.5 nm            486.0 nm  \n",
       "Unnamed: 4                                             NaN                 NaN  \n",
       "Unnamed: 5                                             NaN                 NaN  \n",
       "Unnamed: 6                                             NaN                 NaN  \n",
       "arrivé                                                 NaN                 NaN  \n",
       "duree course                                           NaN                 NaN  \n",
       "Unnamed: 9                                             NaN                 NaN  \n",
       "Unnamed: 10                                            NaN                 NaN  \n",
       "Unnamed: 11                                            NaN                 NaN  \n",
       "Au premier                                             NaN                 NaN  \n",
       "Au précédent                                           NaN                 NaN  \n",
       "Au précédent.1                                         NaN                 NaN  \n",
       "Unnamed: 15                                            NaN                 NaN  \n",
       "Unnamed: 18                                            NaN                 NaN  \n",
       "Country                                                FRA                 FRA  \n",
       "voile                                                   17                  85  \n",
       "skipper                                   Yannick Bestaven     Kevin Escoffier  \n",
       "bateau                                          MATRECOQIV                 PRB  \n",
       "heure                                                14:30               14:30  \n",
       "nom bateau                                      MATRECOQIV                 PRB  \n",
       "Numéro de voile                                         17              fra 85  \n",
       "Anciens noms du bateau     [safran 2 - des voiles et vous]                  []  \n",
       "Architecte                                  verdier - vplp      verdier - vplp  \n",
       "Chantier                                  cdk technologies    cdk technologies  \n",
       "Longueur                                             18.28               18.28  \n",
       "Largeur                                                5.8                 5.5  \n",
       "Tirant d'eau                                           4.5                 4.5  \n",
       "Déplacement (poids)                                    8.0                 NaN  \n",
       "Hauteur mât                                           29.0                27.4  \n",
       "Voile quille                            acier mécano soudé  acier mécano soudé  \n",
       "Surface de voiles au près                            310.0               300.0  \n",
       "annee_bateau                                        2015.0              2010.0  \n",
       "Foils                                                foils               foils  "
      ]
     },
     "execution_count": 320,
     "metadata": {},
     "output_type": "execute_result"
    }
   ],
   "source": [
    "df_merged.head().T"
   ]
  },
  {
   "cell_type": "code",
   "execution_count": 311,
   "id": "c0012973",
   "metadata": {},
   "outputs": [],
   "source": [
    "df_merged.rename({\"Vitesse\": 'Vitesse_30min',\"Vitesse.1\": 'Vitesse_lastclass',\"Vitesse.2\": 'Vitesse_24H',\n",
    "                  \"Distance\": 'Distance_30min',\"Distance.1\": 'Distance_lastclass',\"Distance.2\": 'Distance_24H',\n",
    "                  \"Unnamed: 19\": 'DTF',\"Unnamed: 20\": 'DTL',\"Cap\": 'Cap_30min',\"Cap.1\": 'Cap_lastcla',\"Cap.2\": 'Cap_24H',\n",
    "           }, axis=1, inplace=True)"
   ]
  },
  {
   "cell_type": "code",
   "execution_count": 306,
   "id": "73f62663",
   "metadata": {},
   "outputs": [],
   "source": [
    "#df_merged = df_merged.dropna()"
   ]
  },
  {
   "cell_type": "code",
   "execution_count": 312,
   "id": "be9f093d",
   "metadata": {},
   "outputs": [],
   "source": [
    "df_merged =df_merged.drop(\"Unnamed: 2\",1)\n",
    "df_merged =df_merged.drop(\"Unnamed: 0\",1)\n",
    "df_merged =df_merged.drop(\"Unnamed: 3\",1)"
   ]
  },
  {
   "cell_type": "markdown",
   "id": "3fa1d261",
   "metadata": {},
   "source": [
    "Tableau de fin de course avec les vitesses moyennes et distances moyennes "
   ]
  },
  {
   "cell_type": "code",
   "execution_count": 299,
   "id": "e9ec9e60",
   "metadata": {},
   "outputs": [],
   "source": [
    "# we convert all the numerical values into floats\n",
    "#df_merged['Rank'] =df_merged['Rank'].apply(int)\n",
    "df_merged['Rank'] = pd.to_numeric(\n",
    "    df_merged['Rank'], \n",
    "    errors='coerce'\n",
    ").fillna(0).astype('int')  "
   ]
  },
  {
   "cell_type": "code",
   "execution_count": 284,
   "id": "77da44cb",
   "metadata": {},
   "outputs": [],
   "source": [
    "df_test=df_merged\n",
    "df_test['Vitesse_24H'] = pd.to_numeric(\n",
    "   df_test['Vitesse_24H'], \n",
    "    errors='coerce'\n",
    ").fillna(0).astype('int') "
   ]
  },
  {
   "cell_type": "code",
   "execution_count": 265,
   "id": "4a04744b",
   "metadata": {},
   "outputs": [],
   "source": [
    "df_merged['Distance_24H'] = pd.to_numeric(\n",
    "    df_merged['Distance_24H'], \n",
    "    errors='coerce'\n",
    ").fillna(0).astype('int') "
   ]
  },
  {
   "cell_type": "code",
   "execution_count": 266,
   "id": "34887afe",
   "metadata": {},
   "outputs": [],
   "source": [
    "df_merged['DTF'] = pd.to_numeric(\n",
    "    df_merged['DTF'], \n",
    "    errors='coerce'\n",
    ").fillna(0).astype('int') "
   ]
  },
  {
   "cell_type": "code",
   "execution_count": 267,
   "id": "6aa82858",
   "metadata": {},
   "outputs": [],
   "source": [
    "df_merged['DTL'] = pd.to_numeric(\n",
    "    df_merged['DTL'], \n",
    "    errors='coerce'\n",
    ").fillna(0).astype('int')"
   ]
  },
  {
   "cell_type": "code",
   "execution_count": 314,
   "id": "d9ce1a18",
   "metadata": {},
   "outputs": [
    {
     "data": {
      "text/plain": [
       "Index(['Rank', 'Heure FR', 'Latitude', 'Longitude', 'Cap_30min',\n",
       "       'Vitesse_30min', 'VMG', 'Distance_30min', 'Cap_lastcla',\n",
       "       'Vitesse_lastclass', 'VMG.1', 'Distance_lastclass', 'Cap_24H',\n",
       "       'Vitesse_24H', 'VMG.2', 'Distance_24H', 'DTF', 'DTL', 'Unnamed: 4',\n",
       "       'Unnamed: 5', 'Unnamed: 6', 'arrivé', 'duree course', 'Unnamed: 9',\n",
       "       'Unnamed: 10', 'Unnamed: 11', 'Au premier', 'Au précédent',\n",
       "       'Au précédent.1', 'Unnamed: 15', 'Unnamed: 18', 'Country', 'voile',\n",
       "       'skipper', 'bateau', 'heure', 'nom bateau', 'Numéro de voile',\n",
       "       'Anciens noms du bateau', 'Architecte', 'Chantier', 'Longueur',\n",
       "       'Largeur', 'Tirant d'eau', 'Déplacement (poids)', 'Hauteur mât',\n",
       "       'Voile quille', 'Surface de voiles au près', 'annee_bateau', 'Foils'],\n",
       "      dtype='object')"
      ]
     },
     "execution_count": 314,
     "metadata": {},
     "output_type": "execute_result"
    }
   ],
   "source": [
    "df_merged.columns"
   ]
  },
  {
   "cell_type": "code",
   "execution_count": null,
   "id": "278b59ed",
   "metadata": {},
   "outputs": [],
   "source": [
    "numerical_cols = ['Cap_30min',\n",
    "       'Vitesse_30min', 'VMG', 'Distance_30min', 'Cap_lastcla',\n",
    "       'Vitesse_lastclass', 'VMG.1', 'Distance_lastclass', 'Cap_24H',\n",
    "       'Vitesse_24H', 'VMG.2', 'Distance_24H', 'DTF', 'DTL']\n",
    "df_merged[numerical_cols] = df_merged[numerical_cols].apply(lambda x: x.str.replace(re.compile('[a-z]+|°'), '')).apply(pd.to_numeric(errors='coerce'))\n"
   ]
  },
  {
   "cell_type": "code",
   "execution_count": 317,
   "id": "b9161e61",
   "metadata": {},
   "outputs": [],
   "source": [
    "df_vit_dist = pd.DataFrame(df_merged.groupby(['skipper', 'Foils', 'Longueur', 'Largeur', \"Tirant d'eau\",\n",
    "                                     'Déplacement (poids)', 'Hauteur mât',\n",
    "                                     'Surface de voiles au près'])['Vitesse_24H'])\n",
    "df_vit_dist.reset_index(inplace=True)\n",
    "\n",
    "\n",
    "\n"
   ]
  },
  {
   "cell_type": "markdown",
   "id": "332c8c78",
   "metadata": {},
   "source": [
    "Vitesse sur le rang "
   ]
  },
  {
   "cell_type": "code",
   "execution_count": null,
   "id": "871a5a8c",
   "metadata": {},
   "outputs": [],
   "source": []
  },
  {
   "cell_type": "markdown",
   "id": "cf2b473f",
   "metadata": {},
   "source": [
    "Année du bateau "
   ]
  },
  {
   "cell_type": "code",
   "execution_count": null,
   "id": "d6b6d268",
   "metadata": {},
   "outputs": [],
   "source": []
  },
  {
   "cell_type": "code",
   "execution_count": null,
   "id": "674b8568",
   "metadata": {},
   "outputs": [],
   "source": [
    "Expérience du pilote sur le rang "
   ]
  },
  {
   "cell_type": "code",
   "execution_count": null,
   "id": "d2efe17f",
   "metadata": {},
   "outputs": [],
   "source": []
  },
  {
   "cell_type": "markdown",
   "id": "16afa2b0",
   "metadata": {},
   "source": [
    "prevision des positions en multivariés"
   ]
  },
  {
   "cell_type": "code",
   "execution_count": null,
   "id": "d317489b",
   "metadata": {},
   "outputs": [],
   "source": []
  },
  {
   "cell_type": "code",
   "execution_count": null,
   "id": "ea35cee2",
   "metadata": {},
   "outputs": [],
   "source": [
    "maintenir l'écart au premier"
   ]
  },
  {
   "cell_type": "code",
   "execution_count": null,
   "id": "1b45abee",
   "metadata": {},
   "outputs": [],
   "source": []
  },
  {
   "cell_type": "markdown",
   "id": "92e8c7e4",
   "metadata": {},
   "source": [
    "Correlation vitesse et autres caracteristiques "
   ]
  },
  {
   "cell_type": "code",
   "execution_count": null,
   "id": "20e42525",
   "metadata": {},
   "outputs": [],
   "source": [
    "\n",
    "fig, axes = plt.subplots(2, 3, figsize=(18, 10))\n",
    "\n",
    "fig.suptitle('speed in function of some boats caracteristics')\n",
    "\n",
    "sns.barplot(ax=axes[0, 0], data=df_vit_dist, x=\"Foils\", y='Vitesse_24H', ci=None)\n",
    "sns.barplot(ax=axes[0, 1], data=df_vit_dist, x=\"Largeur\", y='Vitesse_24H', hue=\"Foils\", ci=None)\n",
    "sns.barplot(ax=axes[0, 2], data=df_vit_dist, x=\"Hauteur mât\", y='Vitesse_24H', hue=\"Foils\", ci=None)\n",
    "sns.barplot(ax=axes[1, 0], data=df_vit_dist, x=\"Surface de voiles au près\", y='Vitesse_24H', hue=\"Foils\", ci=None)\n",
    "sns.barplot(ax=axes[1, 1], data=df_vit_dist, x=\"DTF\", y='Vitesse_24H', hue=\"Foils\", ci=None)\n",
    "sns.barplot(ax=axes[1, 2], data=df_vit_dist, x=\"Déplacement (poids)\", y='Vitesse_24H', hue=\"Foils\", ci=None)\n",
    "\n",
    "plt.show()\n"
   ]
  },
  {
   "cell_type": "code",
   "execution_count": 290,
   "id": "2c0dd121",
   "metadata": {},
   "outputs": [
    {
     "data": {
      "text/plain": [
       "0.0"
      ]
     },
     "execution_count": 290,
     "metadata": {},
     "output_type": "execute_result"
    }
   ],
   "source": [
    "df_merged['Vitesse_24H'].mean()"
   ]
  },
  {
   "cell_type": "code",
   "execution_count": null,
   "id": "40fb14a3",
   "metadata": {},
   "outputs": [],
   "source": []
  }
 ],
 "metadata": {
  "kernelspec": {
   "display_name": "Python 3",
   "language": "python",
   "name": "python3"
  },
  "language_info": {
   "codemirror_mode": {
    "name": "ipython",
    "version": 3
   },
   "file_extension": ".py",
   "mimetype": "text/x-python",
   "name": "python",
   "nbconvert_exporter": "python",
   "pygments_lexer": "ipython3",
   "version": "3.8.8"
  }
 },
 "nbformat": 4,
 "nbformat_minor": 5
}
