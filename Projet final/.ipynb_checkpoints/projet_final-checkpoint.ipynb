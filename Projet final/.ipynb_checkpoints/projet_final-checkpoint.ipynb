{
 "cells": [
  {
   "cell_type": "code",
   "execution_count": 45,
   "id": "bb99f0a1",
   "metadata": {},
   "outputs": [],
   "source": [
    "import os\n",
    "import numpy as np\n",
    "import glob\n",
    "import re\n",
    "import locale \n",
    "import pandas as pd \n",
    "import requests\n",
    "import wget\n",
    "import csv\n",
    "import time\n",
    "import datetime\n",
    "import xlwings as xw\n",
    "import openpyxl\n",
    "from collections import defaultdict\n"
   ]
  },
  {
   "cell_type": "markdown",
   "id": "25fd64aa",
   "metadata": {},
   "source": [
    "liens et répertoires"
   ]
  },
  {
   "cell_type": "code",
   "execution_count": 4,
   "id": "5cb372f9",
   "metadata": {},
   "outputs": [],
   "source": [
    "RankURL = \"https://www.vendeeglobe.org/fr/classement\"\n",
    "DLRankURL = \"https://www.vendeeglobe.org/download-race-data/vendeeglobe_\"\n",
    "SkippersURL = \"https://www.vendeeglobe.org/fr/glossaire\"\n"
   ]
  },
  {
   "cell_type": "markdown",
   "id": "649da439",
   "metadata": {},
   "source": [
    "Web scrapping boats data "
   ]
  },
  {
   "cell_type": "code",
   "execution_count": 136,
   "id": "e90ca01d",
   "metadata": {},
   "outputs": [],
   "source": [
    "def load_data():\n",
    "    df=(is_downloadable('http:vendeeglobe.org/fr/classement/20201108_120200'))\n",
    "    #df = pd.read_csv('vendeeglobe.org/fr/classement/20201108_120200')\n",
    "    return df"
   ]
  },
  {
   "cell_type": "code",
   "execution_count": 137,
   "id": "5822ce41",
   "metadata": {},
   "outputs": [],
   "source": [
    "#on check si le lien contient un paquet à télecharger\n",
    "def is_downloadable(url):\n",
    "    \"\"\"\n",
    "    Does the url contain a downloadable resource\n",
    "    \"\"\"\n",
    "    h = requests.head(url, allow_redirects=True)\n",
    "    header = h.headers\n",
    "    content_type = header.get('content-type')\n",
    "    if 'text' in content_type.lower():\n",
    "        return False\n",
    "    if 'html' in content_type.lower():\n",
    "        return False\n",
    "    return True"
   ]
  },
  {
   "cell_type": "markdown",
   "id": "90b75028",
   "metadata": {},
   "source": [
    "Changement du format des data "
   ]
  },
  {
   "cell_type": "markdown",
   "id": "d58b362d",
   "metadata": {},
   "source": [
    "import xlwings\n",
    "import glob\n",
    "\n",
    "def Conv_format (file_name):\n",
    "    excel_app=xlwings.App(visible=False)\n",
    "    excel_book=excel_app.books.open(file)\n",
    "    excel_book.save()\n",
    "    excel_book.close()\n",
    "    excel_app.quit()\n",
    "    return True\n",
    "    \n",
    "for f in glob.glob(\"/Users/mec/Ludo-MEKONTCHOU/Projet final/data/*\"):\n",
    "    Conv_format(f)\n",
    "\n",
    "\n",
    "\n",
    "\n",
    "\n",
    "\n"
   ]
  },
  {
   "cell_type": "markdown",
   "id": "2c29a298",
   "metadata": {},
   "source": [
    "contatenation des données "
   ]
  },
  {
   "cell_type": "code",
   "execution_count": 206,
   "id": "f69e0724",
   "metadata": {},
   "outputs": [
    {
     "ename": "FileNotFoundError",
     "evalue": "[Errno 2] No such file or directory: 'new/Users/mec/Ludo-MEKONTCHOU/Projet final/excels/20201127_140000.xlsx'",
     "output_type": "error",
     "traceback": [
      "\u001b[0;31m---------------------------------------------------------------------------\u001b[0m",
      "\u001b[0;31mFileNotFoundError\u001b[0m                         Traceback (most recent call last)",
      "\u001b[0;32m<ipython-input-206-1c45f9433edc>\u001b[0m in \u001b[0;36m<module>\u001b[0;34m\u001b[0m\n\u001b[1;32m      5\u001b[0m     \u001b[0mtemp\u001b[0m\u001b[0;34m=\u001b[0m\u001b[0mpd\u001b[0m\u001b[0;34m.\u001b[0m\u001b[0mread_excel\u001b[0m\u001b[0;34m(\u001b[0m\u001b[0mexcel\u001b[0m\u001b[0;34m,\u001b[0m\u001b[0mheader\u001b[0m\u001b[0;34m=\u001b[0m\u001b[0;36m3\u001b[0m\u001b[0;34m,\u001b[0m\u001b[0mnrows\u001b[0m\u001b[0;34m=\u001b[0m\u001b[0;36m33\u001b[0m\u001b[0;34m)\u001b[0m\u001b[0;34m\u001b[0m\u001b[0;34m\u001b[0m\u001b[0m\n\u001b[1;32m      6\u001b[0m     \u001b[0mtemp\u001b[0m\u001b[0;34m[\u001b[0m\u001b[0;34m\"date_export\"\u001b[0m\u001b[0;34m]\u001b[0m\u001b[0;34m=\u001b[0m\u001b[0mexcel\u001b[0m\u001b[0;34m[\u001b[0m\u001b[0;34m-\u001b[0m\u001b[0;36m20\u001b[0m\u001b[0;34m:\u001b[0m\u001b[0;34m-\u001b[0m\u001b[0;36m5\u001b[0m\u001b[0;34m]\u001b[0m\u001b[0;34m\u001b[0m\u001b[0;34m\u001b[0m\u001b[0m\n\u001b[0;32m----> 7\u001b[0;31m     \u001b[0mtemp\u001b[0m\u001b[0;34m.\u001b[0m\u001b[0mto_excel\u001b[0m\u001b[0;34m(\u001b[0m\u001b[0;34m'new'\u001b[0m\u001b[0;34m+\u001b[0m \u001b[0mexcel\u001b[0m\u001b[0;34m)\u001b[0m\u001b[0;34m\u001b[0m\u001b[0;34m\u001b[0m\u001b[0m\n\u001b[0m\u001b[1;32m      8\u001b[0m    \u001b[0;31m# concat.append(temp)\u001b[0m\u001b[0;34m\u001b[0m\u001b[0;34m\u001b[0m\u001b[0;34m\u001b[0m\u001b[0m\n",
      "\u001b[0;32m~/opt/anaconda3/lib/python3.8/site-packages/pandas/core/generic.py\u001b[0m in \u001b[0;36mto_excel\u001b[0;34m(self, excel_writer, sheet_name, na_rep, float_format, columns, header, index, index_label, startrow, startcol, engine, merge_cells, encoding, inf_rep, verbose, freeze_panes, storage_options)\u001b[0m\n\u001b[1;32m   2187\u001b[0m             \u001b[0minf_rep\u001b[0m\u001b[0;34m=\u001b[0m\u001b[0minf_rep\u001b[0m\u001b[0;34m,\u001b[0m\u001b[0;34m\u001b[0m\u001b[0;34m\u001b[0m\u001b[0m\n\u001b[1;32m   2188\u001b[0m         )\n\u001b[0;32m-> 2189\u001b[0;31m         formatter.write(\n\u001b[0m\u001b[1;32m   2190\u001b[0m             \u001b[0mexcel_writer\u001b[0m\u001b[0;34m,\u001b[0m\u001b[0;34m\u001b[0m\u001b[0;34m\u001b[0m\u001b[0m\n\u001b[1;32m   2191\u001b[0m             \u001b[0msheet_name\u001b[0m\u001b[0;34m=\u001b[0m\u001b[0msheet_name\u001b[0m\u001b[0;34m,\u001b[0m\u001b[0;34m\u001b[0m\u001b[0;34m\u001b[0m\u001b[0m\n",
      "\u001b[0;32m~/opt/anaconda3/lib/python3.8/site-packages/pandas/io/formats/excel.py\u001b[0m in \u001b[0;36mwrite\u001b[0;34m(self, writer, sheet_name, startrow, startcol, freeze_panes, engine, storage_options)\u001b[0m\n\u001b[1;32m    813\u001b[0m             \u001b[0;31m# abstract class 'ExcelWriter' with abstract attributes 'engine',\u001b[0m\u001b[0;34m\u001b[0m\u001b[0;34m\u001b[0m\u001b[0;34m\u001b[0m\u001b[0m\n\u001b[1;32m    814\u001b[0m             \u001b[0;31m# 'save', 'supported_extensions' and 'write_cells'  [abstract]\u001b[0m\u001b[0;34m\u001b[0m\u001b[0;34m\u001b[0m\u001b[0;34m\u001b[0m\u001b[0m\n\u001b[0;32m--> 815\u001b[0;31m             writer = ExcelWriter(  # type: ignore[abstract]\n\u001b[0m\u001b[1;32m    816\u001b[0m                 \u001b[0mwriter\u001b[0m\u001b[0;34m,\u001b[0m \u001b[0mengine\u001b[0m\u001b[0;34m=\u001b[0m\u001b[0mengine\u001b[0m\u001b[0;34m,\u001b[0m \u001b[0mstorage_options\u001b[0m\u001b[0;34m=\u001b[0m\u001b[0mstorage_options\u001b[0m\u001b[0;34m\u001b[0m\u001b[0;34m\u001b[0m\u001b[0m\n\u001b[1;32m    817\u001b[0m             )\n",
      "\u001b[0;32m~/opt/anaconda3/lib/python3.8/site-packages/pandas/io/excel/_xlsxwriter.py\u001b[0m in \u001b[0;36m__init__\u001b[0;34m(self, path, engine, date_format, datetime_format, mode, storage_options, **engine_kwargs)\u001b[0m\n\u001b[1;32m    180\u001b[0m             \u001b[0;32mraise\u001b[0m \u001b[0mValueError\u001b[0m\u001b[0;34m(\u001b[0m\u001b[0;34m\"Append mode is not supported with xlsxwriter!\"\u001b[0m\u001b[0;34m)\u001b[0m\u001b[0;34m\u001b[0m\u001b[0;34m\u001b[0m\u001b[0m\n\u001b[1;32m    181\u001b[0m \u001b[0;34m\u001b[0m\u001b[0m\n\u001b[0;32m--> 182\u001b[0;31m         super().__init__(\n\u001b[0m\u001b[1;32m    183\u001b[0m             \u001b[0mpath\u001b[0m\u001b[0;34m,\u001b[0m\u001b[0;34m\u001b[0m\u001b[0;34m\u001b[0m\u001b[0m\n\u001b[1;32m    184\u001b[0m             \u001b[0mengine\u001b[0m\u001b[0;34m=\u001b[0m\u001b[0mengine\u001b[0m\u001b[0;34m,\u001b[0m\u001b[0;34m\u001b[0m\u001b[0;34m\u001b[0m\u001b[0m\n",
      "\u001b[0;32m~/opt/anaconda3/lib/python3.8/site-packages/pandas/io/excel/_base.py\u001b[0m in \u001b[0;36m__init__\u001b[0;34m(self, path, engine, date_format, datetime_format, mode, storage_options, **engine_kwargs)\u001b[0m\n\u001b[1;32m    808\u001b[0m         \u001b[0mself\u001b[0m\u001b[0;34m.\u001b[0m\u001b[0mhandles\u001b[0m \u001b[0;34m=\u001b[0m \u001b[0mIOHandles\u001b[0m\u001b[0;34m(\u001b[0m\u001b[0mcast\u001b[0m\u001b[0;34m(\u001b[0m\u001b[0mBuffer\u001b[0m\u001b[0;34m,\u001b[0m \u001b[0mpath\u001b[0m\u001b[0;34m)\u001b[0m\u001b[0;34m,\u001b[0m \u001b[0mcompression\u001b[0m\u001b[0;34m=\u001b[0m\u001b[0;34m{\u001b[0m\u001b[0;34m\"copression\"\u001b[0m\u001b[0;34m:\u001b[0m \u001b[0;32mNone\u001b[0m\u001b[0;34m}\u001b[0m\u001b[0;34m)\u001b[0m\u001b[0;34m\u001b[0m\u001b[0;34m\u001b[0m\u001b[0m\n\u001b[1;32m    809\u001b[0m         \u001b[0;32mif\u001b[0m \u001b[0;32mnot\u001b[0m \u001b[0misinstance\u001b[0m\u001b[0;34m(\u001b[0m\u001b[0mpath\u001b[0m\u001b[0;34m,\u001b[0m \u001b[0mExcelWriter\u001b[0m\u001b[0;34m)\u001b[0m\u001b[0;34m:\u001b[0m\u001b[0;34m\u001b[0m\u001b[0;34m\u001b[0m\u001b[0m\n\u001b[0;32m--> 810\u001b[0;31m             self.handles = get_handle(\n\u001b[0m\u001b[1;32m    811\u001b[0m                 \u001b[0mpath\u001b[0m\u001b[0;34m,\u001b[0m \u001b[0mmode\u001b[0m\u001b[0;34m,\u001b[0m \u001b[0mstorage_options\u001b[0m\u001b[0;34m=\u001b[0m\u001b[0mstorage_options\u001b[0m\u001b[0;34m,\u001b[0m \u001b[0mis_text\u001b[0m\u001b[0;34m=\u001b[0m\u001b[0;32mFalse\u001b[0m\u001b[0;34m\u001b[0m\u001b[0;34m\u001b[0m\u001b[0m\n\u001b[1;32m    812\u001b[0m             )\n",
      "\u001b[0;32m~/opt/anaconda3/lib/python3.8/site-packages/pandas/io/common.py\u001b[0m in \u001b[0;36mget_handle\u001b[0;34m(path_or_buf, mode, encoding, compression, memory_map, is_text, errors, storage_options)\u001b[0m\n\u001b[1;32m    649\u001b[0m         \u001b[0;32melse\u001b[0m\u001b[0;34m:\u001b[0m\u001b[0;34m\u001b[0m\u001b[0;34m\u001b[0m\u001b[0m\n\u001b[1;32m    650\u001b[0m             \u001b[0;31m# Binary mode\u001b[0m\u001b[0;34m\u001b[0m\u001b[0;34m\u001b[0m\u001b[0;34m\u001b[0m\u001b[0m\n\u001b[0;32m--> 651\u001b[0;31m             \u001b[0mhandle\u001b[0m \u001b[0;34m=\u001b[0m \u001b[0mopen\u001b[0m\u001b[0;34m(\u001b[0m\u001b[0mhandle\u001b[0m\u001b[0;34m,\u001b[0m \u001b[0mioargs\u001b[0m\u001b[0;34m.\u001b[0m\u001b[0mmode\u001b[0m\u001b[0;34m)\u001b[0m\u001b[0;34m\u001b[0m\u001b[0;34m\u001b[0m\u001b[0m\n\u001b[0m\u001b[1;32m    652\u001b[0m         \u001b[0mhandles\u001b[0m\u001b[0;34m.\u001b[0m\u001b[0mappend\u001b[0m\u001b[0;34m(\u001b[0m\u001b[0mhandle\u001b[0m\u001b[0;34m)\u001b[0m\u001b[0;34m\u001b[0m\u001b[0;34m\u001b[0m\u001b[0m\n\u001b[1;32m    653\u001b[0m \u001b[0;34m\u001b[0m\u001b[0m\n",
      "\u001b[0;31mFileNotFoundError\u001b[0m: [Errno 2] No such file or directory: 'new/Users/mec/Ludo-MEKONTCHOU/Projet final/excels/20201127_140000.xlsx'"
     ]
    }
   ],
   "source": [
    "#Rajoutons la date et l'heure de la capture de d'information\n",
    "files = glob.glob('/Users/mec/Ludo-MEKONTCHOU/Projet final/excels/*.xlsx')\n",
    "concat=[]\n",
    "for excel in files:\n",
    "    temp=pd.read_excel(excel,header=3,nrows=33)\n",
    "    temp[\"date_export\"]=excel[-20:-5]\n",
    "    temp.to_excel('excel')\n",
    "   # concat.append(temp)"
   ]
  },
  {
   "cell_type": "code",
   "execution_count": 187,
   "id": "b868e079",
   "metadata": {},
   "outputs": [
    {
     "data": {
      "text/plain": [
       "'20201127_140000'"
      ]
     },
     "execution_count": 187,
     "metadata": {},
     "output_type": "execute_result"
    }
   ],
   "source": [
    "test[-20:-5]"
   ]
  },
  {
   "cell_type": "code",
   "execution_count": 189,
   "id": "481c86e3",
   "metadata": {},
   "outputs": [],
   "source": [
    "test='/Users/mec/Ludo-MEKONTCHOU/Projet final/excels/20201127_140000.xlsx'\n",
    "temp=pd.read_excel(test,header=3,nrows=33)\n",
    "temp[\"date_export\"]=test[-20:-5]\n",
    "temp\n",
    "temp.to_excel('/Users/mec/Ludo-MEKONTCHOU/Projet final/excels/test.xlsx')"
   ]
  },
  {
   "cell_type": "code",
   "execution_count": 5,
   "id": "8cdc74f3",
   "metadata": {
    "scrolled": false
   },
   "outputs": [],
   "source": [
    "files = glob.glob('/Users/mec/Ludo-MEKONTCHOU/Projet final/excels/*.xlsx')\n",
    "df=pd.concat(pd.read_excel(excel,header=3,nrows=33) for excel in files)\n",
    "#usecols=(\"B:U\")"
   ]
  },
  {
   "cell_type": "code",
   "execution_count": 8,
   "id": "9eb4c7d4",
   "metadata": {},
   "outputs": [],
   "source": [
    "#enregistrement de la concatenation pour le plus exécuter \n",
    "df.to_csv('/Users/mec/Ludo-MEKONTCHOU/Projet final/dataconcat/rawexport.csv')"
   ]
  },
  {
   "cell_type": "markdown",
   "id": "e95c756a",
   "metadata": {},
   "source": [
    "#df2=pd.concat(pd.read_excel(excel, header=[0,1], skiprows=3, nrows=33) for excel in files)\n",
    "\n",
    "#files = glob.glob('/Users/mec/Ludo-MEKONTCHOU/Projet final/excels/*.xlsx')\n",
    "#df2=pd.concat(pd.read_excel(excel,header=[0,1],nrows=33, skiprows=3 for excel in files))"
   ]
  },
  {
   "cell_type": "markdown",
   "id": "23b47c04",
   "metadata": {},
   "source": [
    "#data preparocessing "
   ]
  },
  {
   "cell_type": "code",
   "execution_count": 11,
   "id": "538e27ec",
   "metadata": {},
   "outputs": [],
   "source": [
    "\n",
    "df=df.dropna(axis=1,how=\"all\")\n",
    "#df.columns=[re.sub(r'\\W+','',\\\n",
    "#            ' '.join([x.split(\"\\n\")[0] if x.split(\"\\n\")[0] and \"Unnamed\" not in x else \"\" if \"Unnamed\" in x else x for x in y])\n",
    "#]\n",
    "#df[\"natvoile\"]=df[\"Unnamed: 2\"]\n",
    "#df[[\"nat\",\"voile\"]]=df[\"natvoile\"].str.split(\" \", expand=True)\n",
    "\n",
    "df[\"nat\"]=df[\"Unnamed: 2\"].str.split(\" \", expand=True)[0]\n",
    "df[\"voile\"]=df[\"Unnamed: 2\"].str.split(\" \", expand=True)[1]\n",
    "df[\"skipper\"]=df[\"Unnamed: 3\"].str.split(\"\\n\").apply(lambda x: x[0] if isinstance(x,list) else x)\n",
    "df[\"bateau\"]=df[\"Unnamed: 3\"].str.split(\"\\n\", expand=True)[1]\n",
    "df[\"bateau\"]=df[\"bateau\"].str.lower()\n",
    "df[\"heure\"]=df[\"Heure FR\\nHour FR\"].str.split(\"\\n\", expand=True)[0]\n",
    "df[\"heure\"]=df[\"Heure FR\\nHour FR\"].str.split(\" \").apply(lambda x: x[0] if isinstance(x,list) else x)\n",
    "\n",
    "for col in df.columns :\n",
    "    df[col]=df[col].str.strip()\n"
   ]
  },
  {
   "cell_type": "code",
   "execution_count": 12,
   "id": "5e1c0503",
   "metadata": {},
   "outputs": [],
   "source": [
    "#Suppression des valeurs nulles \n",
    "df=df.dropna(axis=1,how=\"all\")"
   ]
  },
  {
   "cell_type": "code",
   "execution_count": 13,
   "id": "2a8fe201",
   "metadata": {},
   "outputs": [],
   "source": [
    "#remplacement des caracteres \n",
    "df.replace(r'\\n', '', regex=True, inplace=True)"
   ]
  },
  {
   "cell_type": "code",
   "execution_count": 14,
   "id": "219c6131",
   "metadata": {},
   "outputs": [],
   "source": [
    "df.rename({'Unnamed: 1': 'Rank', 'nat': 'Country'}, axis=1, inplace=True)"
   ]
  },
  {
   "cell_type": "code",
   "execution_count": 52,
   "id": "10020887",
   "metadata": {},
   "outputs": [
    {
     "name": "stderr",
     "output_type": "stream",
     "text": [
      "<ipython-input-52-1002f9bbd552>:1: FutureWarning: The default value of regex will change from True to False in a future version.\n",
      "  df['bateau'] = df['bateau'].str.replace(' ', '').str.replace('[^a-zA-Z]', '').str.upper()\n"
     ]
    }
   ],
   "source": [
    "df['bateau'] = df['bateau'].str.replace(' ', '').str.replace('[^a-zA-Z]', '').str.upper()"
   ]
  },
  {
   "cell_type": "code",
   "execution_count": 55,
   "id": "ed9aa052",
   "metadata": {},
   "outputs": [],
   "source": [
    "df = df.rename(columns={'Heure FR\\nHour FR': 'Heure FR'})"
   ]
  },
  {
   "cell_type": "code",
   "execution_count": 63,
   "id": "309470b7",
   "metadata": {},
   "outputs": [],
   "source": [
    "df.rename(columns=lambda x: x.split(\"\\n\")[0], inplace=True)\n"
   ]
  },
  {
   "cell_type": "code",
   "execution_count": 117,
   "id": "271fc4c6",
   "metadata": {
    "scrolled": true
   },
   "outputs": [
    {
     "ename": "ValueError",
     "evalue": "Cannot mask with non-boolean array containing NA / NaN values",
     "output_type": "error",
     "traceback": [
      "\u001b[0;31m---------------------------------------------------------------------------\u001b[0m",
      "\u001b[0;31mValueError\u001b[0m                                Traceback (most recent call last)",
      "\u001b[0;32m<ipython-input-117-ace9bb4a017d>\u001b[0m in \u001b[0;36m<module>\u001b[0;34m\u001b[0m\n\u001b[0;32m----> 1\u001b[0;31m \u001b[0mdf\u001b[0m \u001b[0;34m=\u001b[0m \u001b[0mdf\u001b[0m\u001b[0;34m[\u001b[0m\u001b[0mdf\u001b[0m\u001b[0;34m[\u001b[0m\u001b[0;34m\"Rank\"\u001b[0m\u001b[0;34m]\u001b[0m\u001b[0;34m.\u001b[0m\u001b[0mstr\u001b[0m\u001b[0;34m.\u001b[0m\u001b[0misnumeric\u001b[0m\u001b[0;34m(\u001b[0m\u001b[0;34m)\u001b[0m\u001b[0;34m]\u001b[0m \u001b[0;31m#élimination des skippers éliminés ou ayant abandonné\u001b[0m\u001b[0;34m\u001b[0m\u001b[0;34m\u001b[0m\u001b[0m\n\u001b[0m\u001b[1;32m      2\u001b[0m \u001b[0;31m#df[\"Rank\"] = df[\"Rank\"].astype(int) #pour visualisations\u001b[0m\u001b[0;34m\u001b[0m\u001b[0;34m\u001b[0m\u001b[0;34m\u001b[0m\u001b[0m\n",
      "\u001b[0;32m~/opt/anaconda3/lib/python3.8/site-packages/pandas/core/frame.py\u001b[0m in \u001b[0;36m__getitem__\u001b[0;34m(self, key)\u001b[0m\n\u001b[1;32m   3012\u001b[0m \u001b[0;34m\u001b[0m\u001b[0m\n\u001b[1;32m   3013\u001b[0m         \u001b[0;31m# Do we have a (boolean) 1d indexer?\u001b[0m\u001b[0;34m\u001b[0m\u001b[0;34m\u001b[0m\u001b[0;34m\u001b[0m\u001b[0m\n\u001b[0;32m-> 3014\u001b[0;31m         \u001b[0;32mif\u001b[0m \u001b[0mcom\u001b[0m\u001b[0;34m.\u001b[0m\u001b[0mis_bool_indexer\u001b[0m\u001b[0;34m(\u001b[0m\u001b[0mkey\u001b[0m\u001b[0;34m)\u001b[0m\u001b[0;34m:\u001b[0m\u001b[0;34m\u001b[0m\u001b[0;34m\u001b[0m\u001b[0m\n\u001b[0m\u001b[1;32m   3015\u001b[0m             \u001b[0;32mreturn\u001b[0m \u001b[0mself\u001b[0m\u001b[0;34m.\u001b[0m\u001b[0m_getitem_bool_array\u001b[0m\u001b[0;34m(\u001b[0m\u001b[0mkey\u001b[0m\u001b[0;34m)\u001b[0m\u001b[0;34m\u001b[0m\u001b[0;34m\u001b[0m\u001b[0m\n\u001b[1;32m   3016\u001b[0m \u001b[0;34m\u001b[0m\u001b[0m\n",
      "\u001b[0;32m~/opt/anaconda3/lib/python3.8/site-packages/pandas/core/common.py\u001b[0m in \u001b[0;36mis_bool_indexer\u001b[0;34m(key)\u001b[0m\n\u001b[1;32m    112\u001b[0m                     \u001b[0;31m# Don't raise on e.g. [\"A\", \"B\", np.nan], see\u001b[0m\u001b[0;34m\u001b[0m\u001b[0;34m\u001b[0m\u001b[0;34m\u001b[0m\u001b[0m\n\u001b[1;32m    113\u001b[0m                     \u001b[0;31m#  test_loc_getitem_list_of_labels_categoricalindex_with_na\u001b[0m\u001b[0;34m\u001b[0m\u001b[0;34m\u001b[0m\u001b[0;34m\u001b[0m\u001b[0m\n\u001b[0;32m--> 114\u001b[0;31m                     \u001b[0;32mraise\u001b[0m \u001b[0mValueError\u001b[0m\u001b[0;34m(\u001b[0m\u001b[0mna_msg\u001b[0m\u001b[0;34m)\u001b[0m\u001b[0;34m\u001b[0m\u001b[0;34m\u001b[0m\u001b[0m\n\u001b[0m\u001b[1;32m    115\u001b[0m                 \u001b[0;32mreturn\u001b[0m \u001b[0;32mFalse\u001b[0m\u001b[0;34m\u001b[0m\u001b[0;34m\u001b[0m\u001b[0m\n\u001b[1;32m    116\u001b[0m             \u001b[0;32mreturn\u001b[0m \u001b[0;32mTrue\u001b[0m\u001b[0;34m\u001b[0m\u001b[0;34m\u001b[0m\u001b[0m\n",
      "\u001b[0;31mValueError\u001b[0m: Cannot mask with non-boolean array containing NA / NaN values"
     ]
    }
   ],
   "source": [
    "df = df[df[\"Rank\"].str.isnumeric()] \n",
    "\n",
    "#élimination des skippers éliminés ou ayant abandonné\n",
    "#df[\"Rank\"] = df[\"Rank\"].astype(int) #pour visualisations"
   ]
  },
  {
   "cell_type": "code",
   "execution_count": 217,
   "id": "22a70e3d",
   "metadata": {},
   "outputs": [
    {
     "data": {
      "text/plain": [
       "str"
      ]
     },
     "execution_count": 217,
     "metadata": {},
     "output_type": "execute_result"
    }
   ],
   "source": [
    "type(df[\"Rank\"][0])"
   ]
  },
  {
   "cell_type": "code",
   "execution_count": 119,
   "id": "5f7bb75f",
   "metadata": {},
   "outputs": [
    {
     "ename": "ValueError",
     "evalue": "Cannot mask with non-boolean array containing NA / NaN values",
     "output_type": "error",
     "traceback": [
      "\u001b[0;31m---------------------------------------------------------------------------\u001b[0m",
      "\u001b[0;31mValueError\u001b[0m                                Traceback (most recent call last)",
      "\u001b[0;32m<ipython-input-119-91c39f93bcee>\u001b[0m in \u001b[0;36m<module>\u001b[0;34m\u001b[0m\n\u001b[0;32m----> 1\u001b[0;31m \u001b[0mdf\u001b[0m\u001b[0;34m[\u001b[0m\u001b[0mdf\u001b[0m\u001b[0;34m[\u001b[0m\u001b[0;34m\"Rank\"\u001b[0m\u001b[0;34m]\u001b[0m\u001b[0;34m.\u001b[0m\u001b[0mstr\u001b[0m\u001b[0;34m.\u001b[0m\u001b[0misnumeric\u001b[0m\u001b[0;34m(\u001b[0m\u001b[0;34m)\u001b[0m\u001b[0;34m]\u001b[0m\u001b[0;34m\u001b[0m\u001b[0;34m\u001b[0m\u001b[0m\n\u001b[0m",
      "\u001b[0;32m~/opt/anaconda3/lib/python3.8/site-packages/pandas/core/frame.py\u001b[0m in \u001b[0;36m__getitem__\u001b[0;34m(self, key)\u001b[0m\n\u001b[1;32m   3012\u001b[0m \u001b[0;34m\u001b[0m\u001b[0m\n\u001b[1;32m   3013\u001b[0m         \u001b[0;31m# Do we have a (boolean) 1d indexer?\u001b[0m\u001b[0;34m\u001b[0m\u001b[0;34m\u001b[0m\u001b[0;34m\u001b[0m\u001b[0m\n\u001b[0;32m-> 3014\u001b[0;31m         \u001b[0;32mif\u001b[0m \u001b[0mcom\u001b[0m\u001b[0;34m.\u001b[0m\u001b[0mis_bool_indexer\u001b[0m\u001b[0;34m(\u001b[0m\u001b[0mkey\u001b[0m\u001b[0;34m)\u001b[0m\u001b[0;34m:\u001b[0m\u001b[0;34m\u001b[0m\u001b[0;34m\u001b[0m\u001b[0m\n\u001b[0m\u001b[1;32m   3015\u001b[0m             \u001b[0;32mreturn\u001b[0m \u001b[0mself\u001b[0m\u001b[0;34m.\u001b[0m\u001b[0m_getitem_bool_array\u001b[0m\u001b[0;34m(\u001b[0m\u001b[0mkey\u001b[0m\u001b[0;34m)\u001b[0m\u001b[0;34m\u001b[0m\u001b[0;34m\u001b[0m\u001b[0m\n\u001b[1;32m   3016\u001b[0m \u001b[0;34m\u001b[0m\u001b[0m\n",
      "\u001b[0;32m~/opt/anaconda3/lib/python3.8/site-packages/pandas/core/common.py\u001b[0m in \u001b[0;36mis_bool_indexer\u001b[0;34m(key)\u001b[0m\n\u001b[1;32m    112\u001b[0m                     \u001b[0;31m# Don't raise on e.g. [\"A\", \"B\", np.nan], see\u001b[0m\u001b[0;34m\u001b[0m\u001b[0;34m\u001b[0m\u001b[0;34m\u001b[0m\u001b[0m\n\u001b[1;32m    113\u001b[0m                     \u001b[0;31m#  test_loc_getitem_list_of_labels_categoricalindex_with_na\u001b[0m\u001b[0;34m\u001b[0m\u001b[0;34m\u001b[0m\u001b[0;34m\u001b[0m\u001b[0m\n\u001b[0;32m--> 114\u001b[0;31m                     \u001b[0;32mraise\u001b[0m \u001b[0mValueError\u001b[0m\u001b[0;34m(\u001b[0m\u001b[0mna_msg\u001b[0m\u001b[0;34m)\u001b[0m\u001b[0;34m\u001b[0m\u001b[0;34m\u001b[0m\u001b[0m\n\u001b[0m\u001b[1;32m    115\u001b[0m                 \u001b[0;32mreturn\u001b[0m \u001b[0;32mFalse\u001b[0m\u001b[0;34m\u001b[0m\u001b[0;34m\u001b[0m\u001b[0m\n\u001b[1;32m    116\u001b[0m             \u001b[0;32mreturn\u001b[0m \u001b[0;32mTrue\u001b[0m\u001b[0;34m\u001b[0m\u001b[0;34m\u001b[0m\u001b[0m\n",
      "\u001b[0;31mValueError\u001b[0m: Cannot mask with non-boolean array containing NA / NaN values"
     ]
    }
   ],
   "source": [
    "df[df[\"Rank\"].str.isnumeric()&&df[\"Rank\"].str!=NA &&df[\"Rank\"].str!=NaN ]"
   ]
  },
  {
   "cell_type": "code",
   "execution_count": 64,
   "id": "ab51e543",
   "metadata": {},
   "outputs": [
    {
     "data": {
      "text/plain": [
       "Index(['Rank', 'Unnamed: 2', 'Unnamed: 3', 'Heure FR', 'Latitude', 'Longitude',\n",
       "       'Cap', 'Vitesse', 'VMG', 'Distance', 'Cap', 'Vitesse', 'VMG',\n",
       "       'Distance', 'Cap', 'Vitesse', 'VMG', 'Distance', 'Unnamed: 19',\n",
       "       'Unnamed: 20', 'Unnamed: 4', 'Unnamed: 5', 'Unnamed: 6', 'Unnamed: 7',\n",
       "       'Unnamed: 8', 'Unnamed: 9', 'Unnamed: 10', 'Unnamed: 11', 'Au premier',\n",
       "       'Unnamed: 13', 'Au précédent', 'Unnamed: 15', 'Unnamed: 18', 'Country',\n",
       "       'voile', 'skipper', 'bateau', 'heure'],\n",
       "      dtype='object')"
      ]
     },
     "execution_count": 64,
     "metadata": {},
     "output_type": "execute_result"
    }
   ],
   "source": [
    "df.columns"
   ]
  },
  {
   "cell_type": "code",
   "execution_count": 97,
   "id": "50b3be6f",
   "metadata": {
    "scrolled": false
   },
   "outputs": [
    {
     "data": {
      "text/plain": [
       "Rank                              RET\n",
       "Unnamed: 2                     GBR 99\n",
       "Unnamed: 3      Alex ThomsonHUGO BOSS\n",
       "Heure FR                          NaN\n",
       "Latitude                          NaN\n",
       "Longitude                         NaN\n",
       "Cap                               NaN\n",
       "Vitesse                           NaN\n",
       "VMG                               NaN\n",
       "Distance                          NaN\n",
       "Cap                               NaN\n",
       "Vitesse                           NaN\n",
       "VMG                               NaN\n",
       "Distance                          NaN\n",
       "Cap                               NaN\n",
       "Vitesse                           NaN\n",
       "VMG                               NaN\n",
       "Distance                          NaN\n",
       "Unnamed: 19                       NaN\n",
       "Unnamed: 20                       NaN\n",
       "Unnamed: 4                        NaN\n",
       "Unnamed: 5                        NaN\n",
       "Unnamed: 6                        NaN\n",
       "arrivé                            NaN\n",
       "duree course                      NaN\n",
       "Unnamed: 9                        NaN\n",
       "Unnamed: 10                       NaN\n",
       "Unnamed: 11                       NaN\n",
       "Au premier                        NaN\n",
       "Au précédent                      NaN\n",
       "Au précédent                      NaN\n",
       "Unnamed: 15                       NaN\n",
       "Unnamed: 18                       NaN\n",
       "Country                           GBR\n",
       "voile                              99\n",
       "skipper                  Alex Thomson\n",
       "bateau                       HUGOBOSS\n",
       "heure                             NaN\n",
       "Name: 30, dtype: object"
      ]
     },
     "execution_count": 97,
     "metadata": {},
     "output_type": "execute_result"
    }
   ],
   "source": [
    "df.iloc[13890,:].T"
   ]
  },
  {
   "cell_type": "code",
   "execution_count": 121,
   "id": "50b16b69",
   "metadata": {},
   "outputs": [],
   "source": [
    "#fonction de conversion \n",
    "def dms2dec(deg, mn, sec):\n",
    "    return deg + mn / 60 + sec / 3600"
   ]
  },
  {
   "cell_type": "code",
   "execution_count": 123,
   "id": "f41021b4",
   "metadata": {},
   "outputs": [
    {
     "ename": "TypeError",
     "evalue": "dms2dec() missing 2 required positional arguments: 'mn' and 'sec'",
     "output_type": "error",
     "traceback": [
      "\u001b[0;31m---------------------------------------------------------------------------\u001b[0m",
      "\u001b[0;31mTypeError\u001b[0m                                 Traceback (most recent call last)",
      "\u001b[0;32m<ipython-input-123-03bfbd7a4444>\u001b[0m in \u001b[0;36m<module>\u001b[0;34m\u001b[0m\n\u001b[0;32m----> 1\u001b[0;31m \u001b[0mdf\u001b[0m\u001b[0;34m[\u001b[0m\u001b[0;34m\"Latitude\"\u001b[0m\u001b[0;34m]\u001b[0m \u001b[0;34m=\u001b[0m \u001b[0mdf\u001b[0m\u001b[0;34m[\u001b[0m\u001b[0;34m\"Latitude\"\u001b[0m\u001b[0;34m]\u001b[0m\u001b[0;34m.\u001b[0m\u001b[0mapply\u001b[0m\u001b[0;34m(\u001b[0m\u001b[0mdms2dec\u001b[0m\u001b[0;34m)\u001b[0m\u001b[0;34m\u001b[0m\u001b[0;34m\u001b[0m\u001b[0m\n\u001b[0m\u001b[1;32m      2\u001b[0m \u001b[0mdf\u001b[0m\u001b[0;34m[\u001b[0m\u001b[0;34m\"Longitude\"\u001b[0m\u001b[0;34m]\u001b[0m \u001b[0;34m=\u001b[0m \u001b[0mdf\u001b[0m\u001b[0;34m[\u001b[0m\u001b[0;34m\"Longitude\"\u001b[0m\u001b[0;34m]\u001b[0m\u001b[0;34m.\u001b[0m\u001b[0mapply\u001b[0m\u001b[0;34m(\u001b[0m\u001b[0mdms2dec\u001b[0m\u001b[0;34m)\u001b[0m\u001b[0;34m\u001b[0m\u001b[0;34m\u001b[0m\u001b[0m\n",
      "\u001b[0;32m~/opt/anaconda3/lib/python3.8/site-packages/pandas/core/series.py\u001b[0m in \u001b[0;36mapply\u001b[0;34m(self, func, convert_dtype, args, **kwds)\u001b[0m\n\u001b[1;32m   4136\u001b[0m             \u001b[0;32melse\u001b[0m\u001b[0;34m:\u001b[0m\u001b[0;34m\u001b[0m\u001b[0;34m\u001b[0m\u001b[0m\n\u001b[1;32m   4137\u001b[0m                 \u001b[0mvalues\u001b[0m \u001b[0;34m=\u001b[0m \u001b[0mself\u001b[0m\u001b[0;34m.\u001b[0m\u001b[0mastype\u001b[0m\u001b[0;34m(\u001b[0m\u001b[0mobject\u001b[0m\u001b[0;34m)\u001b[0m\u001b[0;34m.\u001b[0m\u001b[0m_values\u001b[0m\u001b[0;34m\u001b[0m\u001b[0;34m\u001b[0m\u001b[0m\n\u001b[0;32m-> 4138\u001b[0;31m                 \u001b[0mmapped\u001b[0m \u001b[0;34m=\u001b[0m \u001b[0mlib\u001b[0m\u001b[0;34m.\u001b[0m\u001b[0mmap_infer\u001b[0m\u001b[0;34m(\u001b[0m\u001b[0mvalues\u001b[0m\u001b[0;34m,\u001b[0m \u001b[0mf\u001b[0m\u001b[0;34m,\u001b[0m \u001b[0mconvert\u001b[0m\u001b[0;34m=\u001b[0m\u001b[0mconvert_dtype\u001b[0m\u001b[0;34m)\u001b[0m\u001b[0;34m\u001b[0m\u001b[0;34m\u001b[0m\u001b[0m\n\u001b[0m\u001b[1;32m   4139\u001b[0m \u001b[0;34m\u001b[0m\u001b[0m\n\u001b[1;32m   4140\u001b[0m         \u001b[0;32mif\u001b[0m \u001b[0mlen\u001b[0m\u001b[0;34m(\u001b[0m\u001b[0mmapped\u001b[0m\u001b[0;34m)\u001b[0m \u001b[0;32mand\u001b[0m \u001b[0misinstance\u001b[0m\u001b[0;34m(\u001b[0m\u001b[0mmapped\u001b[0m\u001b[0;34m[\u001b[0m\u001b[0;36m0\u001b[0m\u001b[0;34m]\u001b[0m\u001b[0;34m,\u001b[0m \u001b[0mSeries\u001b[0m\u001b[0;34m)\u001b[0m\u001b[0;34m:\u001b[0m\u001b[0;34m\u001b[0m\u001b[0;34m\u001b[0m\u001b[0m\n",
      "\u001b[0;32mpandas/_libs/lib.pyx\u001b[0m in \u001b[0;36mpandas._libs.lib.map_infer\u001b[0;34m()\u001b[0m\n",
      "\u001b[0;31mTypeError\u001b[0m: dms2dec() missing 2 required positional arguments: 'mn' and 'sec'"
     ]
    }
   ],
   "source": [
    "df[\"Latitude\"] = df[\"Latitude\"].apply(dms2dec)\n",
    "df[\"Longitude\"] = df[\"Longitude\"].apply(dms2dec)"
   ]
  },
  {
   "cell_type": "code",
   "execution_count": 71,
   "id": "dd6e077c",
   "metadata": {},
   "outputs": [],
   "source": [
    "df.rename({'Unnamed: 7': 'arrivé', \n",
    "           'Unnamed: 8': 'duree course','Unnamed: 13': 'Au premier','Unnamed: 13':\n",
    "           'Au précédent'}, axis=1, inplace=True)"
   ]
  },
  {
   "cell_type": "code",
   "execution_count": null,
   "id": "ee076110",
   "metadata": {},
   "outputs": [],
   "source": [
    "df.rename({'Unnamed: 18': 'orientation', \n",
    "           'Unnamed: 8': 'duree course','Unnamed: 13': 'Au premier','Unnamed: 13':\n",
    "           'Au précédent'}, axis=1, inplace=True)"
   ]
  },
  {
   "cell_type": "code",
   "execution_count": 124,
   "id": "df0e375a",
   "metadata": {},
   "outputs": [],
   "source": [
    "#on save le fichier en local \n",
    "\n",
    "df.to_csv('/Users/mec/Ludo-MEKONTCHOU/Projet final/dataconcat/dataclean.csv')"
   ]
  },
  {
   "cell_type": "code",
   "execution_count": null,
   "id": "21f943ef",
   "metadata": {},
   "outputs": [],
   "source": [
    "#recuperation des spec bateau\n",
    "\n",
    "soup = BeautifulSoup(requests.get(\"https://www.vendeeglobe.org/fr/glossaire\").content.decode(\"utf-8\"))\n",
    "\n",
    "dat=list()\n",
    "for boat in soup.find_all(\"div\", {\"class\":\"boats-list__popup-infos\"}):\n",
    "    dict_ = {\"nom bateau \":boat.find(\"h3\").text}\n",
    "    for li in boat.find_all(\"li\")[:-1]:\n",
    "        dict_[li.text.split(\":\")[0].strip()] = li.text.split(\":\")[1].strip()\n",
    "    dat.append(dict_)\n",
    "\n",
    "df_spec = pd.DataFrame(dat)\n",
    "for col in df_spec.columns:\n",
    "    df_spec[col] = df_spec[col].str.lower()\n",
    "    \n"
   ]
  },
  {
   "cell_type": "code",
   "execution_count": 36,
   "id": "76489e9e",
   "metadata": {
    "scrolled": true
   },
   "outputs": [
    {
     "name": "stdout",
     "output_type": "stream",
     "text": [
      "<class 'pandas.core.frame.DataFrame'>\n",
      "RangeIndex: 33 entries, 0 to 32\n",
      "Data columns (total 14 columns):\n",
      " #   Column                     Non-Null Count  Dtype \n",
      "---  ------                     --------------  ----- \n",
      " 0   nom bateau                 33 non-null     object\n",
      " 1   Numéro de voile            32 non-null     object\n",
      " 2   Anciens noms du bateau     33 non-null     object\n",
      " 3   Architecte                 33 non-null     object\n",
      " 4   Chantier                   33 non-null     object\n",
      " 5   Date de lancement          33 non-null     object\n",
      " 6   Longueur                   33 non-null     object\n",
      " 7   Largeur                    33 non-null     object\n",
      " 8   Tirant d'eau               33 non-null     object\n",
      " 9   Déplacement (poids)        33 non-null     object\n",
      " 10  Nombre de dérives          33 non-null     object\n",
      " 11  Hauteur mât                33 non-null     object\n",
      " 12  Voile quille               32 non-null     object\n",
      " 13  Surface de voiles au près  33 non-null     object\n",
      "dtypes: object(14)\n",
      "memory usage: 3.7+ KB\n"
     ]
    }
   ],
   "source": [
    "df_spec.info()"
   ]
  },
  {
   "cell_type": "code",
   "execution_count": 27,
   "id": "deb5c971",
   "metadata": {},
   "outputs": [],
   "source": [
    "#Copie locale du fichier des spec \n",
    "df_spec.to_csv('/Users/mec/Ludo-MEKONTCHOU/Projet final/dataconcat/boatrawexport.csv')"
   ]
  },
  {
   "cell_type": "code",
   "execution_count": 35,
   "id": "716b1935",
   "metadata": {},
   "outputs": [
    {
     "data": {
      "text/plain": [
       "list"
      ]
     },
     "execution_count": 35,
     "metadata": {},
     "output_type": "execute_result"
    }
   ],
   "source": [
    "type(df_spec['Anciens noms du bateau'][0])"
   ]
  },
  {
   "cell_type": "code",
   "execution_count": 41,
   "id": "d027f3cd",
   "metadata": {},
   "outputs": [],
   "source": [
    "#data preprocessing \n",
    "\n",
    "\n",
    "\n",
    "#conversion des données en int/float\n",
    "num_cols = ['Longueur', 'Largeur',\"Tirant d'eau\" ,'Déplacement (poids)','Hauteur mât','Surface de voiles au près']\n",
    "df_spec[num_cols] = df_spec[num_cols].apply(lambda x: x.str.replace(re.compile('m2|m²|m|t[a-z]*|nc|NC'), '').str.replace(',', '.')).apply(pd.to_numeric)\n"
   ]
  },
  {
   "cell_type": "code",
   "execution_count": 42,
   "id": "db1cdc44",
   "metadata": {},
   "outputs": [],
   "source": [
    "df_spec.rename(columns=lambda x: x.strip(), inplace=True)"
   ]
  },
  {
   "cell_type": "code",
   "execution_count": 43,
   "id": "cbeb538e",
   "metadata": {},
   "outputs": [],
   "source": [
    "df_boats[\"Numéro de voile\"] = df_boats[\"Numéro de voile\"].fillna(59)"
   ]
  },
  {
   "cell_type": "code",
   "execution_count": 46,
   "id": "f7af8672",
   "metadata": {},
   "outputs": [],
   "source": [
    "df_spec[[\"Anciens noms du bateau\", \"Voile quille\"]] = df_spec[[\"Anciens noms du bateau\", \"Voile quille\"]].replace(np.nan,'')\n"
   ]
  },
  {
   "cell_type": "code",
   "execution_count": 48,
   "id": "0ab70552",
   "metadata": {},
   "outputs": [],
   "source": [
    "df_spec[[\"Nombre de dérives\"]] = df_spec[[\"Nombre de dérives\"]].replace([\"foiler\", \"2 asymétriques\"],['foils', \"2\"])"
   ]
  },
  {
   "cell_type": "code",
   "execution_count": 47,
   "id": "dd656b1d",
   "metadata": {},
   "outputs": [
    {
     "name": "stderr",
     "output_type": "stream",
     "text": [
      "<ipython-input-47-99acc60d7348>:1: FutureWarning: The default value of regex will change from True to False in a future version.\n",
      "  df_spec['nom bateau'] = df_spec['nom bateau'].str.replace(' ', '').str.replace('[^a-zA-Z]', '').str.upper()\n"
     ]
    }
   ],
   "source": [
    "df_spec['nom bateau'] = df_spec['nom bateau'].str.replace(' ', '').str.replace('[^a-zA-Z]', '').str.upper()"
   ]
  },
  {
   "cell_type": "code",
   "execution_count": null,
   "id": "97e81ea5",
   "metadata": {},
   "outputs": [],
   "source": [
    "df_spec[\"Annee\"] = pd.to_datetime(df_spec[\"Date de lancement\"].apply(lambda x: x[-4:]), format=\"%Y\").dt.year\n"
   ]
  },
  {
   "cell_type": "code",
   "execution_count": 113,
   "id": "8c593366",
   "metadata": {},
   "outputs": [],
   "source": [
    "df_spec.rename({\"Annee\": 'annee_bateau'\n",
    "           }, axis=1, inplace=True)"
   ]
  },
  {
   "cell_type": "code",
   "execution_count": 102,
   "id": "975f6ef7",
   "metadata": {},
   "outputs": [],
   "source": [
    "df_spec = df_spec.drop(\"Date de lancement\",1)"
   ]
  },
  {
   "cell_type": "code",
   "execution_count": 104,
   "id": "f29f3aa2",
   "metadata": {},
   "outputs": [],
   "source": [
    "dict_ = {\"foiler\":\"foils\",\"2\":\"no foils\",\"2 asymétriques\":\"no foils\",\"foils\":\"foils\"}\n",
    "df_spec[\"Foils\"] = df_spec[\"Nombre de dérives\"].map(dict_)\n",
    "df_spec = df_spec.drop(\"Nombre de dérives\",1)"
   ]
  },
  {
   "cell_type": "markdown",
   "id": "d347a3b8",
   "metadata": {},
   "source": [
    "#df[\"voile\"]=df[\"voile\"].astype(int) \n",
    "type(df[\"voile\"].values.astype(int))"
   ]
  },
  {
   "cell_type": "markdown",
   "id": "cfc233e4",
   "metadata": {},
   "source": [
    "import os\n",
    "path= r\"./XLSX Users/mec/Ludo-MEKONTCHOU/Projet final/data\"\n",
    "excels=glob.glob(os.path.join(path, \"*.xlsx\"))\n",
    "files = glob.glob('/Users/mec/Ludo-MEKONTCHOU/Projet final/*.xlsx')\n",
    "df2=pd.concat((pd.read_excel(excel,header=[3, 4],) for excel in files))\n",
    "df2.head(50)"
   ]
  },
  {
   "cell_type": "code",
   "execution_count": 114,
   "id": "68a3bafc",
   "metadata": {},
   "outputs": [
    {
     "data": {
      "text/html": [
       "<div>\n",
       "<style scoped>\n",
       "    .dataframe tbody tr th:only-of-type {\n",
       "        vertical-align: middle;\n",
       "    }\n",
       "\n",
       "    .dataframe tbody tr th {\n",
       "        vertical-align: top;\n",
       "    }\n",
       "\n",
       "    .dataframe thead th {\n",
       "        text-align: right;\n",
       "    }\n",
       "</style>\n",
       "<table border=\"1\" class=\"dataframe\">\n",
       "  <thead>\n",
       "    <tr style=\"text-align: right;\">\n",
       "      <th></th>\n",
       "      <th>nom bateau</th>\n",
       "      <th>Numéro de voile</th>\n",
       "      <th>Anciens noms du bateau</th>\n",
       "      <th>Architecte</th>\n",
       "      <th>Chantier</th>\n",
       "      <th>Longueur</th>\n",
       "      <th>Largeur</th>\n",
       "      <th>Tirant d'eau</th>\n",
       "      <th>Déplacement (poids)</th>\n",
       "      <th>Hauteur mât</th>\n",
       "      <th>Voile quille</th>\n",
       "      <th>Surface de voiles au près</th>\n",
       "      <th>annee_bateau</th>\n",
       "      <th>Foils</th>\n",
       "    </tr>\n",
       "  </thead>\n",
       "  <tbody>\n",
       "    <tr>\n",
       "      <th>0</th>\n",
       "      <td>NEWRESTARTFENTRES</td>\n",
       "      <td>fra 56</td>\n",
       "      <td>[no way back,  vento di sardegna]</td>\n",
       "      <td>vplp/verdier</td>\n",
       "      <td>persico marine</td>\n",
       "      <td>18.28</td>\n",
       "      <td>5.85</td>\n",
       "      <td>4.5</td>\n",
       "      <td>7.0</td>\n",
       "      <td>29.0</td>\n",
       "      <td>monotype</td>\n",
       "      <td>320</td>\n",
       "      <td>2015</td>\n",
       "      <td>foils</td>\n",
       "    </tr>\n",
       "    <tr>\n",
       "      <th>1</th>\n",
       "      <td>PUREBESTWESTERN</td>\n",
       "      <td>fra 49</td>\n",
       "      <td>[gitana eighty,  synerciel,  newrest-matmut]</td>\n",
       "      <td>bruce farr design</td>\n",
       "      <td>southern ocean marine (nouvelle zélande)</td>\n",
       "      <td>18.28</td>\n",
       "      <td>5.80</td>\n",
       "      <td>4.5</td>\n",
       "      <td>9.0</td>\n",
       "      <td>28.0</td>\n",
       "      <td>acier forgé</td>\n",
       "      <td>280</td>\n",
       "      <td>2007</td>\n",
       "      <td>no foils</td>\n",
       "    </tr>\n",
       "    <tr>\n",
       "      <th>2</th>\n",
       "      <td>TSEMYPLANET</td>\n",
       "      <td>fra72</td>\n",
       "      <td>[famille mary-etamine du lys,  initiatives coe...</td>\n",
       "      <td>marc lombard</td>\n",
       "      <td>mag france</td>\n",
       "      <td>18.28</td>\n",
       "      <td>5.54</td>\n",
       "      <td>4.5</td>\n",
       "      <td>9.0</td>\n",
       "      <td>29.0</td>\n",
       "      <td>acier</td>\n",
       "      <td>260</td>\n",
       "      <td>1998</td>\n",
       "      <td>no foils</td>\n",
       "    </tr>\n",
       "    <tr>\n",
       "      <th>3</th>\n",
       "      <td>MATRECOQIV</td>\n",
       "      <td>17</td>\n",
       "      <td>[safran 2 - des voiles et vous]</td>\n",
       "      <td>verdier - vplp</td>\n",
       "      <td>cdk technologies</td>\n",
       "      <td>18.28</td>\n",
       "      <td>5.80</td>\n",
       "      <td>4.5</td>\n",
       "      <td>8.0</td>\n",
       "      <td>29.0</td>\n",
       "      <td>acier mécano soudé</td>\n",
       "      <td>310</td>\n",
       "      <td>2015</td>\n",
       "      <td>foils</td>\n",
       "    </tr>\n",
       "    <tr>\n",
       "      <th>4</th>\n",
       "      <td>CHARAL</td>\n",
       "      <td>08</td>\n",
       "      <td>[]</td>\n",
       "      <td>vplp</td>\n",
       "      <td>cdk technologies</td>\n",
       "      <td>18.28</td>\n",
       "      <td>5.85</td>\n",
       "      <td>4.5</td>\n",
       "      <td>8.0</td>\n",
       "      <td>29.0</td>\n",
       "      <td>acier</td>\n",
       "      <td>320</td>\n",
       "      <td>2018</td>\n",
       "      <td>foils</td>\n",
       "    </tr>\n",
       "  </tbody>\n",
       "</table>\n",
       "</div>"
      ],
      "text/plain": [
       "          nom bateau Numéro de voile  \\\n",
       "0  NEWRESTARTFENTRES          fra 56   \n",
       "1    PUREBESTWESTERN          fra 49   \n",
       "2        TSEMYPLANET           fra72   \n",
       "3         MATRECOQIV              17   \n",
       "4             CHARAL              08   \n",
       "\n",
       "                              Anciens noms du bateau         Architecte  \\\n",
       "0                  [no way back,  vento di sardegna]       vplp/verdier   \n",
       "1       [gitana eighty,  synerciel,  newrest-matmut]  bruce farr design   \n",
       "2  [famille mary-etamine du lys,  initiatives coe...       marc lombard   \n",
       "3                    [safran 2 - des voiles et vous]     verdier - vplp   \n",
       "4                                                 []               vplp   \n",
       "\n",
       "                                   Chantier  Longueur  Largeur  Tirant d'eau  \\\n",
       "0                            persico marine     18.28     5.85           4.5   \n",
       "1  southern ocean marine (nouvelle zélande)     18.28     5.80           4.5   \n",
       "2                                mag france     18.28     5.54           4.5   \n",
       "3                          cdk technologies     18.28     5.80           4.5   \n",
       "4                          cdk technologies     18.28     5.85           4.5   \n",
       "\n",
       "   Déplacement (poids)  Hauteur mât        Voile quille  \\\n",
       "0                  7.0         29.0            monotype   \n",
       "1                  9.0         28.0         acier forgé   \n",
       "2                  9.0         29.0               acier   \n",
       "3                  8.0         29.0  acier mécano soudé   \n",
       "4                  8.0         29.0               acier   \n",
       "\n",
       "   Surface de voiles au près  annee_bateau     Foils  \n",
       "0                        320          2015     foils  \n",
       "1                        280          2007  no foils  \n",
       "2                        260          1998  no foils  \n",
       "3                        310          2015     foils  \n",
       "4                        320          2018     foils  "
      ]
     },
     "execution_count": 114,
     "metadata": {},
     "output_type": "execute_result"
    }
   ],
   "source": [
    " df_spec.head()"
   ]
  },
  {
   "cell_type": "code",
   "execution_count": 125,
   "id": "0051c518",
   "metadata": {},
   "outputs": [
    {
     "data": {
      "text/html": [
       "<div>\n",
       "<style scoped>\n",
       "    .dataframe tbody tr th:only-of-type {\n",
       "        vertical-align: middle;\n",
       "    }\n",
       "\n",
       "    .dataframe tbody tr th {\n",
       "        vertical-align: top;\n",
       "    }\n",
       "\n",
       "    .dataframe thead th {\n",
       "        text-align: right;\n",
       "    }\n",
       "</style>\n",
       "<table border=\"1\" class=\"dataframe\">\n",
       "  <thead>\n",
       "    <tr style=\"text-align: right;\">\n",
       "      <th></th>\n",
       "      <th>Rank</th>\n",
       "      <th>Unnamed: 2</th>\n",
       "      <th>Unnamed: 3</th>\n",
       "      <th>Heure FR</th>\n",
       "      <th>Latitude</th>\n",
       "      <th>Longitude</th>\n",
       "      <th>Cap</th>\n",
       "      <th>Vitesse</th>\n",
       "      <th>VMG</th>\n",
       "      <th>Distance</th>\n",
       "      <th>...</th>\n",
       "      <th>Au premier</th>\n",
       "      <th>Au précédent</th>\n",
       "      <th>Au précédent</th>\n",
       "      <th>Unnamed: 15</th>\n",
       "      <th>Unnamed: 18</th>\n",
       "      <th>Country</th>\n",
       "      <th>voile</th>\n",
       "      <th>skipper</th>\n",
       "      <th>bateau</th>\n",
       "      <th>heure</th>\n",
       "    </tr>\n",
       "  </thead>\n",
       "  <tbody>\n",
       "    <tr>\n",
       "      <th>0</th>\n",
       "      <td>1</td>\n",
       "      <td>FRA 79</td>\n",
       "      <td>Charlie DalinAPIVIA</td>\n",
       "      <td>14:30 FR</td>\n",
       "      <td>41°31.42'S</td>\n",
       "      <td>09°11.14'W</td>\n",
       "      <td>68°</td>\n",
       "      <td>19.5 kts</td>\n",
       "      <td>14.6 kts</td>\n",
       "      <td>9.7 nm</td>\n",
       "      <td>...</td>\n",
       "      <td>NaN</td>\n",
       "      <td>NaN</td>\n",
       "      <td>NaN</td>\n",
       "      <td>NaN</td>\n",
       "      <td>NaN</td>\n",
       "      <td>FRA</td>\n",
       "      <td>79</td>\n",
       "      <td>Charlie Dalin</td>\n",
       "      <td>APIVIA</td>\n",
       "      <td>14:30</td>\n",
       "    </tr>\n",
       "    <tr>\n",
       "      <th>1</th>\n",
       "      <td>2</td>\n",
       "      <td>FRA 59</td>\n",
       "      <td>Thomas RuyantLinkedOut</td>\n",
       "      <td>14:30 FR</td>\n",
       "      <td>38°58.44'S</td>\n",
       "      <td>14°54.88'W</td>\n",
       "      <td>181°</td>\n",
       "      <td>13.5 kts</td>\n",
       "      <td>5.5 kts</td>\n",
       "      <td>6.8 nm</td>\n",
       "      <td>...</td>\n",
       "      <td>NaN</td>\n",
       "      <td>NaN</td>\n",
       "      <td>NaN</td>\n",
       "      <td>NaN</td>\n",
       "      <td>NaN</td>\n",
       "      <td>FRA</td>\n",
       "      <td>59</td>\n",
       "      <td>Thomas Ruyant</td>\n",
       "      <td>LINKEDOUT</td>\n",
       "      <td>14:30</td>\n",
       "    </tr>\n",
       "    <tr>\n",
       "      <th>2</th>\n",
       "      <td>3</td>\n",
       "      <td>FRA 01</td>\n",
       "      <td>Jean Le CamYes we Cam !</td>\n",
       "      <td>14:30 FR</td>\n",
       "      <td>36°17.48'S</td>\n",
       "      <td>14°48.81'W</td>\n",
       "      <td>110°</td>\n",
       "      <td>17.1 kts</td>\n",
       "      <td>16.9 kts</td>\n",
       "      <td>8.5 nm</td>\n",
       "      <td>...</td>\n",
       "      <td>NaN</td>\n",
       "      <td>NaN</td>\n",
       "      <td>NaN</td>\n",
       "      <td>NaN</td>\n",
       "      <td>NaN</td>\n",
       "      <td>FRA</td>\n",
       "      <td>01</td>\n",
       "      <td>Jean Le Cam</td>\n",
       "      <td>YESWECAM</td>\n",
       "      <td>14:30</td>\n",
       "    </tr>\n",
       "    <tr>\n",
       "      <th>3</th>\n",
       "      <td>4</td>\n",
       "      <td>FRA 17</td>\n",
       "      <td>Yannick BestavenMaître Coq IV</td>\n",
       "      <td>14:30 FR</td>\n",
       "      <td>38°01.60'S</td>\n",
       "      <td>18°23.24'W</td>\n",
       "      <td>105°</td>\n",
       "      <td>16.1 kts</td>\n",
       "      <td>15.8 kts</td>\n",
       "      <td>8.1 nm</td>\n",
       "      <td>...</td>\n",
       "      <td>NaN</td>\n",
       "      <td>NaN</td>\n",
       "      <td>NaN</td>\n",
       "      <td>NaN</td>\n",
       "      <td>NaN</td>\n",
       "      <td>FRA</td>\n",
       "      <td>17</td>\n",
       "      <td>Yannick Bestaven</td>\n",
       "      <td>MATRECOQIV</td>\n",
       "      <td>14:30</td>\n",
       "    </tr>\n",
       "    <tr>\n",
       "      <th>4</th>\n",
       "      <td>5</td>\n",
       "      <td>FRA 85</td>\n",
       "      <td>Kevin EscoffierPRB</td>\n",
       "      <td>14:30 FR</td>\n",
       "      <td>37°55.75'S</td>\n",
       "      <td>18°38.56'W</td>\n",
       "      <td>107°</td>\n",
       "      <td>17.1 kts</td>\n",
       "      <td>16.9 kts</td>\n",
       "      <td>8.6 nm</td>\n",
       "      <td>...</td>\n",
       "      <td>NaN</td>\n",
       "      <td>NaN</td>\n",
       "      <td>NaN</td>\n",
       "      <td>NaN</td>\n",
       "      <td>NaN</td>\n",
       "      <td>FRA</td>\n",
       "      <td>85</td>\n",
       "      <td>Kevin Escoffier</td>\n",
       "      <td>PRB</td>\n",
       "      <td>14:30</td>\n",
       "    </tr>\n",
       "  </tbody>\n",
       "</table>\n",
       "<p>5 rows × 38 columns</p>\n",
       "</div>"
      ],
      "text/plain": [
       "  Rank Unnamed: 2                     Unnamed: 3  Heure FR    Latitude  \\\n",
       "0    1     FRA 79            Charlie DalinAPIVIA  14:30 FR  41°31.42'S   \n",
       "1    2     FRA 59         Thomas RuyantLinkedOut  14:30 FR  38°58.44'S   \n",
       "2    3     FRA 01        Jean Le CamYes we Cam !  14:30 FR  36°17.48'S   \n",
       "3    4     FRA 17  Yannick BestavenMaître Coq IV  14:30 FR  38°01.60'S   \n",
       "4    5     FRA 85             Kevin EscoffierPRB  14:30 FR  37°55.75'S   \n",
       "\n",
       "    Longitude   Cap   Vitesse       VMG Distance  ... Au premier Au précédent  \\\n",
       "0  09°11.14'W   68°  19.5 kts  14.6 kts   9.7 nm  ...        NaN          NaN   \n",
       "1  14°54.88'W  181°  13.5 kts   5.5 kts   6.8 nm  ...        NaN          NaN   \n",
       "2  14°48.81'W  110°  17.1 kts  16.9 kts   8.5 nm  ...        NaN          NaN   \n",
       "3  18°23.24'W  105°  16.1 kts  15.8 kts   8.1 nm  ...        NaN          NaN   \n",
       "4  18°38.56'W  107°  17.1 kts  16.9 kts   8.6 nm  ...        NaN          NaN   \n",
       "\n",
       "  Au précédent Unnamed: 15 Unnamed: 18 Country voile           skipper  \\\n",
       "0          NaN         NaN         NaN     FRA    79     Charlie Dalin   \n",
       "1          NaN         NaN         NaN     FRA    59     Thomas Ruyant   \n",
       "2          NaN         NaN         NaN     FRA    01       Jean Le Cam   \n",
       "3          NaN         NaN         NaN     FRA    17  Yannick Bestaven   \n",
       "4          NaN         NaN         NaN     FRA    85   Kevin Escoffier   \n",
       "\n",
       "       bateau  heure  \n",
       "0      APIVIA  14:30  \n",
       "1   LINKEDOUT  14:30  \n",
       "2    YESWECAM  14:30  \n",
       "3  MATRECOQIV  14:30  \n",
       "4         PRB  14:30  \n",
       "\n",
       "[5 rows x 38 columns]"
      ]
     },
     "execution_count": 125,
     "metadata": {},
     "output_type": "execute_result"
    }
   ],
   "source": [
    "df.head()"
   ]
  },
  {
   "cell_type": "code",
   "execution_count": 115,
   "id": "83788ec3",
   "metadata": {},
   "outputs": [],
   "source": [
    "#Copie locale du fichier des spec \n",
    "df_spec.to_csv('/Users/mec/Ludo-MEKONTCHOU/Projet final/dataconcat/boatclean.csv')"
   ]
  },
  {
   "cell_type": "code",
   "execution_count": 134,
   "id": "23561504",
   "metadata": {},
   "outputs": [],
   "source": [
    "df_recup=pd.read_csv('/Users/mec/Ludo-MEKONTCHOU/Projet final/dataconcat/dataclean.csv')\n",
    "df=df_recup\n"
   ]
  },
  {
   "cell_type": "code",
   "execution_count": 136,
   "id": "fbea292a",
   "metadata": {},
   "outputs": [],
   "source": [
    "#merge des deux bases\n",
    "df_merged = pd.merge(df_recup,\n",
    "              df_spec,\n",
    "              left_on='bateau',\n",
    "              right_on='nom bateau',\n",
    "              how='left')\n",
    "\n",
    "\n",
    "df_merged.to_csv('/Users/mec/Ludo-MEKONTCHOU/Projet final/dataconcat/data_merged.csv')"
   ]
  },
  {
   "cell_type": "code",
   "execution_count": 139,
   "id": "50753745",
   "metadata": {},
   "outputs": [
    {
     "data": {
      "text/html": [
       "<div>\n",
       "<style scoped>\n",
       "    .dataframe tbody tr th:only-of-type {\n",
       "        vertical-align: middle;\n",
       "    }\n",
       "\n",
       "    .dataframe tbody tr th {\n",
       "        vertical-align: top;\n",
       "    }\n",
       "\n",
       "    .dataframe thead th {\n",
       "        text-align: right;\n",
       "    }\n",
       "</style>\n",
       "<table border=\"1\" class=\"dataframe\">\n",
       "  <thead>\n",
       "    <tr style=\"text-align: right;\">\n",
       "      <th></th>\n",
       "      <th>0</th>\n",
       "    </tr>\n",
       "  </thead>\n",
       "  <tbody>\n",
       "    <tr>\n",
       "      <th>Unnamed: 0</th>\n",
       "      <td>0</td>\n",
       "    </tr>\n",
       "    <tr>\n",
       "      <th>Rank</th>\n",
       "      <td>1</td>\n",
       "    </tr>\n",
       "    <tr>\n",
       "      <th>Unnamed: 2</th>\n",
       "      <td>FRA 79</td>\n",
       "    </tr>\n",
       "    <tr>\n",
       "      <th>Unnamed: 3</th>\n",
       "      <td>Charlie DalinAPIVIA</td>\n",
       "    </tr>\n",
       "    <tr>\n",
       "      <th>Heure FR</th>\n",
       "      <td>14:30 FR</td>\n",
       "    </tr>\n",
       "    <tr>\n",
       "      <th>Latitude</th>\n",
       "      <td>41°31.42'S</td>\n",
       "    </tr>\n",
       "    <tr>\n",
       "      <th>Longitude</th>\n",
       "      <td>09°11.14'W</td>\n",
       "    </tr>\n",
       "    <tr>\n",
       "      <th>Cap</th>\n",
       "      <td>68°</td>\n",
       "    </tr>\n",
       "    <tr>\n",
       "      <th>Vitesse</th>\n",
       "      <td>19.5 kts</td>\n",
       "    </tr>\n",
       "    <tr>\n",
       "      <th>VMG</th>\n",
       "      <td>14.6 kts</td>\n",
       "    </tr>\n",
       "    <tr>\n",
       "      <th>Distance</th>\n",
       "      <td>9.7 nm</td>\n",
       "    </tr>\n",
       "    <tr>\n",
       "      <th>Cap.1</th>\n",
       "      <td>76°</td>\n",
       "    </tr>\n",
       "    <tr>\n",
       "      <th>Vitesse.1</th>\n",
       "      <td>21.3 kts</td>\n",
       "    </tr>\n",
       "    <tr>\n",
       "      <th>VMG.1</th>\n",
       "      <td>17.9 kts</td>\n",
       "    </tr>\n",
       "    <tr>\n",
       "      <th>Distance.1</th>\n",
       "      <td>63.9 nm</td>\n",
       "    </tr>\n",
       "    <tr>\n",
       "      <th>Cap.2</th>\n",
       "      <td>131°</td>\n",
       "    </tr>\n",
       "    <tr>\n",
       "      <th>Vitesse.2</th>\n",
       "      <td>11.2 kts</td>\n",
       "    </tr>\n",
       "    <tr>\n",
       "      <th>VMG.2</th>\n",
       "      <td>10.9 kts</td>\n",
       "    </tr>\n",
       "    <tr>\n",
       "      <th>Distance.2</th>\n",
       "      <td>269.9 nm</td>\n",
       "    </tr>\n",
       "    <tr>\n",
       "      <th>Unnamed: 19</th>\n",
       "      <td>18580.0 nm</td>\n",
       "    </tr>\n",
       "    <tr>\n",
       "      <th>Unnamed: 20</th>\n",
       "      <td>0.0 nm</td>\n",
       "    </tr>\n",
       "    <tr>\n",
       "      <th>Unnamed: 4</th>\n",
       "      <td>NaN</td>\n",
       "    </tr>\n",
       "    <tr>\n",
       "      <th>Unnamed: 5</th>\n",
       "      <td>NaN</td>\n",
       "    </tr>\n",
       "    <tr>\n",
       "      <th>Unnamed: 6</th>\n",
       "      <td>NaN</td>\n",
       "    </tr>\n",
       "    <tr>\n",
       "      <th>arrivé</th>\n",
       "      <td>NaN</td>\n",
       "    </tr>\n",
       "    <tr>\n",
       "      <th>duree course</th>\n",
       "      <td>NaN</td>\n",
       "    </tr>\n",
       "    <tr>\n",
       "      <th>Unnamed: 9</th>\n",
       "      <td>NaN</td>\n",
       "    </tr>\n",
       "    <tr>\n",
       "      <th>Unnamed: 10</th>\n",
       "      <td>NaN</td>\n",
       "    </tr>\n",
       "    <tr>\n",
       "      <th>Unnamed: 11</th>\n",
       "      <td>NaN</td>\n",
       "    </tr>\n",
       "    <tr>\n",
       "      <th>Au premier</th>\n",
       "      <td>NaN</td>\n",
       "    </tr>\n",
       "    <tr>\n",
       "      <th>Au précédent</th>\n",
       "      <td>NaN</td>\n",
       "    </tr>\n",
       "    <tr>\n",
       "      <th>Au précédent.1</th>\n",
       "      <td>NaN</td>\n",
       "    </tr>\n",
       "    <tr>\n",
       "      <th>Unnamed: 15</th>\n",
       "      <td>NaN</td>\n",
       "    </tr>\n",
       "    <tr>\n",
       "      <th>Unnamed: 18</th>\n",
       "      <td>NaN</td>\n",
       "    </tr>\n",
       "    <tr>\n",
       "      <th>Country</th>\n",
       "      <td>FRA</td>\n",
       "    </tr>\n",
       "    <tr>\n",
       "      <th>voile</th>\n",
       "      <td>79</td>\n",
       "    </tr>\n",
       "    <tr>\n",
       "      <th>skipper</th>\n",
       "      <td>Charlie Dalin</td>\n",
       "    </tr>\n",
       "    <tr>\n",
       "      <th>bateau</th>\n",
       "      <td>APIVIA</td>\n",
       "    </tr>\n",
       "    <tr>\n",
       "      <th>heure</th>\n",
       "      <td>14:30</td>\n",
       "    </tr>\n",
       "    <tr>\n",
       "      <th>nom bateau</th>\n",
       "      <td>APIVIA</td>\n",
       "    </tr>\n",
       "    <tr>\n",
       "      <th>Numéro de voile</th>\n",
       "      <td>fra 79</td>\n",
       "    </tr>\n",
       "    <tr>\n",
       "      <th>Anciens noms du bateau</th>\n",
       "      <td>[]</td>\n",
       "    </tr>\n",
       "    <tr>\n",
       "      <th>Architecte</th>\n",
       "      <td>verdier</td>\n",
       "    </tr>\n",
       "    <tr>\n",
       "      <th>Chantier</th>\n",
       "      <td>cdk technologies - merconcept</td>\n",
       "    </tr>\n",
       "    <tr>\n",
       "      <th>Longueur</th>\n",
       "      <td>18.28</td>\n",
       "    </tr>\n",
       "    <tr>\n",
       "      <th>Largeur</th>\n",
       "      <td>5.85</td>\n",
       "    </tr>\n",
       "    <tr>\n",
       "      <th>Tirant d'eau</th>\n",
       "      <td>4.5</td>\n",
       "    </tr>\n",
       "    <tr>\n",
       "      <th>Déplacement (poids)</th>\n",
       "      <td>8.0</td>\n",
       "    </tr>\n",
       "    <tr>\n",
       "      <th>Hauteur mât</th>\n",
       "      <td>29.0</td>\n",
       "    </tr>\n",
       "    <tr>\n",
       "      <th>Voile quille</th>\n",
       "      <td>acier</td>\n",
       "    </tr>\n",
       "    <tr>\n",
       "      <th>Surface de voiles au près</th>\n",
       "      <td>350.0</td>\n",
       "    </tr>\n",
       "    <tr>\n",
       "      <th>annee_bateau</th>\n",
       "      <td>2019.0</td>\n",
       "    </tr>\n",
       "    <tr>\n",
       "      <th>Foils</th>\n",
       "      <td>foils</td>\n",
       "    </tr>\n",
       "  </tbody>\n",
       "</table>\n",
       "</div>"
      ],
      "text/plain": [
       "                                                       0\n",
       "Unnamed: 0                                             0\n",
       "Rank                                                   1\n",
       "Unnamed: 2                                        FRA 79\n",
       "Unnamed: 3                           Charlie DalinAPIVIA\n",
       "Heure FR                                        14:30 FR\n",
       "Latitude                                      41°31.42'S\n",
       "Longitude                                     09°11.14'W\n",
       "Cap                                                  68°\n",
       "Vitesse                                         19.5 kts\n",
       "VMG                                             14.6 kts\n",
       "Distance                                          9.7 nm\n",
       "Cap.1                                                76°\n",
       "Vitesse.1                                       21.3 kts\n",
       "VMG.1                                           17.9 kts\n",
       "Distance.1                                       63.9 nm\n",
       "Cap.2                                               131°\n",
       "Vitesse.2                                       11.2 kts\n",
       "VMG.2                                           10.9 kts\n",
       "Distance.2                                      269.9 nm\n",
       "Unnamed: 19                                   18580.0 nm\n",
       "Unnamed: 20                                       0.0 nm\n",
       "Unnamed: 4                                           NaN\n",
       "Unnamed: 5                                           NaN\n",
       "Unnamed: 6                                           NaN\n",
       "arrivé                                               NaN\n",
       "duree course                                         NaN\n",
       "Unnamed: 9                                           NaN\n",
       "Unnamed: 10                                          NaN\n",
       "Unnamed: 11                                          NaN\n",
       "Au premier                                           NaN\n",
       "Au précédent                                         NaN\n",
       "Au précédent.1                                       NaN\n",
       "Unnamed: 15                                          NaN\n",
       "Unnamed: 18                                          NaN\n",
       "Country                                              FRA\n",
       "voile                                                 79\n",
       "skipper                                    Charlie Dalin\n",
       "bateau                                            APIVIA\n",
       "heure                                              14:30\n",
       "nom bateau                                        APIVIA\n",
       "Numéro de voile                                   fra 79\n",
       "Anciens noms du bateau                                []\n",
       "Architecte                                       verdier\n",
       "Chantier                   cdk technologies - merconcept\n",
       "Longueur                                           18.28\n",
       "Largeur                                             5.85\n",
       "Tirant d'eau                                         4.5\n",
       "Déplacement (poids)                                  8.0\n",
       "Hauteur mât                                         29.0\n",
       "Voile quille                                       acier\n",
       "Surface de voiles au près                          350.0\n",
       "annee_bateau                                      2019.0\n",
       "Foils                                              foils"
      ]
     },
     "execution_count": 139,
     "metadata": {},
     "output_type": "execute_result"
    }
   ],
   "source": [
    "df_merged.[].T\n"
   ]
  },
  {
   "cell_type": "markdown",
   "id": "57c9ed80",
   "metadata": {},
   "source": [
    "le plus proche du premier "
   ]
  },
  {
   "cell_type": "markdown",
   "id": "76c9a587",
   "metadata": {},
   "source": [
    "prevision des positions en multivariés"
   ]
  },
  {
   "cell_type": "code",
   "execution_count": null,
   "id": "e5da66ba",
   "metadata": {},
   "outputs": [],
   "source": [
    "#influence de Fill in les valeurs manquantes \n",
    "\n",
    "# fillna backward\n",
    "var.fillna(method='bfill').head()\n",
    "# fillna forward\n",
    "var.fillna(method='ffill').head()\n",
    "\n",
    "# interpolate \n",
    "var.interpolate().head()"
   ]
  },
  {
   "cell_type": "markdown",
   "id": "4d7a787e",
   "metadata": {},
   "source": [
    "add datetime to every file \n",
    "def df_names_us():\n",
    "    dfs = []\n",
    "    for year in range(1880, 2020):\n",
    "        csv = pd.read_csv(f'names/yob{year}.txt',\n",
    "                          names=['name', 'gender', 'births'])\n",
    "        csv['year'] = year\n",
    "        dfs.append(csv)\n",
    "    df = pd.concat(dfs, ignore_index=True)\n",
    "    df = df[['year', 'name', 'gender', 'births']]\n",
    "    return df\n",
    "\n",
    "df_us = df_names_us()\n",
    "df_us.head()"
   ]
  },
  {
   "cell_type": "code",
   "execution_count": null,
   "id": "e9217168",
   "metadata": {},
   "outputs": [],
   "source": [
    "df.loc[13900,:]\n",
    "exploitation des données\n",
    "#division le dataframe en deux\n",
    "#df1=ancien format course \n",
    "#df2=nouveua format \n",
    "df.iloc[10000,:].T"
   ]
  },
  {
   "cell_type": "code",
   "execution_count": 211,
   "id": "427ce770",
   "metadata": {},
   "outputs": [
    {
     "ename": "NameError",
     "evalue": "name 'NaN' is not defined",
     "output_type": "error",
     "traceback": [
      "\u001b[0;31m---------------------------------------------------------------------------\u001b[0m",
      "\u001b[0;31mNameError\u001b[0m                                 Traceback (most recent call last)",
      "\u001b[0;32m<ipython-input-211-479cf44e931a>\u001b[0m in \u001b[0;36m<module>\u001b[0;34m\u001b[0m\n\u001b[0;32m----> 1\u001b[0;31m \u001b[0mdf1\u001b[0m\u001b[0;34m=\u001b[0m\u001b[0mdf_merged\u001b[0m\u001b[0;34m.\u001b[0m\u001b[0miloc\u001b[0m\u001b[0;34m[\u001b[0m\u001b[0mdf_merged\u001b[0m\u001b[0;34m[\u001b[0m\u001b[0;34m'arrivé'\u001b[0m\u001b[0;34m]\u001b[0m\u001b[0;34m!=\u001b[0m\u001b[0mNaN\u001b[0m\u001b[0;34m]\u001b[0m\u001b[0;34m\u001b[0m\u001b[0;34m\u001b[0m\u001b[0m\n\u001b[0m\u001b[1;32m      2\u001b[0m \u001b[0mdf2\u001b[0m\u001b[0;34m=\u001b[0m\u001b[0mdf_merged\u001b[0m\u001b[0;34m.\u001b[0m\u001b[0miloc\u001b[0m\u001b[0;34m[\u001b[0m\u001b[0;36m13894\u001b[0m\u001b[0;34m:\u001b[0m\u001b[0;34m,\u001b[0m\u001b[0;34m:\u001b[0m\u001b[0;34m]\u001b[0m\u001b[0;34m\u001b[0m\u001b[0;34m\u001b[0m\u001b[0m\n\u001b[1;32m      3\u001b[0m \u001b[0mdf2\u001b[0m\u001b[0;34m.\u001b[0m\u001b[0miloc\u001b[0m\u001b[0;34m[\u001b[0m\u001b[0;36m3\u001b[0m\u001b[0;34m]\u001b[0m\u001b[0;34m.\u001b[0m\u001b[0mT\u001b[0m\u001b[0;34m\u001b[0m\u001b[0;34m\u001b[0m\u001b[0m\n",
      "\u001b[0;31mNameError\u001b[0m: name 'NaN' is not defined"
     ]
    }
   ],
   "source": [
    "df1=df_merged.iloc[df_merged['arrivé']!=NaN]\n",
    "df2=df_merged.iloc[13894:,:]\n",
    "df2.iloc[3].T"
   ]
  },
  {
   "cell_type": "code",
   "execution_count": 214,
   "id": "70cf4c78",
   "metadata": {},
   "outputs": [
    {
     "ename": "NameError",
     "evalue": "name 'null' is not defined",
     "output_type": "error",
     "traceback": [
      "\u001b[0;31m---------------------------------------------------------------------------\u001b[0m",
      "\u001b[0;31mNameError\u001b[0m                                 Traceback (most recent call last)",
      "\u001b[0;32m<ipython-input-214-7ece43ea36e4>\u001b[0m in \u001b[0;36m<module>\u001b[0;34m\u001b[0m\n\u001b[0;32m----> 1\u001b[0;31m \u001b[0mdf_merged\u001b[0m\u001b[0;34m[\u001b[0m\u001b[0;34m'arrivé'\u001b[0m\u001b[0;34m]\u001b[0m\u001b[0;34m!=\u001b[0m\u001b[0mnull\u001b[0m\u001b[0;34m\u001b[0m\u001b[0;34m\u001b[0m\u001b[0m\n\u001b[0m",
      "\u001b[0;31mNameError\u001b[0m: name 'null' is not defined"
     ]
    }
   ],
   "source": [
    "df_merged['arrivé']!=null"
   ]
  },
  {
   "cell_type": "code",
   "execution_count": 162,
   "id": "dc87b4b4",
   "metadata": {},
   "outputs": [],
   "source": [
    "#dernier fichier \n",
    "df_end = pd.read_excel(\"/Users/mec/Ludo-MEKONTCHOU/Projet final/excels/20210305_080000.xlsx\",nrows=33,header=3)\n",
    "df_end =df_end.dropna(axis=1, how=\"all\")\n"
   ]
  },
  {
   "cell_type": "code",
   "execution_count": 163,
   "id": "7f338a50",
   "metadata": {},
   "outputs": [
    {
     "data": {
      "text/html": [
       "<div>\n",
       "<style scoped>\n",
       "    .dataframe tbody tr th:only-of-type {\n",
       "        vertical-align: middle;\n",
       "    }\n",
       "\n",
       "    .dataframe tbody tr th {\n",
       "        vertical-align: top;\n",
       "    }\n",
       "\n",
       "    .dataframe thead th {\n",
       "        text-align: right;\n",
       "    }\n",
       "</style>\n",
       "<table border=\"1\" class=\"dataframe\">\n",
       "  <thead>\n",
       "    <tr style=\"text-align: right;\">\n",
       "      <th></th>\n",
       "      <th>Unnamed: 1</th>\n",
       "      <th>Unnamed: 2</th>\n",
       "      <th>Unnamed: 3</th>\n",
       "      <th>Unnamed: 7</th>\n",
       "      <th>Unnamed: 8</th>\n",
       "      <th>Unnamed: 13</th>\n",
       "      <th>Unnamed: 15</th>\n",
       "      <th>Vitesse\\nSpeed</th>\n",
       "      <th>Distance\\nDistance</th>\n",
       "      <th>Unnamed: 18</th>\n",
       "      <th>Vitesse\\nSpeed.1</th>\n",
       "      <th>Distance\\nDistance.1</th>\n",
       "    </tr>\n",
       "  </thead>\n",
       "  <tbody>\n",
       "    <tr>\n",
       "      <th>0</th>\n",
       "      <td>1\\nARV</td>\n",
       "      <td>\\nFRA 17</td>\n",
       "      <td>Yannick Bestaven\\nMaître Coq IV</td>\n",
       "      <td>28/01/2021 04:19:46 FR</td>\n",
       "      <td>80j 03h 44min 46s\\n-10h 15min 00s</td>\n",
       "      <td>NaN</td>\n",
       "      <td>NaN</td>\n",
       "      <td>12.6 kts</td>\n",
       "      <td>24365.7 nm</td>\n",
       "      <td>117.3 %</td>\n",
       "      <td>14.8 kts</td>\n",
       "      <td>28583.8 nm</td>\n",
       "    </tr>\n",
       "    <tr>\n",
       "      <th>1</th>\n",
       "      <td>2\\nARV</td>\n",
       "      <td>\\nFRA 79</td>\n",
       "      <td>Charlie Dalin\\nAPIVIA</td>\n",
       "      <td>27/01/2021 20:35:47 FR</td>\n",
       "      <td>80j 06h 15min 47s\\n</td>\n",
       "      <td>02h 31min 01s</td>\n",
       "      <td>02h 31min 01s</td>\n",
       "      <td>12.6 kts</td>\n",
       "      <td>24365.7 nm</td>\n",
       "      <td>119.6 %</td>\n",
       "      <td>15.1 kts</td>\n",
       "      <td>29135.0 nm</td>\n",
       "    </tr>\n",
       "    <tr>\n",
       "      <th>2</th>\n",
       "      <td>3\\nARV</td>\n",
       "      <td>\\nFRA 18</td>\n",
       "      <td>Louis Burton\\nBureau Vallée 2</td>\n",
       "      <td>28/01/2021 00:45:12 FR</td>\n",
       "      <td>80j 10h 25min 12s\\n</td>\n",
       "      <td>06h 40min 26s</td>\n",
       "      <td>04h 09min 25s</td>\n",
       "      <td>12.6 kts</td>\n",
       "      <td>24365.7 nm</td>\n",
       "      <td>117.6 %</td>\n",
       "      <td>14.8 kts</td>\n",
       "      <td>28650.0 nm</td>\n",
       "    </tr>\n",
       "    <tr>\n",
       "      <th>3</th>\n",
       "      <td>4\\nARV</td>\n",
       "      <td>\\nFRA 01</td>\n",
       "      <td>Jean Le Cam\\nYes we Cam !</td>\n",
       "      <td>28/01/2021 20:19:55 FR</td>\n",
       "      <td>80j 13h 44min 55s\\n-16h 15min 00s</td>\n",
       "      <td>10h 00min 09s</td>\n",
       "      <td>03h 19min 43s</td>\n",
       "      <td>12.5 kts</td>\n",
       "      <td>24365.7 nm</td>\n",
       "      <td>112.9 %</td>\n",
       "      <td>14.1 kts</td>\n",
       "      <td>27501.5 nm</td>\n",
       "    </tr>\n",
       "    <tr>\n",
       "      <th>4</th>\n",
       "      <td>5\\nARV</td>\n",
       "      <td>\\nMON 10</td>\n",
       "      <td>Boris Herrmann\\nSeaexplorer - Yacht Club De Mo...</td>\n",
       "      <td>28/01/2021 11:19:45 FR</td>\n",
       "      <td>80j 14h 59min 45s\\n-06h 00min 00s</td>\n",
       "      <td>11h 14min 59s</td>\n",
       "      <td>01h 14min 50s</td>\n",
       "      <td>12.6 kts</td>\n",
       "      <td>24365.7 nm</td>\n",
       "      <td>116.8 %</td>\n",
       "      <td>14.7 kts</td>\n",
       "      <td>28448.5 nm</td>\n",
       "    </tr>\n",
       "  </tbody>\n",
       "</table>\n",
       "</div>"
      ],
      "text/plain": [
       "  Unnamed: 1 Unnamed: 2                                         Unnamed: 3  \\\n",
       "0     1\\nARV   \\nFRA 17                    Yannick Bestaven\\nMaître Coq IV   \n",
       "1     2\\nARV   \\nFRA 79                              Charlie Dalin\\nAPIVIA   \n",
       "2     3\\nARV   \\nFRA 18                      Louis Burton\\nBureau Vallée 2   \n",
       "3     4\\nARV   \\nFRA 01                          Jean Le Cam\\nYes we Cam !   \n",
       "4     5\\nARV   \\nMON 10  Boris Herrmann\\nSeaexplorer - Yacht Club De Mo...   \n",
       "\n",
       "               Unnamed: 7                         Unnamed: 8    Unnamed: 13  \\\n",
       "0  28/01/2021 04:19:46 FR  80j 03h 44min 46s\\n-10h 15min 00s            NaN   \n",
       "1  27/01/2021 20:35:47 FR                80j 06h 15min 47s\\n  02h 31min 01s   \n",
       "2  28/01/2021 00:45:12 FR                80j 10h 25min 12s\\n  06h 40min 26s   \n",
       "3  28/01/2021 20:19:55 FR  80j 13h 44min 55s\\n-16h 15min 00s  10h 00min 09s   \n",
       "4  28/01/2021 11:19:45 FR  80j 14h 59min 45s\\n-06h 00min 00s  11h 14min 59s   \n",
       "\n",
       "     Unnamed: 15 Vitesse\\nSpeed Distance\\nDistance Unnamed: 18  \\\n",
       "0            NaN       12.6 kts         24365.7 nm     117.3 %   \n",
       "1  02h 31min 01s       12.6 kts         24365.7 nm     119.6 %   \n",
       "2  04h 09min 25s       12.6 kts         24365.7 nm     117.6 %   \n",
       "3  03h 19min 43s       12.5 kts         24365.7 nm     112.9 %   \n",
       "4  01h 14min 50s       12.6 kts         24365.7 nm     116.8 %   \n",
       "\n",
       "  Vitesse\\nSpeed.1 Distance\\nDistance.1  \n",
       "0         14.8 kts           28583.8 nm  \n",
       "1         15.1 kts           29135.0 nm  \n",
       "2         14.8 kts           28650.0 nm  \n",
       "3         14.1 kts           27501.5 nm  \n",
       "4         14.7 kts           28448.5 nm  "
      ]
     },
     "execution_count": 163,
     "metadata": {},
     "output_type": "execute_result"
    }
   ],
   "source": [
    "df_end.head()"
   ]
  },
  {
   "cell_type": "markdown",
   "id": "b1dbb870",
   "metadata": {},
   "source": [
    "Exploitation des données "
   ]
  },
  {
   "cell_type": "markdown",
   "id": "4ce3cc3c",
   "metadata": {},
   "source": [
    "Durée du trajet sur le rang "
   ]
  },
  {
   "cell_type": "code",
   "execution_count": 215,
   "id": "4f3dfd75",
   "metadata": {},
   "outputs": [
    {
     "data": {
      "text/html": [
       "<div>\n",
       "<style scoped>\n",
       "    .dataframe tbody tr th:only-of-type {\n",
       "        vertical-align: middle;\n",
       "    }\n",
       "\n",
       "    .dataframe tbody tr th {\n",
       "        vertical-align: top;\n",
       "    }\n",
       "\n",
       "    .dataframe thead th {\n",
       "        text-align: right;\n",
       "    }\n",
       "</style>\n",
       "<table border=\"1\" class=\"dataframe\">\n",
       "  <thead>\n",
       "    <tr style=\"text-align: right;\">\n",
       "      <th></th>\n",
       "      <th>Unnamed: 0</th>\n",
       "      <th>Rank</th>\n",
       "      <th>Unnamed: 2</th>\n",
       "      <th>Unnamed: 3</th>\n",
       "      <th>Heure FR</th>\n",
       "      <th>Latitude</th>\n",
       "      <th>Longitude</th>\n",
       "      <th>Cap</th>\n",
       "      <th>Vitesse</th>\n",
       "      <th>VMG</th>\n",
       "      <th>...</th>\n",
       "      <th>Chantier</th>\n",
       "      <th>Longueur</th>\n",
       "      <th>Largeur</th>\n",
       "      <th>Tirant d'eau</th>\n",
       "      <th>Déplacement (poids)</th>\n",
       "      <th>Hauteur mât</th>\n",
       "      <th>Voile quille</th>\n",
       "      <th>Surface de voiles au près</th>\n",
       "      <th>annee_bateau</th>\n",
       "      <th>Foils</th>\n",
       "    </tr>\n",
       "  </thead>\n",
       "  <tbody>\n",
       "    <tr>\n",
       "      <th>0</th>\n",
       "      <td>0</td>\n",
       "      <td>1</td>\n",
       "      <td>FRA 79</td>\n",
       "      <td>Charlie DalinAPIVIA</td>\n",
       "      <td>14:30 FR</td>\n",
       "      <td>41°31.42'S</td>\n",
       "      <td>09°11.14'W</td>\n",
       "      <td>68°</td>\n",
       "      <td>19.5 kts</td>\n",
       "      <td>14.6 kts</td>\n",
       "      <td>...</td>\n",
       "      <td>cdk technologies - merconcept</td>\n",
       "      <td>18.28</td>\n",
       "      <td>5.85</td>\n",
       "      <td>4.5</td>\n",
       "      <td>8.0</td>\n",
       "      <td>29.0</td>\n",
       "      <td>acier</td>\n",
       "      <td>350.0</td>\n",
       "      <td>2019.0</td>\n",
       "      <td>foils</td>\n",
       "    </tr>\n",
       "    <tr>\n",
       "      <th>1</th>\n",
       "      <td>1</td>\n",
       "      <td>2</td>\n",
       "      <td>FRA 59</td>\n",
       "      <td>Thomas RuyantLinkedOut</td>\n",
       "      <td>14:30 FR</td>\n",
       "      <td>38°58.44'S</td>\n",
       "      <td>14°54.88'W</td>\n",
       "      <td>181°</td>\n",
       "      <td>13.5 kts</td>\n",
       "      <td>5.5 kts</td>\n",
       "      <td>...</td>\n",
       "      <td>persico</td>\n",
       "      <td>18.28</td>\n",
       "      <td>5.85</td>\n",
       "      <td>4.5</td>\n",
       "      <td>8.0</td>\n",
       "      <td>29.0</td>\n",
       "      <td>acier forgé</td>\n",
       "      <td>350.0</td>\n",
       "      <td>2019.0</td>\n",
       "      <td>foils</td>\n",
       "    </tr>\n",
       "    <tr>\n",
       "      <th>2</th>\n",
       "      <td>2</td>\n",
       "      <td>3</td>\n",
       "      <td>FRA 01</td>\n",
       "      <td>Jean Le CamYes we Cam !</td>\n",
       "      <td>14:30 FR</td>\n",
       "      <td>36°17.48'S</td>\n",
       "      <td>14°48.81'W</td>\n",
       "      <td>110°</td>\n",
       "      <td>17.1 kts</td>\n",
       "      <td>16.9 kts</td>\n",
       "      <td>...</td>\n",
       "      <td>cdk technologies</td>\n",
       "      <td>18.28</td>\n",
       "      <td>5.90</td>\n",
       "      <td>4.5</td>\n",
       "      <td>8.0</td>\n",
       "      <td>28.0</td>\n",
       "      <td>acier forgé</td>\n",
       "      <td>300.0</td>\n",
       "      <td>2007.0</td>\n",
       "      <td>no foils</td>\n",
       "    </tr>\n",
       "    <tr>\n",
       "      <th>3</th>\n",
       "      <td>3</td>\n",
       "      <td>4</td>\n",
       "      <td>FRA 17</td>\n",
       "      <td>Yannick BestavenMaître Coq IV</td>\n",
       "      <td>14:30 FR</td>\n",
       "      <td>38°01.60'S</td>\n",
       "      <td>18°23.24'W</td>\n",
       "      <td>105°</td>\n",
       "      <td>16.1 kts</td>\n",
       "      <td>15.8 kts</td>\n",
       "      <td>...</td>\n",
       "      <td>cdk technologies</td>\n",
       "      <td>18.28</td>\n",
       "      <td>5.80</td>\n",
       "      <td>4.5</td>\n",
       "      <td>8.0</td>\n",
       "      <td>29.0</td>\n",
       "      <td>acier mécano soudé</td>\n",
       "      <td>310.0</td>\n",
       "      <td>2015.0</td>\n",
       "      <td>foils</td>\n",
       "    </tr>\n",
       "    <tr>\n",
       "      <th>4</th>\n",
       "      <td>4</td>\n",
       "      <td>5</td>\n",
       "      <td>FRA 85</td>\n",
       "      <td>Kevin EscoffierPRB</td>\n",
       "      <td>14:30 FR</td>\n",
       "      <td>37°55.75'S</td>\n",
       "      <td>18°38.56'W</td>\n",
       "      <td>107°</td>\n",
       "      <td>17.1 kts</td>\n",
       "      <td>16.9 kts</td>\n",
       "      <td>...</td>\n",
       "      <td>cdk technologies</td>\n",
       "      <td>18.28</td>\n",
       "      <td>5.50</td>\n",
       "      <td>4.5</td>\n",
       "      <td>NaN</td>\n",
       "      <td>27.4</td>\n",
       "      <td>acier mécano soudé</td>\n",
       "      <td>300.0</td>\n",
       "      <td>2010.0</td>\n",
       "      <td>foils</td>\n",
       "    </tr>\n",
       "  </tbody>\n",
       "</table>\n",
       "<p>5 rows × 53 columns</p>\n",
       "</div>"
      ],
      "text/plain": [
       "   Unnamed: 0 Rank Unnamed: 2                     Unnamed: 3  Heure FR  \\\n",
       "0           0    1     FRA 79            Charlie DalinAPIVIA  14:30 FR   \n",
       "1           1    2     FRA 59         Thomas RuyantLinkedOut  14:30 FR   \n",
       "2           2    3     FRA 01        Jean Le CamYes we Cam !  14:30 FR   \n",
       "3           3    4     FRA 17  Yannick BestavenMaître Coq IV  14:30 FR   \n",
       "4           4    5     FRA 85             Kevin EscoffierPRB  14:30 FR   \n",
       "\n",
       "     Latitude   Longitude   Cap   Vitesse       VMG  ...  \\\n",
       "0  41°31.42'S  09°11.14'W   68°  19.5 kts  14.6 kts  ...   \n",
       "1  38°58.44'S  14°54.88'W  181°  13.5 kts   5.5 kts  ...   \n",
       "2  36°17.48'S  14°48.81'W  110°  17.1 kts  16.9 kts  ...   \n",
       "3  38°01.60'S  18°23.24'W  105°  16.1 kts  15.8 kts  ...   \n",
       "4  37°55.75'S  18°38.56'W  107°  17.1 kts  16.9 kts  ...   \n",
       "\n",
       "                        Chantier Longueur Largeur Tirant d'eau  \\\n",
       "0  cdk technologies - merconcept    18.28    5.85          4.5   \n",
       "1                        persico    18.28    5.85          4.5   \n",
       "2               cdk technologies    18.28    5.90          4.5   \n",
       "3               cdk technologies    18.28    5.80          4.5   \n",
       "4               cdk technologies    18.28    5.50          4.5   \n",
       "\n",
       "  Déplacement (poids) Hauteur mât        Voile quille  \\\n",
       "0                 8.0        29.0               acier   \n",
       "1                 8.0        29.0         acier forgé   \n",
       "2                 8.0        28.0         acier forgé   \n",
       "3                 8.0        29.0  acier mécano soudé   \n",
       "4                 NaN        27.4  acier mécano soudé   \n",
       "\n",
       "  Surface de voiles au près annee_bateau     Foils  \n",
       "0                     350.0       2019.0     foils  \n",
       "1                     350.0       2019.0     foils  \n",
       "2                     300.0       2007.0  no foils  \n",
       "3                     310.0       2015.0     foils  \n",
       "4                     300.0       2010.0     foils  \n",
       "\n",
       "[5 rows x 53 columns]"
      ]
     },
     "execution_count": 215,
     "metadata": {},
     "output_type": "execute_result"
    }
   ],
   "source": [
    "df_merged.head()"
   ]
  },
  {
   "cell_type": "code",
   "execution_count": null,
   "id": "da9eb8ed",
   "metadata": {},
   "outputs": [],
   "source": [
    "Tableau de fin de course avec les vitesse moyenne et distance moyenne "
   ]
  },
  {
   "cell_type": "code",
   "execution_count": null,
   "id": "4c0d58de",
   "metadata": {},
   "outputs": [],
   "source": [
    "df_vitess = pd.DataFrame(df.groupby(['Skipper', 'Nombre de dérives', 'Longueur', 'Largeur', \"Tirant d'eau\",\n",
    "                                     'Déplacement (poids)', 'Hauteur mât',\n",
    "                                     'Surface de voiles au près', 'Surface de voiles au portant'])['depuis_24h_Vitesse'].mean())\n",
    "df_v_mean.reset_index(inplace=True)\n",
    "\n",
    "\n",
    "\n"
   ]
  },
  {
   "cell_type": "markdown",
   "id": "979c1639",
   "metadata": {},
   "source": [
    "Vitesse sur le rang "
   ]
  },
  {
   "cell_type": "code",
   "execution_count": null,
   "id": "9754318e",
   "metadata": {},
   "outputs": [],
   "source": []
  },
  {
   "cell_type": "markdown",
   "id": "b56f7e5c",
   "metadata": {},
   "source": [
    "Année du bateau "
   ]
  },
  {
   "cell_type": "code",
   "execution_count": null,
   "id": "0735cf27",
   "metadata": {},
   "outputs": [],
   "source": []
  },
  {
   "cell_type": "code",
   "execution_count": null,
   "id": "e5f993ce",
   "metadata": {},
   "outputs": [],
   "source": [
    "Expérience du pilote sur le rang "
   ]
  },
  {
   "cell_type": "code",
   "execution_count": null,
   "id": "40b14862",
   "metadata": {},
   "outputs": [],
   "source": []
  },
  {
   "cell_type": "markdown",
   "id": "10bbbb10",
   "metadata": {},
   "source": [
    "prevision des positions en multivariés"
   ]
  },
  {
   "cell_type": "code",
   "execution_count": null,
   "id": "a9551020",
   "metadata": {},
   "outputs": [],
   "source": []
  },
  {
   "cell_type": "markdown",
   "id": "2ad03265",
   "metadata": {},
   "source": [
    "Correlation vitesse et autres caracteristiques "
   ]
  },
  {
   "cell_type": "code",
   "execution_count": null,
   "id": "8fc556ff",
   "metadata": {},
   "outputs": [],
   "source": [
    "\n",
    "fig, axes = plt.subplots(2, 3, figsize=(18, 10))\n",
    "\n",
    "fig.suptitle('Average speed in function of some boats caracteristics')\n",
    "\n",
    "sns.barplot(ax=axes[0, 0], data=df_v_mean, x=\"Nombre de dérives\", y='depuis_24h_Vitesse', ci=None)\n",
    "sns.barplot(ax=axes[0, 1], data=df_v_mean, x=\"Largeur\", y='depuis_24h_Vitesse', hue=\"Nombre de dérives\", ci=None)\n",
    "sns.barplot(ax=axes[0, 2], data=df_v_mean, x=\"Hauteur mât\", y='depuis_24h_Vitesse', hue=\"Nombre de dérives\", ci=None)\n",
    "sns.barplot(ax=axes[1, 0], data=df_v_mean, x=\"Surface de voiles au près\", y='depuis_24h_Vitesse', hue=\"Nombre de dérives\", ci=None)\n",
    "sns.barplot(ax=axes[1, 1], data=df_v_mean, x=\"Surface de voiles au portant\", y='depuis_24h_Vitesse', hue=\"Nombre de dérives\", ci=None)\n",
    "sns.barplot(ax=axes[1, 2], data=df_v_mean, x=\"Déplacement (poids)\", y='depuis_24h_Vitesse', hue=\"Nombre de dérives\", ci=None)\n",
    "\n",
    "plt.show()\n"
   ]
  }
 ],
 "metadata": {
  "kernelspec": {
   "display_name": "Python 3",
   "language": "python",
   "name": "python3"
  },
  "language_info": {
   "codemirror_mode": {
    "name": "ipython",
    "version": 3
   },
   "file_extension": ".py",
   "mimetype": "text/x-python",
   "name": "python",
   "nbconvert_exporter": "python",
   "pygments_lexer": "ipython3",
   "version": "3.8.8"
  }
 },
 "nbformat": 4,
 "nbformat_minor": 5
}
