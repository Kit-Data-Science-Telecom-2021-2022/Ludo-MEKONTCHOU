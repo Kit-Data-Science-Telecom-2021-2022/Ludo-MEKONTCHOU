{
 "cells": [
  {
   "cell_type": "code",
   "execution_count": 1,
   "id": "bb99f0a1",
   "metadata": {},
   "outputs": [],
   "source": [
    "import os\n",
    "import re\n",
    "import locale \n",
    "\n",
    "\n",
    "\n",
    "\n",
    "import pandas as pd \n",
    "import requests\n",
    "import wget\n",
    "import csv\n",
    "import time\n",
    "import datetime\n",
    "import xlwings as xw\n",
    "import openpyxl"
   ]
  },
  {
   "cell_type": "code",
   "execution_count": 18,
   "id": "07711642",
   "metadata": {},
   "outputs": [
    {
     "name": "stdout",
     "output_type": "stream",
     "text": [
      "Requirement already satisfied: openpyxl==2.2.0 in /Users/mec/opt/anaconda3/lib/python3.8/site-packages (2.2.0)\n",
      "Requirement already satisfied: jdcal in /Users/mec/opt/anaconda3/lib/python3.8/site-packages (from openpyxl==2.2.0) (1.4.1)\n",
      "Note: you may need to restart the kernel to use updated packages.\n"
     ]
    }
   ],
   "source": [
    "pip install openpyxl==2.2.0\n"
   ]
  },
  {
   "cell_type": "code",
   "execution_count": 19,
   "id": "73a38ef4",
   "metadata": {},
   "outputs": [
    {
     "name": "stdout",
     "output_type": "stream",
     "text": [
      "1.2.4\n"
     ]
    }
   ],
   "source": [
    "print(pd.__version__)"
   ]
  },
  {
   "cell_type": "code",
   "execution_count": 23,
   "id": "0d2a956a",
   "metadata": {},
   "outputs": [
    {
     "name": "stdout",
     "output_type": "stream",
     "text": [
      "\u001b[33mWARNING: Retrying (Retry(total=4, connect=None, read=None, redirect=None, status=None)) after connection broken by 'ReadTimeoutError(\"HTTPSConnectionPool(host='pypi.org', port=443): Read timed out. (read timeout=15)\")': /simple/pandas/\u001b[0m\n",
      "\u001b[33mWARNING: Retrying (Retry(total=3, connect=None, read=None, redirect=None, status=None)) after connection broken by 'ReadTimeoutError(\"HTTPSConnectionPool(host='pypi.org', port=443): Read timed out. (read timeout=15)\")': /simple/pandas/\u001b[0m\n",
      "\u001b[33mWARNING: Retrying (Retry(total=2, connect=None, read=None, redirect=None, status=None)) after connection broken by 'ReadTimeoutError(\"HTTPSConnectionPool(host='pypi.org', port=443): Read timed out. (read timeout=15)\")': /simple/pandas/\u001b[0m\n",
      "\u001b[33mWARNING: Retrying (Retry(total=1, connect=None, read=None, redirect=None, status=None)) after connection broken by 'ReadTimeoutError(\"HTTPSConnectionPool(host='pypi.org', port=443): Read timed out. (read timeout=15)\")': /simple/pandas/\u001b[0m\n",
      "\u001b[33mWARNING: Retrying (Retry(total=0, connect=None, read=None, redirect=None, status=None)) after connection broken by 'ReadTimeoutError(\"HTTPSConnectionPool(host='pypi.org', port=443): Read timed out. (read timeout=15)\")': /simple/pandas/\u001b[0m\n",
      "\u001b[31mERROR: Could not find a version that satisfies the requirement pandas==3.5.0\u001b[0m\n",
      "\u001b[31mERROR: No matching distribution found for pandas==3.5.0\u001b[0m\n",
      "Note: you may need to restart the kernel to use updated packages.\n"
     ]
    }
   ],
   "source": []
  },
  {
   "cell_type": "markdown",
   "id": "e593c50f",
   "metadata": {},
   "source": [
    "1.0. Définition des liens et répertoires"
   ]
  },
  {
   "cell_type": "code",
   "execution_count": 2,
   "id": "9e46fc62",
   "metadata": {},
   "outputs": [],
   "source": [
    "RankURL = \"https://www.vendeeglobe.org/fr/classement\"\n",
    "DLRankURL = \"https://www.vendeeglobe.org/download-race-data/vendeeglobe_\"\n",
    "SkippersURL = \"https://www.vendeeglobe.org/fr/glossaire\""
   ]
  },
  {
   "cell_type": "markdown",
   "id": "649da439",
   "metadata": {},
   "source": [
    "Web scrapping Data "
   ]
  },
  {
   "cell_type": "code",
   "execution_count": 136,
   "id": "e90ca01d",
   "metadata": {},
   "outputs": [],
   "source": [
    "def load_data():\n",
    "    df=(is_downloadable('http:vendeeglobe.org/fr/classement/20201108_120200'))\n",
    "    #df = pd.read_csv('vendeeglobe.org/fr/classement/20201108_120200')\n",
    "    return df"
   ]
  },
  {
   "cell_type": "code",
   "execution_count": 137,
   "id": "5822ce41",
   "metadata": {},
   "outputs": [],
   "source": [
    "def is_downloadable(url):\n",
    "    \"\"\"\n",
    "    Does the url contain a downloadable resource\n",
    "    \"\"\"\n",
    "    h = requests.head(url, allow_redirects=True)\n",
    "    header = h.headers\n",
    "    content_type = header.get('content-type')\n",
    "    if 'text' in content_type.lower():\n",
    "        return False\n",
    "    if 'html' in content_type.lower():\n",
    "        return False\n",
    "    return True"
   ]
  },
  {
   "cell_type": "markdown",
   "id": "6b167fda",
   "metadata": {},
   "source": [
    "output_directory = \"/Users/mec/Ludo-MEKONTCHOU/Projet final/data\"\n",
    "st = datetime.datetime(2020,11, 8,14,0,0)\n",
    "end = datetime.datetime(2021,1, 27,0,0,0)\n",
    "time_change = datetime.timedelta(hours=1)\n",
    "name_files=[]\n",
    "while st <= end:\n",
    "    url='https://www.vendeeglobe.org/download-race-data/vendeeglobe_'+st.strftime(\"%Y%m%d_%H%M%S\")+'.xlsx'\n",
    "    if is_downloadable(url):\n",
    "        vendee1 = wget.download(url, out=output_directory)\n",
    "    print(url)\n",
    "    names_files.append(url)\n",
    "    st += time_change\n",
    "    \n",
    "    "
   ]
  },
  {
   "cell_type": "code",
   "execution_count": 22,
   "id": "4575f0ce",
   "metadata": {},
   "outputs": [],
   "source": [
    "#xls = pd.ExcelFile('data/vendeeglobe_20201202_140000.xlsx')\n",
    "#sheet1 = xls.parse(0)"
   ]
  },
  {
   "cell_type": "markdown",
   "id": "90b75028",
   "metadata": {},
   "source": [
    "Changement du format des data "
   ]
  },
  {
   "cell_type": "markdown",
   "id": "d58b362d",
   "metadata": {},
   "source": [
    "import xlwings\n",
    "import glob\n",
    "\n",
    "def Conv_format (file_name):\n",
    "    excel_app=xlwings.App(visible=False)\n",
    "    excel_book=excel_app.books.open(file)\n",
    "    excel_book.save()\n",
    "    excel_book.close()\n",
    "    excel_app.quit()\n",
    "    return True\n",
    "    \n",
    "for f in glob.glob(\"/Users/mec/Ludo-MEKONTCHOU/Projet final/data/*\"):\n",
    "    Conv_format(f)\n",
    "\n",
    "\n",
    "\n",
    "\n",
    "\n",
    "\n"
   ]
  },
  {
   "cell_type": "markdown",
   "id": "2c29a298",
   "metadata": {},
   "source": [
    "contatenation des données "
   ]
  },
  {
   "cell_type": "markdown",
   "id": "13f2a020",
   "metadata": {},
   "source": [
    "from openpyxl import load_workbook\n",
    "import pandas as pd\n",
    "wb = load_workbook(filename=xl_file_path)\n",
    "row_values = lambda row: [cell.value for cell in row]\n",
    "values = [row_values(row) for row in wb['fr'].rows]\n",
    "df = pd.DataFrame(values)"
   ]
  },
  {
   "cell_type": "code",
   "execution_count": 2,
   "id": "8cdc74f3",
   "metadata": {
    "scrolled": false
   },
   "outputs": [
    {
     "ename": "NameError",
     "evalue": "name 'pd' is not defined",
     "output_type": "error",
     "traceback": [
      "\u001b[0;31m---------------------------------------------------------------------------\u001b[0m",
      "\u001b[0;31mNameError\u001b[0m                                 Traceback (most recent call last)",
      "\u001b[0;32m<ipython-input-2-b1160b20292d>\u001b[0m in \u001b[0;36m<module>\u001b[0;34m\u001b[0m\n\u001b[1;32m      3\u001b[0m \u001b[0mdf\u001b[0m\u001b[0;34m=\u001b[0m\u001b[0;34m[\u001b[0m\u001b[0;34m]\u001b[0m\u001b[0;34m\u001b[0m\u001b[0;34m\u001b[0m\u001b[0m\n\u001b[1;32m      4\u001b[0m \u001b[0;31m#df=pd.concat(pd.read_excel(excel,header=4,nrows=33,usecols=(\"B:U\")) for excel in files)\u001b[0m\u001b[0;34m\u001b[0m\u001b[0;34m\u001b[0m\u001b[0;34m\u001b[0m\u001b[0m\n\u001b[0;32m----> 5\u001b[0;31m \u001b[0mdf\u001b[0m\u001b[0;34m=\u001b[0m\u001b[0mpd\u001b[0m\u001b[0;34m.\u001b[0m\u001b[0mconcat\u001b[0m\u001b[0;34m(\u001b[0m\u001b[0;34m(\u001b[0m\u001b[0mpd\u001b[0m\u001b[0;34m.\u001b[0m\u001b[0mread_excel\u001b[0m\u001b[0;34m(\u001b[0m\u001b[0mexcel\u001b[0m\u001b[0;34m,\u001b[0m\u001b[0mheader\u001b[0m\u001b[0;34m=\u001b[0m\u001b[0;36m4\u001b[0m\u001b[0;34m,\u001b[0m\u001b[0musecols\u001b[0m\u001b[0;34m=\u001b[0m\u001b[0;34m(\u001b[0m\u001b[0;34m\"B:U\"\u001b[0m\u001b[0;34m)\u001b[0m\u001b[0;34m)\u001b[0m \u001b[0;32mfor\u001b[0m \u001b[0mexcel\u001b[0m \u001b[0;32min\u001b[0m \u001b[0mfiles\u001b[0m\u001b[0;34m)\u001b[0m\u001b[0;34m)\u001b[0m\u001b[0;34m\u001b[0m\u001b[0;34m\u001b[0m\u001b[0m\n\u001b[0m\u001b[1;32m      6\u001b[0m \u001b[0mdf\u001b[0m\u001b[0;34m.\u001b[0m\u001b[0mhead\u001b[0m\u001b[0;34m(\u001b[0m\u001b[0;36m5\u001b[0m\u001b[0;34m)\u001b[0m\u001b[0;34m\u001b[0m\u001b[0;34m\u001b[0m\u001b[0m\n",
      "\u001b[0;31mNameError\u001b[0m: name 'pd' is not defined"
     ]
    }
   ],
   "source": [
    "import glob\n",
    "files = glob.glob('/Users/mec/Ludo-MEKONTCHOU/Projet final/excels/*.xlsx')\n",
    "df=[]\n",
    "#df=pd.concat(pd.read_excel(excel,header=4,nrows=33,usecols=(\"B:U\")) for excel in files)\n",
    "df=pd.concat((pd.read_excel(excel,header=4,usecols=(\"B:U\")) for excel in files))\n",
    "df.head(5)"
   ]
  },
  {
   "cell_type": "code",
   "execution_count": 8,
   "id": "dfe63c3a",
   "metadata": {},
   "outputs": [
    {
     "ename": "AttributeError",
     "evalue": "'list' object has no attribute 'describe'",
     "output_type": "error",
     "traceback": [
      "\u001b[0;31m---------------------------------------------------------------------------\u001b[0m",
      "\u001b[0;31mAttributeError\u001b[0m                            Traceback (most recent call last)",
      "\u001b[0;32m<ipython-input-8-ab545e235235>\u001b[0m in \u001b[0;36m<module>\u001b[0;34m\u001b[0m\n\u001b[0;32m----> 1\u001b[0;31m \u001b[0mdf\u001b[0m\u001b[0;34m.\u001b[0m\u001b[0mdescribe\u001b[0m\u001b[0;34m(\u001b[0m\u001b[0;34m)\u001b[0m\u001b[0;34m.\u001b[0m\u001b[0mT\u001b[0m\u001b[0;34m\u001b[0m\u001b[0;34m\u001b[0m\u001b[0m\n\u001b[0m",
      "\u001b[0;31mAttributeError\u001b[0m: 'list' object has no attribute 'describe'"
     ]
    }
   ],
   "source": [
    "df.describe().T"
   ]
  },
  {
   "cell_type": "code",
   "execution_count": 206,
   "id": "538e27ec",
   "metadata": {},
   "outputs": [
    {
     "ename": "AttributeError",
     "evalue": "'DataFrame' object has no attribute 'str'",
     "output_type": "error",
     "traceback": [
      "\u001b[0;31m---------------------------------------------------------------------------\u001b[0m",
      "\u001b[0;31mAttributeError\u001b[0m                            Traceback (most recent call last)",
      "\u001b[0;32m<ipython-input-206-c06024f12f18>\u001b[0m in \u001b[0;36m<module>\u001b[0;34m\u001b[0m\n\u001b[1;32m      7\u001b[0m \u001b[0;31m#df[[\"nat\",\"voile\"]]=df[\"natvoile\"].str.split(\" \", expand=True)\u001b[0m\u001b[0;34m\u001b[0m\u001b[0;34m\u001b[0m\u001b[0;34m\u001b[0m\u001b[0m\n\u001b[1;32m      8\u001b[0m \u001b[0;34m\u001b[0m\u001b[0m\n\u001b[0;32m----> 9\u001b[0;31m \u001b[0mdf\u001b[0m\u001b[0;34m[\u001b[0m\u001b[0;34m\"nat\"\u001b[0m\u001b[0;34m]\u001b[0m\u001b[0;34m=\u001b[0m\u001b[0mdf\u001b[0m\u001b[0;34m[\u001b[0m\u001b[0;34m\"Nat. / Voile\\nNat. / Sail\"\u001b[0m\u001b[0;34m]\u001b[0m\u001b[0;34m.\u001b[0m\u001b[0mstr\u001b[0m\u001b[0;34m.\u001b[0m\u001b[0msplit\u001b[0m\u001b[0;34m(\u001b[0m\u001b[0;34m\" \"\u001b[0m\u001b[0;34m,\u001b[0m \u001b[0mexpand\u001b[0m\u001b[0;34m=\u001b[0m\u001b[0;32mTrue\u001b[0m\u001b[0;34m)\u001b[0m\u001b[0;34m[\u001b[0m\u001b[0;36m0\u001b[0m\u001b[0;34m]\u001b[0m\u001b[0;34m\u001b[0m\u001b[0;34m\u001b[0m\u001b[0m\n\u001b[0m\u001b[1;32m     10\u001b[0m \u001b[0mdf\u001b[0m\u001b[0;34m[\u001b[0m\u001b[0;34m\"voile\"\u001b[0m\u001b[0;34m]\u001b[0m\u001b[0;34m=\u001b[0m\u001b[0mdf\u001b[0m\u001b[0;34m[\u001b[0m\u001b[0;34m\"natvoile\"\u001b[0m\u001b[0;34m]\u001b[0m\u001b[0;34m.\u001b[0m\u001b[0mstr\u001b[0m\u001b[0;34m.\u001b[0m\u001b[0msplit\u001b[0m\u001b[0;34m(\u001b[0m\u001b[0;34m\" \"\u001b[0m\u001b[0;34m,\u001b[0m \u001b[0mexpand\u001b[0m\u001b[0;34m=\u001b[0m\u001b[0;32mTrue\u001b[0m\u001b[0;34m)\u001b[0m\u001b[0;34m[\u001b[0m\u001b[0;36m1\u001b[0m\u001b[0;34m]\u001b[0m\u001b[0;34m\u001b[0m\u001b[0;34m\u001b[0m\u001b[0m\n\u001b[1;32m     11\u001b[0m \u001b[0mdf\u001b[0m\u001b[0;34m[\u001b[0m\u001b[0;34m\"skipper\"\u001b[0m\u001b[0;34m]\u001b[0m\u001b[0;34m=\u001b[0m\u001b[0mdf\u001b[0m\u001b[0;34m[\u001b[0m\u001b[0;34m\"Unnamed: 3\"\u001b[0m\u001b[0;34m]\u001b[0m\u001b[0;34m.\u001b[0m\u001b[0mstr\u001b[0m\u001b[0;34m.\u001b[0m\u001b[0msplit\u001b[0m\u001b[0;34m(\u001b[0m\u001b[0;34m\"\\n\"\u001b[0m\u001b[0;34m)\u001b[0m\u001b[0;34m.\u001b[0m\u001b[0mapply\u001b[0m\u001b[0;34m(\u001b[0m\u001b[0;32mlambda\u001b[0m \u001b[0mx\u001b[0m\u001b[0;34m:\u001b[0m \u001b[0mx\u001b[0m\u001b[0;34m[\u001b[0m\u001b[0;36m0\u001b[0m\u001b[0;34m]\u001b[0m \u001b[0;32mif\u001b[0m \u001b[0misinstance\u001b[0m\u001b[0;34m(\u001b[0m\u001b[0mx\u001b[0m\u001b[0;34m,\u001b[0m\u001b[0mlist\u001b[0m\u001b[0;34m)\u001b[0m \u001b[0;32melse\u001b[0m \u001b[0mx\u001b[0m\u001b[0;34m)\u001b[0m\u001b[0;34m\u001b[0m\u001b[0;34m\u001b[0m\u001b[0m\n",
      "\u001b[0;32m~/opt/anaconda3/lib/python3.8/site-packages/pandas/core/generic.py\u001b[0m in \u001b[0;36m__getattr__\u001b[0;34m(self, name)\u001b[0m\n\u001b[1;32m   5463\u001b[0m             \u001b[0;32mif\u001b[0m \u001b[0mself\u001b[0m\u001b[0;34m.\u001b[0m\u001b[0m_info_axis\u001b[0m\u001b[0;34m.\u001b[0m\u001b[0m_can_hold_identifiers_and_holds_name\u001b[0m\u001b[0;34m(\u001b[0m\u001b[0mname\u001b[0m\u001b[0;34m)\u001b[0m\u001b[0;34m:\u001b[0m\u001b[0;34m\u001b[0m\u001b[0;34m\u001b[0m\u001b[0m\n\u001b[1;32m   5464\u001b[0m                 \u001b[0;32mreturn\u001b[0m \u001b[0mself\u001b[0m\u001b[0;34m[\u001b[0m\u001b[0mname\u001b[0m\u001b[0;34m]\u001b[0m\u001b[0;34m\u001b[0m\u001b[0;34m\u001b[0m\u001b[0m\n\u001b[0;32m-> 5465\u001b[0;31m             \u001b[0;32mreturn\u001b[0m \u001b[0mobject\u001b[0m\u001b[0;34m.\u001b[0m\u001b[0m__getattribute__\u001b[0m\u001b[0;34m(\u001b[0m\u001b[0mself\u001b[0m\u001b[0;34m,\u001b[0m \u001b[0mname\u001b[0m\u001b[0;34m)\u001b[0m\u001b[0;34m\u001b[0m\u001b[0;34m\u001b[0m\u001b[0m\n\u001b[0m\u001b[1;32m   5466\u001b[0m \u001b[0;34m\u001b[0m\u001b[0m\n\u001b[1;32m   5467\u001b[0m     \u001b[0;32mdef\u001b[0m \u001b[0m__setattr__\u001b[0m\u001b[0;34m(\u001b[0m\u001b[0mself\u001b[0m\u001b[0;34m,\u001b[0m \u001b[0mname\u001b[0m\u001b[0;34m:\u001b[0m \u001b[0mstr\u001b[0m\u001b[0;34m,\u001b[0m \u001b[0mvalue\u001b[0m\u001b[0;34m)\u001b[0m \u001b[0;34m->\u001b[0m \u001b[0;32mNone\u001b[0m\u001b[0;34m:\u001b[0m\u001b[0;34m\u001b[0m\u001b[0;34m\u001b[0m\u001b[0m\n",
      "\u001b[0;31mAttributeError\u001b[0m: 'DataFrame' object has no attribute 'str'"
     ]
    }
   ],
   "source": [
    "#data preparocessing \n",
    "df=df.dropna(axis=1,how=\"all\")\n",
    "#df.columns=[re.sub(r'\\W+','',\\\n",
    "#            ' '.join([x.split(\"\\n\")[0] if x.split(\"\\n\")[0] and \"Unnamed\" not in x else \"\" if \"Unnamed\" in x else x for x in y])\n",
    "#]\n",
    "#df[\"natvoile\"]=df[\"Unnamed: 2\"]\n",
    "#df[[\"nat\",\"voile\"]]=df[\"natvoile\"].str.split(\" \", expand=True)\n",
    "\n",
    "df[\"nat\"]=df[\"Nat. / Voile\\nNat. / Sail\"].str.split(\" \", expand=True)[0]\n",
    "df[\"voile\"]=df[\"natvoile\"].str.split(\" \", expand=True)[1]\n",
    "df[\"skipper\"]=df[\"Unnamed: 3\"].str.split(\"\\n\").apply(lambda x: x[0] if isinstance(x,list) else x)\n",
    "df[\"bateau\"]=df[\"Unnamed: 3\"].str.split(\"\\n\", expand=True)[1]\n",
    "df[\"bateau\"]=df[\"bateau\"].str.lower()\n",
    "df[\"heure\"]=df[\"Heure FR\\nHour FR\"].str.split(\"\\n\", expand=True)[0]\n",
    "df[\"heure\"]=df[\"Heure FR\\nHour FR\"].str.split(\" \").apply(lambda x: x[0] if isinstance(x,list) else x)\n",
    "\n",
    "\n",
    "\n",
    "for col in df.columns :\n",
    "    df[col]=df[col].str.strip()\n",
    "    \n",
    "   \n",
    "    \n",
    "df.head()\n"
   ]
  },
  {
   "cell_type": "markdown",
   "id": "cfc233e4",
   "metadata": {},
   "source": [
    "import os\n",
    "path= r\"./XLSX Users/mec/Ludo-MEKONTCHOU/Projet final/data\"\n",
    "excels=glob.glob(os.path.join(path, \"*.xlsx\"))\n",
    "files = glob.glob('/Users/mec/Ludo-MEKONTCHOU/Projet final/*.xlsx')\n",
    "df2=pd.concat((pd.read_excel(excel,header=[3, 4],) for excel in files))\n",
    "df2.head(50)"
   ]
  },
  {
   "cell_type": "code",
   "execution_count": 32,
   "id": "f41aeb4a",
   "metadata": {},
   "outputs": [],
   "source": [
    "df3=pd.read_excel(url,header=[3, 4] )"
   ]
  },
  {
   "cell_type": "code",
   "execution_count": 75,
   "id": "c70dbbe0",
   "metadata": {},
   "outputs": [
    {
     "ename": "NameError",
     "evalue": "name 'geo' is not defined",
     "output_type": "error",
     "traceback": [
      "\u001b[0;31m---------------------------------------------------------------------------\u001b[0m",
      "\u001b[0;31mNameError\u001b[0m                                 Traceback (most recent call last)",
      "\u001b[0;32m<ipython-input-75-e3291ac3365c>\u001b[0m in \u001b[0;36m<module>\u001b[0;34m\u001b[0m\n\u001b[0;32m----> 1\u001b[0;31m \u001b[0mgeo\u001b[0m\u001b[0;34m[\u001b[0m\u001b[0;34m\"Commune\"\u001b[0m\u001b[0;34m]\u001b[0m\u001b[0;34m.\u001b[0m\u001b[0mstr\u001b[0m\u001b[0;34m.\u001b[0m\u001b[0mstartswith\u001b[0m\u001b[0;34m(\u001b[0m\u001b[0;34m\"B\"\u001b[0m\u001b[0;34m)\u001b[0m\u001b[0;34m\u001b[0m\u001b[0;34m\u001b[0m\u001b[0m\n\u001b[0m",
      "\u001b[0;31mNameError\u001b[0m: name 'geo' is not defined"
     ]
    }
   ],
   "source": [
    "geo[\"Commune\"].str.startswith(\"B\")"
   ]
  },
  {
   "cell_type": "code",
   "execution_count": null,
   "id": "68a3bafc",
   "metadata": {},
   "outputs": [],
   "source": [
    "geo.head(1).T"
   ]
  },
  {
   "cell_type": "code",
   "execution_count": null,
   "id": "83788ec3",
   "metadata": {},
   "outputs": [],
   "source": [
    "geo.index"
   ]
  },
  {
   "cell_type": "code",
   "execution_count": null,
   "id": "3d4ed262",
   "metadata": {},
   "outputs": [],
   "source": [
    "geo = geo.set_index('Commune') s.loc[s.str.startswith(\"SAINT\")]"
   ]
  },
  {
   "cell_type": "markdown",
   "id": "bef1ed61",
   "metadata": {},
   "source": [
    "geo.index.is_unique\n"
   ]
  },
  {
   "cell_type": "markdown",
   "id": "57c9ed80",
   "metadata": {},
   "source": [
    "le plus proche du premier "
   ]
  },
  {
   "cell_type": "markdown",
   "id": "76c9a587",
   "metadata": {},
   "source": [
    "prevision des positions en multivariés"
   ]
  },
  {
   "cell_type": "code",
   "execution_count": null,
   "id": "e5da66ba",
   "metadata": {},
   "outputs": [],
   "source": [
    "#influence de Fill in les valeurs manquantes \n",
    "\n",
    "# fillna backward\n",
    "var.fillna(method='bfill').head()\n",
    "# fillna forward\n",
    "var.fillna(method='ffill').head()\n",
    "\n",
    "# interpolate \n",
    "var.interpolate().head()"
   ]
  },
  {
   "cell_type": "markdown",
   "id": "4d7a787e",
   "metadata": {},
   "source": [
    "add datetime to every file \n",
    "def df_names_us():\n",
    "    dfs = []\n",
    "    for year in range(1880, 2020):\n",
    "        csv = pd.read_csv(f'names/yob{year}.txt',\n",
    "                          names=['name', 'gender', 'births'])\n",
    "        csv['year'] = year\n",
    "        dfs.append(csv)\n",
    "    df = pd.concat(dfs, ignore_index=True)\n",
    "    df = df[['year', 'name', 'gender', 'births']]\n",
    "    return df\n",
    "\n",
    "df_us = df_names_us()\n",
    "df_us.head()"
   ]
  },
  {
   "cell_type": "code",
   "execution_count": null,
   "id": "e9217168",
   "metadata": {},
   "outputs": [],
   "source": []
  }
 ],
 "metadata": {
  "kernelspec": {
   "display_name": "Python 3",
   "language": "python",
   "name": "python3"
  },
  "language_info": {
   "codemirror_mode": {
    "name": "ipython",
    "version": 3
   },
   "file_extension": ".py",
   "mimetype": "text/x-python",
   "name": "python",
   "nbconvert_exporter": "python",
   "pygments_lexer": "ipython3",
   "version": "3.8.8"
  }
 },
 "nbformat": 4,
 "nbformat_minor": 5
}
